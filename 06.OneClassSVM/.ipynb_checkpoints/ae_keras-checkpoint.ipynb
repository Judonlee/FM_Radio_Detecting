{
 "cells": [
  {
   "cell_type": "markdown",
   "metadata": {
    "toc": true
   },
   "source": [
    "<h1>Table of Contents<span class=\"tocSkip\"></span></h1>\n",
    "<div class=\"toc\"><ul class=\"toc-item\"><li><span><a href=\"#以有说话声数据作为训练，以噪声数据作为测试\" data-toc-modified-id=\"以有说话声数据作为训练，以噪声数据作为测试-1\"><span class=\"toc-item-num\">1&nbsp;&nbsp;</span>以有说话声数据作为训练，以噪声数据作为测试</a></span><ul class=\"toc-item\"><li><span><a href=\"#导如所依赖的包和函数\" data-toc-modified-id=\"导如所依赖的包和函数-1.1\"><span class=\"toc-item-num\">1.1&nbsp;&nbsp;</span>导如所依赖的包和函数</a></span></li><li><span><a href=\"#提取特征的函数和归一化函数\" data-toc-modified-id=\"提取特征的函数和归一化函数-1.2\"><span class=\"toc-item-num\">1.2&nbsp;&nbsp;</span>提取特征的函数和归一化函数</a></span></li><li><span><a href=\"#提取用于训练数据的特征\" data-toc-modified-id=\"提取用于训练数据的特征-1.3\"><span class=\"toc-item-num\">1.3&nbsp;&nbsp;</span>提取用于训练数据的特征</a></span></li><li><span><a href=\"#加载用于训练的特征\" data-toc-modified-id=\"加载用于训练的特征-1.4\"><span class=\"toc-item-num\">1.4&nbsp;&nbsp;</span>加载用于训练的特征</a></span></li><li><span><a href=\"#定义模型及参数\" data-toc-modified-id=\"定义模型及参数-1.5\"><span class=\"toc-item-num\">1.5&nbsp;&nbsp;</span>定义模型及参数</a></span></li><li><span><a href=\"#训练模型\" data-toc-modified-id=\"训练模型-1.6\"><span class=\"toc-item-num\">1.6&nbsp;&nbsp;</span>训练模型</a></span></li><li><span><a href=\"#将训练数据送到模型中查看其对应的打分值（损失值，loss）\" data-toc-modified-id=\"将训练数据送到模型中查看其对应的打分值（损失值，loss）-1.7\"><span class=\"toc-item-num\">1.7&nbsp;&nbsp;</span>将训练数据送到模型中查看其对应的打分值（损失值，loss）</a></span></li><li><span><a href=\"#提取用于测试数据（噪声音频）的特征\" data-toc-modified-id=\"提取用于测试数据（噪声音频）的特征-1.8\"><span class=\"toc-item-num\">1.8&nbsp;&nbsp;</span>提取用于测试数据（噪声音频）的特征</a></span></li><li><span><a href=\"#将说话声（训练数据）的打分与噪声的打分花在直方图上进行对比\" data-toc-modified-id=\"将说话声（训练数据）的打分与噪声的打分花在直方图上进行对比-1.9\"><span class=\"toc-item-num\">1.9&nbsp;&nbsp;</span>将说话声（训练数据）的打分与噪声的打分花在直方图上进行对比</a></span></li><li><span><a href=\"#以FM的下的211个音频来测试（87-108）\" data-toc-modified-id=\"以FM的下的211个音频来测试（87-108）-1.10\"><span class=\"toc-item-num\">1.10&nbsp;&nbsp;</span>以FM的下的211个音频来测试（87-108）</a></span></li><li><span><a href=\"#加载模型的代码\" data-toc-modified-id=\"加载模型的代码-1.11\"><span class=\"toc-item-num\">1.11&nbsp;&nbsp;</span>加载模型的代码</a></span></li></ul></li><li><span><a href=\"#以噪声数据作为训练，以有说话声数据作为测试\" data-toc-modified-id=\"以噪声数据作为训练，以有说话声数据作为测试-2\"><span class=\"toc-item-num\">2&nbsp;&nbsp;</span>以噪声数据作为训练，以有说话声数据作为测试</a></span></li><li><span><a href=\"#用87到108的音频数据测试\" data-toc-modified-id=\"用87到108的音频数据测试-3\"><span class=\"toc-item-num\">3&nbsp;&nbsp;</span>用87到108的音频数据测试</a></span></li><li><span><a href=\"#一条音频一天音频地加载\" data-toc-modified-id=\"一条音频一天音频地加载-4\"><span class=\"toc-item-num\">4&nbsp;&nbsp;</span>一条音频一天音频地加载</a></span></li></ul></div>"
   ]
  },
  {
   "cell_type": "markdown",
   "metadata": {},
   "source": [
    "# 以有说话声数据作为训练，以噪声数据作为测试\n"
   ]
  },
  {
   "cell_type": "markdown",
   "metadata": {},
   "source": [
    "## 导如所依赖的包和函数"
   ]
  },
  {
   "cell_type": "code",
   "execution_count": 1,
   "metadata": {
    "ExecuteTime": {
     "end_time": "2019-05-07T03:29:17.222048Z",
     "start_time": "2019-05-07T03:29:16.441548Z"
    }
   },
   "outputs": [
    {
     "name": "stderr",
     "output_type": "stream",
     "text": [
      "Using TensorFlow backend.\n"
     ]
    }
   ],
   "source": [
    "# encoding = utf-8\n",
    "import numpy as np\n",
    "import matplotlib.pyplot as plt\n",
    "import random\n",
    "\n",
    "import scipy.io.wavfile as wav\n",
    "from python_speech_features import sigproc, mfcc, delta\n",
    "from utility import *\n",
    "from proj_paths import *\n",
    "from settings import *\n",
    "\n",
    "import keras\n",
    "from keras.layers import Input\n",
    "from keras.models import Model\n",
    "from keras.layers import Dense, Activation, Dropout\n",
    "from keras.optimizers import SGD, Adam, RMSprop"
   ]
  },
  {
   "cell_type": "markdown",
   "metadata": {},
   "source": [
    "## 提取特征的函数和归一化函数\n",
    "\n",
    "提取MFCC的最大最小均值方差，每一段音频的特征为156=（13×4+13×4+13×4）"
   ]
  },
  {
   "cell_type": "code",
   "execution_count": 2,
   "metadata": {
    "ExecuteTime": {
     "end_time": "2019-05-07T03:29:22.179778Z",
     "start_time": "2019-05-07T03:29:22.159107Z"
    }
   },
   "outputs": [],
   "source": [
    "def extract(sig):\n",
    "    # framing\n",
    "    sig_frames = sigproc.framesig(sig=sig, frame_len=FRAME_LENGTH, frame_step=FRAME_STEP)\n",
    "    \n",
    "    feat = []\n",
    "\n",
    "    def calc_all_feat(feat_coeffs):\n",
    "        feat.extend(feat_coeffs.max(axis=0))\n",
    "        feat.extend(feat_coeffs.min(axis=0))\n",
    "        feat.extend(feat_coeffs.mean(axis=0))\n",
    "        feat.extend(feat_coeffs.var(axis=0))\n",
    "\n",
    "    # region calculate mfcc features\n",
    "    mfcc_feat = mfcc(signal=sig_frames, samplerate=SAMPLE_RATE, winlen=WINDOW_LENGTH, winstep=WINDOW_STEP,\n",
    "                     numcep=13, preemph=PRE_EMPH, winfunc=WINDOW_FUNCTION)\n",
    "    mfcc_feat_delta = delta(mfcc_feat, 20)\n",
    "    mfcc_feat_delta_delta = delta(mfcc_feat_delta, 20)\n",
    "\n",
    "    calc_all_feat(mfcc_feat)\n",
    "\n",
    "    calc_all_feat(mfcc_feat_delta)\n",
    "\n",
    "    calc_all_feat(mfcc_feat_delta_delta)\n",
    "\n",
    "    # endregion\n",
    "\n",
    "#     # region calculate zero cross rating\n",
    "#     def zcr(frames):\n",
    "#         def sign(x):\n",
    "#             return 1 if x >= 0 else -1\n",
    "\n",
    "#         zc_rates = []\n",
    "#         for frame in frames:\n",
    "#             zc_rate = 0\n",
    "#             for i in range(1, len(frame)):\n",
    "#                 zc_rate += abs(sign(frame[i]) - sign(frame[i - 1])) / 2\n",
    "#             zc_rates.append(zc_rate / len(frame))\n",
    "#         return zc_rates\n",
    "\n",
    "#     zcrs = zcr(sig_frames)\n",
    "#     calc_all_feat(np.array([zcrs]).reshape(len(zcrs), 1))\n",
    "#     # endregion\n",
    "\n",
    "#     # region calculate energy\n",
    "#     def energy(frames, eta):\n",
    "#         energys = []\n",
    "#         for frame in frames:\n",
    "#             energy = 1 / len(frame) * np.sum(np.power(frame, 2))\n",
    "#             energys.append(energy)\n",
    "#         return energys\n",
    "\n",
    "#     energys = energy(sig_frames, 0)\n",
    "#     calc_all_feat(np.array([energys]).reshape(len(energys), 1))\n",
    "#     # endregion\n",
    "    \n",
    "    return feat\n",
    "\n",
    "def normalize_frames(m, Scale=True):\n",
    "    if Scale:\n",
    "        return (m - np.mean(m, axis=0))/(np.std(m, axis=0)+2e-12)\n",
    "    else:\n",
    "        return (m - np.mean(m, axis=0))"
   ]
  },
  {
   "cell_type": "markdown",
   "metadata": {},
   "source": [
    "## 提取用于训练数据的特征"
   ]
  },
  {
   "cell_type": "code",
   "execution_count": 21,
   "metadata": {
    "ExecuteTime": {
     "end_time": "2019-05-07T02:51:31.340022Z",
     "start_time": "2019-05-07T02:50:55.741729Z"
    }
   },
   "outputs": [
    {
     "name": "stderr",
     "output_type": "stream",
     "text": [
      "[                                                                        ]   0%\r"
     ]
    },
    {
     "name": "stdout",
     "output_type": "stream",
     "text": [
      "Extracting features ...\n"
     ]
    },
    {
     "name": "stderr",
     "output_type": "stream",
     "text": [
      "[========================================================================] 100%\r"
     ]
    },
    {
     "name": "stdout",
     "output_type": "stream",
     "text": [
      "Done.\n"
     ]
    },
    {
     "name": "stderr",
     "output_type": "stream",
     "text": [
      "\n"
     ]
    }
   ],
   "source": [
    "import progressbar\n",
    "\n",
    "bar = progressbar.ProgressBar(maxval=len(collect_files(SVM_DATA_SET_PATH)),\n",
    "                              widgets=[progressbar.Bar('=', '[', ']'), ' ', progressbar.Percentage()])\n",
    "bar.start()\n",
    "print(\"Extracting features ...\")\n",
    "features = []\n",
    "\n",
    "for i, (raw_file_name, joined_file_path) in enumerate(collect_files(SVM_DATA_SET_PATH)):\n",
    "    _, sig = wav.read(joined_file_path)\n",
    "    fea = extract(sig)\n",
    "    feats = normalize_frames(np.array(fea))\n",
    "    features.append(feats)\n",
    "    bar.update(i + 1)\n",
    "\n",
    "bar.finish()\n",
    "print(\"Done.\")\n",
    "\n",
    "save(features, SVM_FEATURES_NAME, \".\")"
   ]
  },
  {
   "cell_type": "markdown",
   "metadata": {},
   "source": [
    "## 加载用于训练的特征"
   ]
  },
  {
   "cell_type": "code",
   "execution_count": 3,
   "metadata": {
    "ExecuteTime": {
     "end_time": "2019-05-07T03:29:34.996378Z",
     "start_time": "2019-05-07T03:29:34.983030Z"
    }
   },
   "outputs": [
    {
     "name": "stdout",
     "output_type": "stream",
     "text": [
      "(357, 156)\n"
     ]
    }
   ],
   "source": [
    "speech_fe = load('SPEECH_FEA')\n",
    "\n",
    "# print(speech_fe)\n",
    "\n",
    "print(np.array(speech_fe).shape)\n",
    "\n",
    "speech_fe = np.array(speech_fe)"
   ]
  },
  {
   "cell_type": "markdown",
   "metadata": {},
   "source": [
    "## 定义模型及参数"
   ]
  },
  {
   "cell_type": "code",
   "execution_count": 4,
   "metadata": {
    "ExecuteTime": {
     "end_time": "2019-05-07T03:29:38.541908Z",
     "start_time": "2019-05-07T03:29:38.448323Z"
    }
   },
   "outputs": [
    {
     "name": "stdout",
     "output_type": "stream",
     "text": [
      "WARNING:tensorflow:From /home/zhudong/.virtualenvs/tf_keras_py3/lib/python3.6/site-packages/tensorflow/python/framework/op_def_library.py:263: colocate_with (from tensorflow.python.framework.ops) is deprecated and will be removed in a future version.\n",
      "Instructions for updating:\n",
      "Colocations handled automatically by placer.\n",
      "_________________________________________________________________\n",
      "Layer (type)                 Output Shape              Param #   \n",
      "=================================================================\n",
      "input_1 (InputLayer)         (None, 156)               0         \n",
      "_________________________________________________________________\n",
      "dense_1 (Dense)              (None, 256)               40192     \n",
      "_________________________________________________________________\n",
      "dense_2 (Dense)              (None, 256)               65792     \n",
      "_________________________________________________________________\n",
      "dense_3 (Dense)              (None, 256)               65792     \n",
      "_________________________________________________________________\n",
      "dense_4 (Dense)              (None, 256)               65792     \n",
      "_________________________________________________________________\n",
      "dense_5 (Dense)              (None, 256)               65792     \n",
      "_________________________________________________________________\n",
      "dense_6 (Dense)              (None, 256)               65792     \n",
      "_________________________________________________________________\n",
      "dense_7 (Dense)              (None, 256)               65792     \n",
      "_________________________________________________________________\n",
      "dense_8 (Dense)              (None, 156)               40092     \n",
      "=================================================================\n",
      "Total params: 475,036\n",
      "Trainable params: 475,036\n",
      "Non-trainable params: 0\n",
      "_________________________________________________________________\n",
      "_________________________________________________________________\n",
      "Layer (type)                 Output Shape              Param #   \n",
      "=================================================================\n",
      "input_1 (InputLayer)         (None, 156)               0         \n",
      "_________________________________________________________________\n",
      "dense_1 (Dense)              (None, 256)               40192     \n",
      "_________________________________________________________________\n",
      "dense_2 (Dense)              (None, 256)               65792     \n",
      "_________________________________________________________________\n",
      "dense_3 (Dense)              (None, 256)               65792     \n",
      "_________________________________________________________________\n",
      "dense_4 (Dense)              (None, 256)               65792     \n",
      "=================================================================\n",
      "Total params: 237,568\n",
      "Trainable params: 237,568\n",
      "Non-trainable params: 0\n",
      "_________________________________________________________________\n"
     ]
    }
   ],
   "source": [
    "\n",
    "encoding_dim = 256\n",
    "decoding_dim = 156\n",
    "input_img = Input(shape=(decoding_dim,))\n",
    "\n",
    "# 编码层\n",
    "encoded = Dense(encoding_dim, activation='relu')(input_img)\n",
    "encoded = Dense(encoding_dim, activation='relu')(encoded)\n",
    "encoded = Dense(encoding_dim, activation='relu')(encoded)\n",
    "encoder_output = Dense(encoding_dim)(encoded)\n",
    "\n",
    "# 解码层\n",
    "decoded = Dense(encoding_dim, activation='relu')(encoder_output)\n",
    "decoded = Dense(encoding_dim, activation='relu')(decoded)\n",
    "decoded = Dense(encoding_dim, activation='relu')(decoded)\n",
    "decoded = Dense(decoding_dim)(decoded)\n",
    "# 构建自编码模型\n",
    "autoencoder = Model(inputs=input_img, outputs=decoded)\n",
    "\n",
    "# 构建编码模型\n",
    "encoder = Model(inputs=input_img, outputs=encoder_output)\n",
    "\n",
    "# compile autoencoder\n",
    "# adam = Adam(lr=0.001, beta_1=0.9, beta_2=0.9, epsilon=1e-08, amsgrad=True)\n",
    "autoencoder.compile(optimizer='adam', loss='mse')\n",
    "\n",
    "autoencoder.summary()\n",
    "encoder.summary()"
   ]
  },
  {
   "cell_type": "markdown",
   "metadata": {},
   "source": [
    "## 训练模型"
   ]
  },
  {
   "cell_type": "code",
   "execution_count": 5,
   "metadata": {
    "ExecuteTime": {
     "end_time": "2019-05-07T03:29:47.565207Z",
     "start_time": "2019-05-07T03:29:45.540068Z"
    }
   },
   "outputs": [
    {
     "name": "stdout",
     "output_type": "stream",
     "text": [
      "WARNING:tensorflow:From /home/zhudong/.virtualenvs/tf_keras_py3/lib/python3.6/site-packages/tensorflow/python/ops/math_ops.py:3066: to_int32 (from tensorflow.python.ops.math_ops) is deprecated and will be removed in a future version.\n",
      "Instructions for updating:\n",
      "Use tf.cast instead.\n",
      "Epoch 1/10\n",
      "357/357 [==============================] - 0s 968us/step - loss: 0.2167\n",
      "Epoch 2/10\n",
      "357/357 [==============================] - 0s 305us/step - loss: 0.0432\n",
      "Epoch 3/10\n",
      "357/357 [==============================] - 0s 302us/step - loss: 0.0365\n",
      "Epoch 4/10\n",
      "357/357 [==============================] - 0s 301us/step - loss: 0.0285\n",
      "Epoch 5/10\n",
      "357/357 [==============================] - 0s 311us/step - loss: 0.0231\n",
      "Epoch 6/10\n",
      "357/357 [==============================] - 0s 330us/step - loss: 0.0202\n",
      "Epoch 7/10\n",
      "357/357 [==============================] - 0s 331us/step - loss: 0.0175\n",
      "Epoch 8/10\n",
      "357/357 [==============================] - 0s 344us/step - loss: 0.0155\n",
      "Epoch 9/10\n",
      "357/357 [==============================] - 0s 332us/step - loss: 0.0142\n",
      "Epoch 10/10\n",
      "357/357 [==============================] - 0s 305us/step - loss: 0.0131\n",
      "测试集损失函数值： 0.01213176466370685\n",
      "[[ 0.8960772   1.4771796   1.6698796  ... -0.3575108  -0.32909423\n",
      "  -0.39495856]\n",
      " [ 0.42390263  0.76588225  0.88866293 ... -0.36518338 -0.24425016\n",
      "  -0.3056118 ]\n",
      " [ 1.0260866   1.6807467   1.7835486  ... -0.37654543 -0.36071548\n",
      "  -0.3658628 ]\n",
      " ...\n",
      " [ 0.5959895   0.94391423  1.1217513  ... -0.30834627 -0.22320499\n",
      "  -0.3415511 ]\n",
      " [ 0.95684683  1.5537981   1.747647   ... -0.39254186 -0.33596706\n",
      "  -0.3940518 ]\n",
      " [ 0.5595574   0.8570566   1.0800138  ... -0.32275534 -0.2754089\n",
      "  -0.2947666 ]]\n"
     ]
    }
   ],
   "source": [
    "# training\n",
    "autoencoder.fit(speech_fe, speech_fe, epochs=10, batch_size=10, shuffle=True)\n",
    "\n",
    "filepath = 'autocode_0507.h5'\n",
    "autoencoder.save(filepath)\n",
    "\n",
    "# plotting\n",
    "loss = autoencoder.evaluate(speech_fe, speech_fe, batch_size=1, verbose=2)\n",
    "print('测试集损失函数值：', loss)\n",
    "decoded_imgs = autoencoder.predict(speech_fe)\n",
    "print(decoded_imgs)"
   ]
  },
  {
   "cell_type": "markdown",
   "metadata": {},
   "source": [
    "---\n",
    "## 将训练数据送到模型中查看其对应的打分值（损失值，loss）"
   ]
  },
  {
   "cell_type": "code",
   "execution_count": 6,
   "metadata": {
    "ExecuteTime": {
     "end_time": "2019-05-07T03:29:51.073431Z",
     "start_time": "2019-05-07T03:29:50.920053Z"
    }
   },
   "outputs": [
    {
     "name": "stdout",
     "output_type": "stream",
     "text": [
      "loss 0.011221620254218578\n",
      "loss 0.01398468017578125\n",
      "loss 0.008896787650883198\n",
      "loss 0.005772230215370655\n",
      "loss 0.008224191144108772\n",
      "loss 0.0085823405534029\n",
      "loss 0.014808358624577522\n",
      "loss 0.01610337197780609\n",
      "loss 0.013805181719362736\n",
      "loss 0.008810794912278652\n",
      "loss 0.014191007241606712\n",
      "loss 0.016584835946559906\n",
      "loss 0.011190924793481827\n",
      "loss 0.006727136205881834\n",
      "loss 0.01795906201004982\n",
      "loss 0.008857648819684982\n",
      "loss 0.01171891763806343\n",
      "loss 0.01640620455145836\n",
      "loss 0.016882821917533875\n",
      "loss 0.011141293682157993\n",
      "loss 0.01650252938270569\n",
      "loss 0.009412716142833233\n",
      "loss 0.009188669733703136\n",
      "loss 0.02028282731771469\n",
      "loss 0.01134964358061552\n",
      "loss 0.007676501292735338\n",
      "loss 0.008281675167381763\n",
      "loss 0.00816453155130148\n",
      "loss 0.015974804759025574\n",
      "loss 0.008453989401459694\n",
      "loss 0.012400569394230843\n",
      "loss 0.018633989617228508\n",
      "loss 0.008044544607400894\n",
      "loss 0.012751330621540546\n",
      "loss 0.03476395830512047\n",
      "loss 0.018441740423440933\n",
      "loss 0.007425382267683744\n",
      "loss 0.022825324907898903\n",
      "loss 0.01403893530368805\n",
      "loss 0.010958650149405003\n",
      "loss 0.007900274358689785\n",
      "loss 0.006197371054440737\n",
      "loss 0.0073166717775166035\n",
      "loss 0.00941001158207655\n",
      "loss 0.011530467309057713\n",
      "loss 0.009171877056360245\n",
      "loss 0.012197284027934074\n",
      "loss 0.00936948973685503\n",
      "loss 0.008569031953811646\n",
      "loss 0.008965489454567432\n",
      "loss 0.017396723851561546\n",
      "loss 0.02764221653342247\n",
      "loss 0.009658406488597393\n",
      "loss 0.017051581293344498\n",
      "loss 0.02015116810798645\n",
      "loss 0.014364835806190968\n",
      "loss 0.006042632274329662\n",
      "loss 0.013454124331474304\n",
      "loss 0.011707997880876064\n",
      "loss 0.006522060371935368\n",
      "loss 0.007761113811284304\n",
      "loss 0.011467495933175087\n",
      "loss 0.010066775605082512\n",
      "loss 0.01462775468826294\n",
      "loss 0.008297105319797993\n",
      "loss 0.005555599462240934\n",
      "loss 0.009272058494389057\n",
      "loss 0.01710996776819229\n",
      "loss 0.00810594204813242\n",
      "loss 0.005806889850646257\n",
      "loss 0.009299923665821552\n",
      "loss 0.015448598191142082\n",
      "loss 0.007252411916851997\n",
      "loss 0.017171192914247513\n",
      "loss 0.007631694432348013\n",
      "loss 0.0047323801554739475\n",
      "loss 0.008400806225836277\n",
      "loss 0.005906644742935896\n",
      "loss 0.016853012144565582\n",
      "loss 0.01873461715877056\n",
      "loss 0.009389243088662624\n",
      "loss 0.005807584151625633\n",
      "loss 0.012293804436922073\n",
      "loss 0.008556787855923176\n",
      "loss 0.017774399369955063\n",
      "loss 0.00898138340562582\n",
      "loss 0.006487706676125526\n",
      "loss 0.009139979258179665\n",
      "loss 0.012841351330280304\n",
      "loss 0.006045299582183361\n",
      "loss 0.009147543460130692\n",
      "loss 0.02110976353287697\n",
      "loss 0.02207656018435955\n",
      "loss 0.007833010517060757\n",
      "loss 0.009516811929643154\n",
      "loss 0.015550937503576279\n",
      "loss 0.011157440952956676\n",
      "loss 0.0053233918733894825\n",
      "loss 0.017092157155275345\n",
      "loss 0.011579620651900768\n",
      "loss 0.007464000955224037\n",
      "loss 0.010313169099390507\n",
      "loss 0.005764001980423927\n",
      "loss 0.009113003499805927\n",
      "loss 0.02048381417989731\n",
      "loss 0.007942838594317436\n",
      "loss 0.011222677305340767\n",
      "loss 0.01102116797119379\n",
      "loss 0.027295175939798355\n",
      "loss 0.0204492025077343\n",
      "loss 0.009264535270631313\n",
      "loss 0.00923419650644064\n",
      "loss 0.006043868139386177\n",
      "loss 0.005233507603406906\n",
      "loss 0.007803915534168482\n",
      "loss 0.02358972653746605\n",
      "loss 0.012931079603731632\n",
      "loss 0.01058357022702694\n",
      "loss 0.006854664068669081\n",
      "loss 0.010802354663610458\n",
      "loss 0.013860656879842281\n",
      "loss 0.009521306492388248\n",
      "loss 0.00863928534090519\n",
      "loss 0.012887387536466122\n",
      "loss 0.010327639989554882\n",
      "loss 0.012583916075527668\n",
      "loss 0.025420663878321648\n",
      "loss 0.006975224241614342\n",
      "loss 0.006842243485152721\n",
      "loss 0.0054040043614804745\n",
      "loss 0.013630121015012264\n",
      "loss 0.027771033346652985\n",
      "loss 0.009070158004760742\n",
      "loss 0.007382472511380911\n",
      "loss 0.014750141650438309\n",
      "loss 0.006071021314710379\n",
      "loss 0.0036079108249396086\n",
      "loss 0.015490603633224964\n",
      "loss 0.01535357441753149\n",
      "loss 0.01739542745053768\n",
      "loss 0.017554281279444695\n",
      "loss 0.009747674688696861\n",
      "loss 0.019858771935105324\n",
      "loss 0.010536358691751957\n",
      "loss 0.00903782993555069\n",
      "loss 0.006545043084770441\n",
      "loss 0.012140919454395771\n",
      "loss 0.013229784555733204\n",
      "loss 0.0071843587793409824\n",
      "loss 0.013956586830317974\n",
      "loss 0.007837154902517796\n",
      "loss 0.01814047060906887\n",
      "loss 0.013510282151401043\n",
      "loss 0.011218269355595112\n",
      "loss 0.010150089859962463\n",
      "loss 0.008862108923494816\n",
      "loss 0.01460607722401619\n",
      "loss 0.008239630609750748\n",
      "loss 0.012636655010282993\n",
      "loss 0.014908325858414173\n",
      "loss 0.011898121796548367\n",
      "loss 0.012481335550546646\n",
      "loss 0.00976287666708231\n",
      "loss 0.008345120586454868\n",
      "loss 0.007355781737715006\n",
      "loss 0.009353173896670341\n",
      "loss 0.009945600293576717\n",
      "loss 0.009770707227289677\n",
      "loss 0.03361634537577629\n",
      "loss 0.006997369229793549\n",
      "loss 0.006815091706812382\n",
      "loss 0.005854850169271231\n",
      "loss 0.006150754634290934\n",
      "loss 0.008753440342843533\n",
      "loss 0.015420638956129551\n",
      "loss 0.011558661237359047\n",
      "loss 0.006864232011139393\n",
      "loss 0.014500090852379799\n",
      "loss 0.007604890037328005\n",
      "loss 0.01583663560450077\n",
      "loss 0.006415227893739939\n",
      "loss 0.011071507818996906\n",
      "loss 0.01367561798542738\n",
      "loss 0.012193618342280388\n",
      "loss 0.010958117432892323\n",
      "loss 0.015781721100211143\n",
      "loss 0.009972675703465939\n",
      "loss 0.01220779214054346\n",
      "loss 0.013093188405036926\n",
      "loss 0.025996936485171318\n",
      "loss 0.010306782089173794\n",
      "loss 0.011887728236615658\n",
      "loss 0.010513095185160637\n",
      "loss 0.01121411845088005\n",
      "loss 0.009533748961985111\n",
      "loss 0.008434012532234192\n",
      "loss 0.01361751090735197\n",
      "loss 0.022036582231521606\n",
      "loss 0.007982447743415833\n",
      "loss 0.012541557662189007\n",
      "loss 0.018224429339170456\n",
      "loss 0.009882728569209576\n",
      "loss 0.008544609881937504\n",
      "loss 0.01659281738102436\n",
      "loss 0.01207790058106184\n",
      "loss 0.012423365376889706\n",
      "loss 0.008287725038826466\n",
      "loss 0.009072024375200272\n",
      "loss 0.008621460758149624\n",
      "loss 0.012816987000405788\n",
      "loss 0.011638347059488297\n",
      "loss 0.03422241657972336\n",
      "loss 0.021950937807559967\n",
      "loss 0.017880374565720558\n",
      "loss 0.00544352363795042\n",
      "loss 0.011200221255421638\n",
      "loss 0.00888601690530777\n",
      "loss 0.009381118230521679\n",
      "loss 0.01049110759049654\n",
      "loss 0.01862337440252304\n",
      "loss 0.008283236995339394\n",
      "loss 0.011787071824073792\n",
      "loss 0.015374591574072838\n",
      "loss 0.01051354967057705\n",
      "loss 0.009843309409916401\n",
      "loss 0.009721211157739162\n",
      "loss 0.01423670258373022\n",
      "loss 0.007964412681758404\n",
      "loss 0.007883812300860882\n",
      "loss 0.005025876685976982\n",
      "loss 0.006602219305932522\n",
      "loss 0.009466162882745266\n",
      "loss 0.004691115114837885\n",
      "loss 0.005534123629331589\n",
      "loss 0.005923921708017588\n",
      "loss 0.011514931917190552\n",
      "loss 0.014294179156422615\n",
      "loss 0.02365044504404068\n",
      "loss 0.012158212251961231\n",
      "loss 0.007516441401094198\n",
      "loss 0.01900445483624935\n",
      "loss 0.01812523603439331\n",
      "loss 0.011225779540836811\n",
      "loss 0.013733608648180962\n",
      "loss 0.00623633386567235\n",
      "loss 0.016828808933496475\n",
      "loss 0.007754181977361441\n",
      "loss 0.012305057607591152\n",
      "loss 0.015646276995539665\n",
      "loss 0.025694523006677628\n",
      "loss 0.009652630425989628\n",
      "loss 0.017199143767356873\n",
      "loss 0.012421057559549809\n",
      "loss 0.010140984319150448\n",
      "loss 0.00858227163553238\n",
      "loss 0.006961246952414513\n",
      "loss 0.017424359917640686\n",
      "loss 0.01694151759147644\n",
      "loss 0.01531487051397562\n",
      "loss 0.011888275854289532\n",
      "loss 0.008510198444128036\n",
      "loss 0.009478039108216763\n",
      "loss 0.016044804826378822\n",
      "loss 0.015260736458003521\n",
      "loss 0.010508508421480656\n",
      "loss 0.009287454187870026\n",
      "loss 0.009607477113604546\n",
      "loss 0.010659225285053253\n",
      "loss 0.009190892800688744\n",
      "loss 0.015028843656182289\n",
      "loss 0.026015667244791985\n",
      "loss 0.010771914385259151\n",
      "loss 0.01652449369430542\n",
      "loss 0.006431796588003635\n",
      "loss 0.008900921791791916\n",
      "loss 0.015359597280621529\n",
      "loss 0.008412606082856655\n",
      "loss 0.009320124983787537\n",
      "loss 0.012823962606489658\n",
      "loss 0.011449539102613926\n",
      "loss 0.012219659052789211\n",
      "loss 0.01009745430201292\n",
      "loss 0.008634522557258606\n",
      "loss 0.005606682971119881\n",
      "loss 0.00971657782793045\n",
      "loss 0.012369086965918541\n",
      "loss 0.008536762557923794\n",
      "loss 0.008009622804820538\n",
      "loss 0.009956520050764084\n",
      "loss 0.00985572300851345\n",
      "loss 0.025486420840024948\n",
      "loss 0.013329691253602505\n",
      "loss 0.010001548565924168\n",
      "loss 0.017649680376052856\n",
      "loss 0.012955586425960064\n",
      "loss 0.012649781070649624\n",
      "loss 0.01232632901519537\n",
      "loss 0.00914923194795847\n",
      "loss 0.009132063947618008\n",
      "loss 0.014733214862644672\n",
      "loss 0.022012166678905487\n",
      "loss 0.017160125076770782\n",
      "loss 0.013880446553230286\n",
      "loss 0.014023134484887123\n",
      "loss 0.017443524673581123\n",
      "loss 0.014200421050190926\n",
      "loss 0.007696907501667738\n",
      "loss 0.015828661620616913\n",
      "loss 0.009169945493340492\n",
      "loss 0.008653085678815842\n",
      "loss 0.02141326293349266\n",
      "loss 0.0080157071352005\n",
      "loss 0.024692917242646217\n",
      "loss 0.011700254864990711\n",
      "loss 0.007252178154885769\n",
      "loss 0.01251357514411211\n",
      "loss 0.02825170010328293\n",
      "loss 0.008240672759711742\n",
      "loss 0.009007275104522705\n",
      "loss 0.006713734939694405\n",
      "loss 0.010355803184211254\n",
      "loss 0.015706438571214676\n",
      "loss 0.012553134001791477\n",
      "loss 0.0071694073267281055\n",
      "loss 0.010955560021102428\n",
      "loss 0.007447824813425541\n",
      "loss 0.00608772411942482\n",
      "loss 0.010095159523189068\n",
      "loss 0.008127589710056782\n",
      "loss 0.01117019634693861\n",
      "loss 0.016106966882944107\n",
      "loss 0.019751498475670815\n",
      "loss 0.018328320235013962\n",
      "loss 0.019523438066244125\n",
      "loss 0.02607661671936512\n",
      "loss 0.012627282179892063\n",
      "loss 0.010068921372294426\n",
      "loss 0.007316179107874632\n",
      "loss 0.009912021458148956\n",
      "loss 0.009448995813727379\n",
      "loss 0.012643484398722649\n",
      "loss 0.008900989778339863\n",
      "loss 0.010866979137063026\n",
      "loss 0.008174523711204529\n",
      "loss 0.01594349928200245\n",
      "loss 0.009425790049135685\n",
      "loss 0.00844084657728672\n",
      "loss 0.025561686605215073\n",
      "loss 0.015543300658464432\n",
      "loss 0.007597494404762983\n",
      "loss 0.012212783098220825\n",
      "loss 0.00870455801486969\n",
      "loss 0.008680489845573902\n",
      "loss 0.01729723811149597\n",
      "loss 0.02846674993634224\n",
      "loss 0.006255819462239742\n",
      "loss 0.012410536408424377\n"
     ]
    }
   ],
   "source": [
    "from tqdm import tqdm\n",
    "\n",
    "scores = []\n",
    "for i in range(speech_fe.shape[0]):\n",
    "    loss = autoencoder.evaluate(speech_fe[i:i+1], speech_fe[i:i+1], batch_size=1, verbose=0)\n",
    "    scores.append(loss)\n",
    "    print('loss', loss)"
   ]
  },
  {
   "cell_type": "code",
   "execution_count": 7,
   "metadata": {
    "ExecuteTime": {
     "end_time": "2019-05-07T03:29:54.681606Z",
     "start_time": "2019-05-07T03:29:54.380827Z"
    }
   },
   "outputs": [
    {
     "name": "stderr",
     "output_type": "stream",
     "text": [
      "/home/zhudong/.virtualenvs/tf_keras_py3/lib/python3.6/site-packages/matplotlib/axes/_axes.py:6521: MatplotlibDeprecationWarning: \n",
      "The 'normed' kwarg was deprecated in Matplotlib 2.1 and will be removed in 3.1. Use 'density' instead.\n",
      "  alternative=\"'density'\", removal=\"3.1\")\n"
     ]
    },
    {
     "data": {
      "image/png": "[encoded data removed]",
      "text/plain": [
       "<Figure size 1296x720 with 1 Axes>"
      ]
     },
     "metadata": {
      "needs_background": "light"
     },
     "output_type": "display_data"
    }
   ],
   "source": [
    "plt.figure(figsize=(18,10))\n",
    "plt.hist(np.array(scores), bins=60, normed=0, facecolor=\"blue\", edgecolor=\"black\", alpha=0.7)\n",
    "# plt.hist(np.array(test_scores)[itemindex_notis], bins=60, normed=0, facecolor=\"red\", edgecolor=\"black\", alpha=0.7)\n",
    "\n",
    "# 显示图标题\n",
    "plt.title(\"频数/频率分布直方图\")\n",
    "plt.show()"
   ]
  },
  {
   "cell_type": "markdown",
   "metadata": {},
   "source": [
    "---\n",
    "## 提取用于测试数据（噪声音频）的特征"
   ]
  },
  {
   "cell_type": "code",
   "execution_count": 31,
   "metadata": {
    "ExecuteTime": {
     "end_time": "2019-05-07T02:59:26.431669Z",
     "start_time": "2019-05-07T02:58:48.416712Z"
    }
   },
   "outputs": [
    {
     "name": "stderr",
     "output_type": "stream",
     "text": [
      "[                                                                        ]   0%\r"
     ]
    },
    {
     "name": "stdout",
     "output_type": "stream",
     "text": [
      "Extracting features ...\n"
     ]
    },
    {
     "name": "stderr",
     "output_type": "stream",
     "text": [
      "[========================================================================] 100%\r"
     ]
    },
    {
     "name": "stdout",
     "output_type": "stream",
     "text": [
      "Done.\n"
     ]
    },
    {
     "name": "stderr",
     "output_type": "stream",
     "text": [
      "\n"
     ]
    }
   ],
   "source": [
    "import progressbar\n",
    "\n",
    "bar = progressbar.ProgressBar(maxval=len(collect_files('./dataset/train/noise')),\n",
    "                              widgets=[progressbar.Bar('=', '[', ']'), ' ', progressbar.Percentage()])\n",
    "bar.start()\n",
    "print(\"Extracting features ...\")\n",
    "features = []\n",
    "\n",
    "for i, (raw_file_name, joined_file_path) in enumerate(collect_files('./dataset/train/noise')):\n",
    "    _, sig = wav.read(joined_file_path)\n",
    "    fea = extract(sig)\n",
    "    feats = normalize_frames(np.array(fea))\n",
    "    features.append(feats)\n",
    "    bar.update(i + 1)\n",
    "\n",
    "bar.finish()\n",
    "print(\"Done.\")\n",
    "\n",
    "save(features, 'NOISE_fea', \".\")"
   ]
  },
  {
   "cell_type": "code",
   "execution_count": 8,
   "metadata": {
    "ExecuteTime": {
     "end_time": "2019-05-07T03:30:07.654393Z",
     "start_time": "2019-05-07T03:30:07.649693Z"
    }
   },
   "outputs": [
    {
     "name": "stdout",
     "output_type": "stream",
     "text": [
      "(334, 156)\n"
     ]
    }
   ],
   "source": [
    "noise_fe = load('NOISE_fea')\n",
    "\n",
    "# print(noise_fe)\n",
    "\n",
    "print(np.array(noise_fe).shape)\n",
    "\n",
    "noise_fe = np.array(noise_fe)"
   ]
  },
  {
   "cell_type": "code",
   "execution_count": 9,
   "metadata": {
    "ExecuteTime": {
     "end_time": "2019-05-07T03:30:12.211114Z",
     "start_time": "2019-05-07T03:30:12.067949Z"
    }
   },
   "outputs": [
    {
     "name": "stdout",
     "output_type": "stream",
     "text": [
      "loss 0.060296278446912766\n",
      "loss 0.061868760734796524\n",
      "loss 0.07055538147687912\n",
      "loss 0.06471199542284012\n",
      "loss 0.06556717306375504\n",
      "loss 0.059302397072315216\n",
      "loss 0.06492331624031067\n",
      "loss 0.06320078670978546\n",
      "loss 0.05820975452661514\n",
      "loss 0.0610564686357975\n",
      "loss 0.07269955426454544\n",
      "loss 0.0663682222366333\n",
      "loss 0.06349533796310425\n",
      "loss 0.06112223491072655\n",
      "loss 0.06782393902540207\n",
      "loss 0.06432103365659714\n",
      "loss 0.06144026666879654\n",
      "loss 0.06334984302520752\n",
      "loss 0.06409046798944473\n",
      "loss 0.058759309351444244\n",
      "loss 0.0657767578959465\n",
      "loss 0.06205599009990692\n",
      "loss 0.0704558715224266\n",
      "loss 0.06686127185821533\n",
      "loss 0.059322040528059006\n",
      "loss 0.05782637372612953\n",
      "loss 0.05975659564137459\n",
      "loss 0.07072177529335022\n",
      "loss 0.05905928462743759\n",
      "loss 0.06833020597696304\n",
      "loss 0.06607139855623245\n",
      "loss 0.06132647767663002\n",
      "loss 0.06613850593566895\n",
      "loss 0.05797296389937401\n",
      "loss 0.06532002240419388\n",
      "loss 0.059441231191158295\n",
      "loss 0.057463981211185455\n",
      "loss 0.06465707719326019\n",
      "loss 0.06046425551176071\n",
      "loss 0.07123744487762451\n",
      "loss 0.052810363471508026\n",
      "loss 0.059845998883247375\n",
      "loss 0.052417486906051636\n",
      "loss 0.0688561350107193\n",
      "loss 0.06531400233507156\n",
      "loss 0.054816123098134995\n",
      "loss 0.067509725689888\n",
      "loss 0.05827770382165909\n",
      "loss 0.06459435075521469\n",
      "loss 0.06682074069976807\n",
      "loss 0.062408626079559326\n",
      "loss 0.0607379712164402\n",
      "loss 0.06721651554107666\n",
      "loss 0.057630013674497604\n",
      "loss 0.06403390318155289\n",
      "loss 0.06293182820081711\n",
      "loss 0.05975601077079773\n",
      "loss 0.05766111612319946\n",
      "loss 0.06712019443511963\n",
      "loss 0.0705643892288208\n",
      "loss 0.06348540633916855\n",
      "loss 0.06722409278154373\n",
      "loss 0.06858748197555542\n",
      "loss 0.06155579537153244\n",
      "loss 0.05828195437788963\n",
      "loss 0.06168834865093231\n",
      "loss 0.05655061453580856\n",
      "loss 0.06262360513210297\n",
      "loss 0.05953861027956009\n",
      "loss 0.06972824037075043\n",
      "loss 0.06858664751052856\n",
      "loss 0.06350957602262497\n",
      "loss 0.056839343160390854\n",
      "loss 0.061716921627521515\n",
      "loss 0.06857064366340637\n",
      "loss 0.06280773878097534\n",
      "loss 0.07139340788125992\n",
      "loss 0.06676767766475677\n",
      "loss 0.07450023293495178\n",
      "loss 0.06314551085233688\n",
      "loss 0.05587204918265343\n",
      "loss 0.061504047363996506\n",
      "loss 0.060921307653188705\n",
      "loss 0.06575535237789154\n",
      "loss 0.0699012503027916\n",
      "loss 0.05176538601517677\n",
      "loss 0.05760735645890236\n",
      "loss 0.06391622871160507\n",
      "loss 0.06635355204343796\n",
      "loss 0.05589604377746582\n",
      "loss 0.06316309422254562\n",
      "loss 0.054068487137556076\n",
      "loss 0.06490325182676315\n",
      "loss 0.05991589277982712\n",
      "loss 0.06446667015552521\n",
      "loss 0.06124167516827583\n",
      "loss 0.05980805307626724\n",
      "loss 0.057701561599969864\n",
      "loss 0.06648571789264679\n",
      "loss 0.058686550706624985\n",
      "loss 0.05962994694709778\n",
      "loss 0.0646134614944458\n",
      "loss 0.061991289258003235\n",
      "loss 0.06447909772396088\n",
      "loss 0.06195612996816635\n",
      "loss 0.06771300733089447\n",
      "loss 0.060837533324956894\n",
      "loss 0.06906463205814362\n",
      "loss 0.06074041500687599\n",
      "loss 0.06217972934246063\n",
      "loss 0.06737257540225983\n",
      "loss 0.06709890812635422\n",
      "loss 0.059493474662303925\n",
      "loss 0.05732876807451248\n",
      "loss 0.06146903708577156\n",
      "loss 0.05749877169728279\n",
      "loss 0.06741981953382492\n",
      "loss 0.05991243198513985\n",
      "loss 0.0598287470638752\n",
      "loss 0.06181163713335991\n",
      "loss 0.06088300794363022\n",
      "loss 0.056120626628398895\n",
      "loss 0.06176810339093208\n",
      "loss 0.06692109256982803\n",
      "loss 0.06384830921888351\n",
      "loss 0.06778154522180557\n",
      "loss 0.057597626000642776\n",
      "loss 0.06039036065340042\n",
      "loss 0.06141176074743271\n",
      "loss 0.0706322118639946\n",
      "loss 0.06048635393381119\n",
      "loss 0.06082688271999359\n",
      "loss 0.06408770382404327\n",
      "loss 0.06576331704854965\n",
      "loss 0.06397580355405807\n",
      "loss 0.06027071177959442\n",
      "loss 0.05909646302461624\n",
      "loss 0.058753736317157745\n",
      "loss 0.06486480683088303\n",
      "loss 0.06491226702928543\n",
      "loss 0.06015453487634659\n",
      "loss 0.05607976019382477\n",
      "loss 0.06204116716980934\n",
      "loss 0.06470178067684174\n",
      "loss 0.06165016442537308\n",
      "loss 0.06898512691259384\n",
      "loss 0.060787372291088104\n",
      "loss 0.07419631630182266\n",
      "loss 0.0631134882569313\n",
      "loss 0.06329239904880524\n",
      "loss 0.06895168870687485\n",
      "loss 0.06595973670482635\n",
      "loss 0.05935816839337349\n",
      "loss 0.061017777770757675\n",
      "loss 0.06243239343166351\n",
      "loss 0.06346122920513153\n",
      "loss 0.061123400926589966\n",
      "loss 0.058365967124700546\n",
      "loss 0.05938342958688736\n",
      "loss 0.06094466894865036\n",
      "loss 0.06377484649419785\n",
      "loss 0.06916344910860062\n",
      "loss 0.05776507407426834\n",
      "loss 0.060027964413166046\n",
      "loss 0.05871998518705368\n",
      "loss 0.05980503186583519\n",
      "loss 0.05997836962342262\n",
      "loss 0.06060097739100456\n",
      "loss 0.0624300017952919\n",
      "loss 0.060361482203006744\n",
      "loss 0.06534357368946075\n",
      "loss 0.06677819788455963\n",
      "loss 0.06885454803705215\n",
      "loss 0.06570872664451599\n",
      "loss 0.07228803634643555\n",
      "loss 0.06186674162745476\n",
      "loss 0.05945717915892601\n",
      "loss 0.0626257136464119\n",
      "loss 0.06361425668001175\n",
      "loss 0.06138824671506882\n",
      "loss 0.06019143387675285\n",
      "loss 0.05699709802865982\n",
      "loss 0.058927249163389206\n",
      "loss 0.07043806463479996\n",
      "loss 0.0632038414478302\n",
      "loss 0.06831265985965729\n",
      "loss 0.0676174983382225\n",
      "loss 0.06175513193011284\n",
      "loss 0.05879120156168938\n",
      "loss 0.06747476756572723\n",
      "loss 0.0647655725479126\n",
      "loss 0.0600333996117115\n",
      "loss 0.06408718973398209\n",
      "loss 0.05668368563055992\n",
      "loss 0.06217459589242935\n",
      "loss 0.06192732974886894\n",
      "loss 0.06476094573736191\n",
      "loss 0.06810041517019272\n",
      "loss 0.06384354829788208\n",
      "loss 0.05906934663653374\n",
      "loss 0.06416446715593338\n",
      "loss 0.06747777760028839\n",
      "loss 0.06657902151346207\n",
      "loss 0.05943914130330086\n",
      "loss 0.061235856264829636\n",
      "loss 0.06551408022642136\n",
      "loss 0.06621016561985016\n",
      "loss 0.06652145832777023\n",
      "loss 0.06106550991535187\n",
      "loss 0.059853628277778625\n",
      "loss 0.05809960141777992\n",
      "loss 0.058494213968515396\n",
      "loss 0.06174565479159355\n",
      "loss 0.06176247447729111\n",
      "loss 0.06899333745241165\n",
      "loss 0.06549910455942154\n",
      "loss 0.0671803429722786\n",
      "loss 0.060751378536224365\n",
      "loss 0.06510186195373535\n",
      "loss 0.060375917702913284\n",
      "loss 0.05527748912572861\n",
      "loss 0.06879299879074097\n",
      "loss 0.0746581181883812\n",
      "loss 0.06195177882909775\n",
      "loss 0.06420937180519104\n",
      "loss 0.06299932301044464\n",
      "loss 0.06433656066656113\n",
      "loss 0.06065187230706215\n",
      "loss 0.05638810247182846\n",
      "loss 0.06390903890132904\n",
      "loss 0.058072470128536224\n",
      "loss 0.06012614443898201\n",
      "loss 0.060856062918901443\n",
      "loss 0.06642325967550278\n",
      "loss 0.059742577373981476\n",
      "loss 0.06263632327318192\n",
      "loss 0.06445018202066422\n",
      "loss 0.0676116794347763\n",
      "loss 0.06282082945108414\n",
      "loss 0.06792274862527847\n",
      "loss 0.05746953934431076\n",
      "loss 0.05892356112599373\n",
      "loss 0.06612442433834076\n",
      "loss 0.06409569084644318\n",
      "loss 0.06651393324136734\n",
      "loss 0.06416751444339752\n",
      "loss 0.06568823009729385\n",
      "loss 0.07112129777669907\n",
      "loss 0.06852744519710541\n",
      "loss 0.06994684040546417\n",
      "loss 0.07217659056186676\n",
      "loss 0.07207449525594711\n",
      "loss 0.068987175822258\n",
      "loss 0.06429798901081085\n",
      "loss 0.06869220733642578\n",
      "loss 0.062177952378988266\n",
      "loss 0.06516106426715851\n",
      "loss 0.06331884115934372\n",
      "loss 0.06177201122045517\n",
      "loss 0.06659291684627533\n",
      "loss 0.06589670479297638\n",
      "loss 0.06575703620910645\n",
      "loss 0.06633039563894272\n",
      "loss 0.0625249370932579\n",
      "loss 0.058361317962408066\n",
      "loss 0.05377516895532608\n",
      "loss 0.05481376871466637\n",
      "loss 0.05678877606987953\n",
      "loss 0.0643116906285286\n",
      "loss 0.07011348754167557\n",
      "loss 0.06560851633548737\n",
      "loss 0.06080866977572441\n",
      "loss 0.06535984575748444\n",
      "loss 0.06768966466188431\n",
      "loss 0.06516826152801514\n",
      "loss 0.05895298719406128\n",
      "loss 0.06347361952066422\n",
      "loss 0.06621566414833069\n",
      "loss 0.06341587752103806\n",
      "loss 0.059949055314064026\n",
      "loss 0.062018271535634995\n",
      "loss 0.06520282477140427\n",
      "loss 0.05986370891332626\n",
      "loss 0.0738067775964737\n",
      "loss 0.06403973698616028\n",
      "loss 0.06170913577079773\n",
      "loss 0.067518450319767\n",
      "loss 0.06750163435935974\n",
      "loss 0.06807514280080795\n",
      "loss 0.0684928297996521\n",
      "loss 0.06811349093914032\n",
      "loss 0.05980117619037628\n",
      "loss 0.06807210296392441\n",
      "loss 0.06627906113862991\n",
      "loss 0.06578341126441956\n",
      "loss 0.06900424510240555\n",
      "loss 0.05764706805348396\n",
      "loss 0.06595347076654434\n",
      "loss 0.05965597927570343\n",
      "loss 0.056968048214912415\n",
      "loss 0.07470345497131348\n",
      "loss 0.06557390838861465\n",
      "loss 0.06659994274377823\n",
      "loss 0.06584451347589493\n",
      "loss 0.0609084814786911\n",
      "loss 0.06149904057383537\n",
      "loss 0.06163526326417923\n",
      "loss 0.0664910301566124\n",
      "loss 0.0633653774857521\n",
      "loss 0.06113924831151962\n",
      "loss 0.06616464257240295\n",
      "loss 0.07411126792430878\n",
      "loss 0.06322163343429565\n",
      "loss 0.061094436794519424\n",
      "loss 0.060061778873205185\n",
      "loss 0.061138659715652466\n",
      "loss 0.06647726893424988\n",
      "loss 0.0660976842045784\n",
      "loss 0.0651770830154419\n",
      "loss 0.06923582404851913\n",
      "loss 0.0650596171617508\n",
      "loss 0.061107661575078964\n",
      "loss 0.05832250788807869\n",
      "loss 0.0639772117137909\n",
      "loss 0.06479085236787796\n",
      "loss 0.05403805524110794\n",
      "loss 0.08083564788103104\n",
      "loss 0.07641185820102692\n",
      "loss 0.06507138907909393\n",
      "loss 0.058629151433706284\n",
      "loss 0.06041887402534485\n",
      "loss 0.06030110642313957\n",
      "loss 0.06915102899074554\n",
      "loss 0.06530309468507767\n"
     ]
    }
   ],
   "source": [
    "noise_scores = []\n",
    "for i in range(noise_fe.shape[0]):\n",
    "    loss = autoencoder.evaluate(noise_fe[i:i+1], noise_fe[i:i+1], batch_size=1, verbose=0)\n",
    "    noise_scores.append(loss)\n",
    "    print('loss', loss)"
   ]
  },
  {
   "cell_type": "markdown",
   "metadata": {},
   "source": [
    "---\n",
    "## 将说话声（训练数据）的打分与噪声的打分花在直方图上进行对比"
   ]
  },
  {
   "cell_type": "code",
   "execution_count": 11,
   "metadata": {
    "ExecuteTime": {
     "end_time": "2019-05-07T03:30:37.766522Z",
     "start_time": "2019-05-07T03:30:37.383643Z"
    }
   },
   "outputs": [
    {
     "data": {
      "image/png": "[encoded data removed]",
      "text/plain": [
       "<Figure size 1296x720 with 1 Axes>"
      ]
     },
     "metadata": {
      "needs_background": "light"
     },
     "output_type": "display_data"
    }
   ],
   "source": [
    "plt.figure(figsize=(18,10))\n",
    "plt.hist(np.array(scores), bins=60, normed=0, facecolor=\"blue\", edgecolor=\"black\", alpha=0.7)\n",
    "plt.hist(np.array(noise_scores), bins=60, normed=0, facecolor=\"red\", edgecolor=\"black\", alpha=0.7)\n",
    "\n",
    "# 显示图标题\n",
    "plt.title(\"频数/频率分布直方图\")\n",
    "plt.show()"
   ]
  },
  {
   "cell_type": "markdown",
   "metadata": {},
   "source": [
    "---\n",
    "## 以FM的下的211个音频来测试（87-108）"
   ]
  },
  {
   "cell_type": "code",
   "execution_count": 30,
   "metadata": {
    "ExecuteTime": {
     "end_time": "2019-05-07T04:31:11.680559Z",
     "start_time": "2019-05-07T04:31:11.674946Z"
    }
   },
   "outputs": [
    {
     "name": "stdout",
     "output_type": "stream",
     "text": [
      "(211, 156)\n"
     ]
    }
   ],
   "source": [
    "fm_fe = load('fm_fea')\n",
    "\n",
    "print(np.array(fm_fe).shape)\n",
    "\n",
    "fm_fe = np.array(fm_fe)"
   ]
  },
  {
   "cell_type": "code",
   "execution_count": 31,
   "metadata": {
    "ExecuteTime": {
     "end_time": "2019-05-07T04:31:13.534464Z",
     "start_time": "2019-05-07T04:31:13.531301Z"
    }
   },
   "outputs": [
    {
     "data": {
      "text/plain": [
       "(156,)"
      ]
     },
     "execution_count": 31,
     "metadata": {},
     "output_type": "execute_result"
    }
   ],
   "source": [
    "fm_fe[0].shape"
   ]
  },
  {
   "cell_type": "code",
   "execution_count": 32,
   "metadata": {
    "ExecuteTime": {
     "end_time": "2019-05-07T04:31:16.671220Z",
     "start_time": "2019-05-07T04:31:16.573920Z"
    }
   },
   "outputs": [
    {
     "name": "stdout",
     "output_type": "stream",
     "text": [
      "loss 0.10157972574234009\n",
      "loss 0.10703330487012863\n",
      "loss 0.10689699649810791\n",
      "loss 0.11819986253976822\n",
      "loss 0.04084145650267601\n",
      "loss 0.06980717182159424\n",
      "loss 0.12014780193567276\n",
      "loss 0.09251231700181961\n",
      "loss 0.10885100811719894\n",
      "loss 0.10875240713357925\n",
      "loss 0.10882717370986938\n",
      "loss 0.11275241523981094\n",
      "loss 0.10012656450271606\n",
      "loss 0.10871505737304688\n",
      "loss 0.04681801050901413\n",
      "loss 0.09233622997999191\n",
      "loss 0.7175921201705933\n",
      "loss 0.11717971414327621\n",
      "loss 0.06392743438482285\n",
      "loss 0.10977642238140106\n",
      "loss 0.11370737105607986\n",
      "loss 0.10905731469392776\n",
      "loss 0.10905805230140686\n",
      "loss 0.11478183418512344\n",
      "loss 0.11481283605098724\n",
      "loss 0.11586674302816391\n",
      "loss 0.059784241020679474\n",
      "loss 0.11037475615739822\n",
      "loss 0.11032427102327347\n",
      "loss 0.058452196419239044\n",
      "loss 0.12272420525550842\n",
      "loss 0.08743151277303696\n",
      "loss 0.05573088675737381\n",
      "loss 0.05791594460606575\n",
      "loss 0.4201490581035614\n",
      "loss 0.08732441067695618\n",
      "loss 0.11393729597330093\n",
      "loss 0.10932712256908417\n",
      "loss 0.8798730373382568\n",
      "loss 0.041990507394075394\n",
      "loss 0.1029725894331932\n",
      "loss 0.7677555680274963\n",
      "loss 0.10668016970157623\n",
      "loss 0.11128424108028412\n",
      "loss 0.11019077152013779\n",
      "loss 0.14058218896389008\n",
      "loss 0.09745646268129349\n",
      "loss 0.07876091450452805\n",
      "loss 0.09940049797296524\n",
      "loss 0.10829620808362961\n",
      "loss 0.11139360815286636\n",
      "loss 0.030870893970131874\n",
      "loss 0.5162603259086609\n",
      "loss 0.025934243574738503\n",
      "loss 0.11015131324529648\n",
      "loss 0.1189584955573082\n",
      "loss 0.09199140220880508\n",
      "loss 1.1653614044189453\n",
      "loss 0.10252432525157928\n",
      "loss 0.906019926071167\n",
      "loss 0.10769197344779968\n",
      "loss 0.11827550828456879\n",
      "loss 0.11545316129922867\n",
      "loss 0.34859684109687805\n",
      "loss 0.10632522404193878\n",
      "loss 0.12431483715772629\n",
      "loss 0.9235661625862122\n",
      "loss 0.08694585412740707\n",
      "loss 0.15218083560466766\n",
      "loss 0.2069823443889618\n",
      "loss 0.1142948716878891\n",
      "loss 0.10270053893327713\n",
      "loss 0.11365610361099243\n",
      "loss 0.8815464377403259\n",
      "loss 0.9062359929084778\n",
      "loss 0.03435032069683075\n",
      "loss 0.10578028112649918\n",
      "loss 0.07477477192878723\n",
      "loss 0.08558571338653564\n",
      "loss 0.11672770977020264\n",
      "loss 0.09869372844696045\n",
      "loss 0.09486337751150131\n",
      "loss 0.15989743173122406\n",
      "loss 0.09947071224451065\n",
      "loss 0.09465932846069336\n",
      "loss 0.10405857115983963\n",
      "loss 0.022290106862783432\n",
      "loss 0.11571817845106125\n",
      "loss 0.11654676496982574\n",
      "loss 0.11848839372396469\n",
      "loss 0.11412707716226578\n",
      "loss 0.07973330467939377\n",
      "loss 0.11493589729070663\n",
      "loss 0.1153159961104393\n",
      "loss 0.06220288947224617\n",
      "loss 0.11329594999551773\n",
      "loss 0.10976972430944443\n",
      "loss 0.11849718540906906\n",
      "loss 0.05482731759548187\n",
      "loss 0.11393463611602783\n",
      "loss 0.5490537881851196\n",
      "loss 0.11359240114688873\n",
      "loss 0.14548949897289276\n",
      "loss 0.11945297569036484\n",
      "loss 0.11091607809066772\n",
      "loss 0.10293519496917725\n",
      "loss 0.8686987161636353\n",
      "loss 0.11389947682619095\n",
      "loss 0.20167061686515808\n",
      "loss 0.11629083752632141\n",
      "loss 0.09324996918439865\n",
      "loss 0.10662037134170532\n",
      "loss 0.06414762884378433\n",
      "loss 0.10216350853443146\n",
      "loss 0.034878332167863846\n",
      "loss 0.10671485960483551\n",
      "loss 0.11660686880350113\n",
      "loss 0.9890044927597046\n",
      "loss 0.07708097994327545\n",
      "loss 0.11023691296577454\n",
      "loss 0.056383486837148666\n",
      "loss 0.11031089723110199\n",
      "loss 0.0862755998969078\n",
      "loss 0.08923033624887466\n",
      "loss 0.11510034650564194\n",
      "loss 0.10603157430887222\n",
      "loss 0.07850193232297897\n",
      "loss 0.09069047123193741\n",
      "loss 0.9641562104225159\n",
      "loss 0.051224250346422195\n",
      "loss 1.0484131574630737\n",
      "loss 1.0686001777648926\n",
      "loss 0.8867473006248474\n",
      "loss 0.07612594962120056\n",
      "loss 0.9390559196472168\n",
      "loss 0.07471060007810593\n",
      "loss 0.04468155652284622\n",
      "loss 0.02994755282998085\n",
      "loss 0.20215848088264465\n",
      "loss 0.03625192493200302\n",
      "loss 0.11106757819652557\n",
      "loss 0.11907116323709488\n",
      "loss 0.8501132130622864\n",
      "loss 0.7607308626174927\n",
      "loss 0.1163385808467865\n",
      "loss 0.051648445427417755\n",
      "loss 0.11358936131000519\n",
      "loss 0.07200310379266739\n",
      "loss 0.12182707339525223\n",
      "loss 0.08964327722787857\n",
      "loss 0.11785386502742767\n",
      "loss 0.10749959945678711\n",
      "loss 0.05215262249112129\n",
      "loss 0.11051725596189499\n",
      "loss 0.09501028060913086\n",
      "loss 0.11201430857181549\n",
      "loss 0.07683800905942917\n",
      "loss 0.10537587851285934\n",
      "loss 0.8320306539535522\n",
      "loss 0.03863568231463432\n",
      "loss 0.06284105777740479\n",
      "loss 0.10101094096899033\n",
      "loss 0.12975479662418365\n",
      "loss 0.10516883432865143\n",
      "loss 0.10319660604000092\n",
      "loss 0.040706317871809006\n",
      "loss 0.11210507899522781\n",
      "loss 0.15405058860778809\n",
      "loss 0.06476008892059326\n",
      "loss 0.10933935642242432\n",
      "loss 0.11152730882167816\n",
      "loss 0.04945894703269005\n",
      "loss 0.112220898270607\n",
      "loss 0.07272432744503021\n",
      "loss 0.06083432957530022\n",
      "loss 0.11795240640640259\n",
      "loss 0.027759594842791557\n",
      "loss 0.10107104480266571\n",
      "loss 0.11626890301704407\n",
      "loss 0.11988478153944016\n",
      "loss 0.7607908248901367\n",
      "loss 0.10993896424770355\n",
      "loss 0.10292179137468338\n",
      "loss 0.05523039773106575\n",
      "loss 0.08828425407409668\n",
      "loss 0.047122400254011154\n",
      "loss 0.04290313273668289\n",
      "loss 0.09481953829526901\n",
      "loss 0.11204330623149872\n",
      "loss 0.09041541814804077\n",
      "loss 0.09773409366607666\n",
      "loss 0.12123718112707138\n",
      "loss 0.11016330868005753\n",
      "loss 0.12207575142383575\n",
      "loss 0.08508062362670898\n",
      "loss 0.11106403917074203\n",
      "loss 0.11448625475168228\n",
      "loss 0.10091526061296463\n",
      "loss 0.11813534051179886\n",
      "loss 0.11477498710155487\n",
      "loss 0.11562478542327881\n",
      "loss 0.11166738718748093\n",
      "loss 0.09714744240045547\n",
      "loss 0.9167161583900452\n",
      "loss 0.11636646836996078\n",
      "loss 0.10689390450716019\n",
      "loss 0.11346219480037689\n",
      "loss 0.10596209019422531\n",
      "loss 0.08909813314676285\n",
      "loss 0.06299363076686859\n",
      "loss 0.08872531354427338\n"
     ]
    }
   ],
   "source": [
    "fm_scores = []\n",
    "\n",
    "for i in range(fm_fe.shape[0]):\n",
    "    loss = autoencoder.evaluate(fm_fe[i:i+1], fm_fe[i:i+1], batch_size=1, verbose=0)\n",
    "    fm_scores.append(loss)\n",
    "    print('loss', loss)"
   ]
  },
  {
   "cell_type": "code",
   "execution_count": 33,
   "metadata": {
    "ExecuteTime": {
     "end_time": "2019-05-07T04:31:21.594346Z",
     "start_time": "2019-05-07T04:31:21.115104Z"
    }
   },
   "outputs": [
    {
     "data": {
      "image/png": "[encoded data removed]",
      "text/plain": [
       "<Figure size 1296x720 with 1 Axes>"
      ]
     },
     "metadata": {
      "needs_background": "light"
     },
     "output_type": "display_data"
    }
   ],
   "source": [
    "plt.figure(figsize=(18,10))\n",
    "plt.hist(np.array(scores), bins=60, normed=0, facecolor=\"blue\", edgecolor=\"black\", alpha=0.7)\n",
    "plt.hist(np.array(noise_scores), bins=60, normed=0, facecolor=\"red\", edgecolor=\"black\", alpha=0.7)\n",
    "plt.hist(np.array(fm_scores), bins=60, normed=0, facecolor=\"green\", edgecolor=\"black\", alpha=0.5)\n",
    "\n",
    "# 显示图标题\n",
    "plt.title(\"频数/频率分布直方图\")\n",
    "plt.show()"
   ]
  },
  {
   "cell_type": "code",
   "execution_count": 34,
   "metadata": {
    "ExecuteTime": {
     "end_time": "2019-05-07T04:31:25.432269Z",
     "start_time": "2019-05-07T04:31:25.429992Z"
    }
   },
   "outputs": [],
   "source": [
    "fm_s = np.array(fm_scores)\n",
    "\n",
    "fm_ss=fm_s[fm_s<0.045]"
   ]
  },
  {
   "cell_type": "code",
   "execution_count": 35,
   "metadata": {
    "ExecuteTime": {
     "end_time": "2019-05-07T04:31:26.520864Z",
     "start_time": "2019-05-07T04:31:26.515842Z"
    }
   },
   "outputs": [
    {
     "data": {
      "text/plain": [
       "14"
      ]
     },
     "execution_count": 35,
     "metadata": {},
     "output_type": "execute_result"
    }
   ],
   "source": [
    "len(fm_ss)"
   ]
  },
  {
   "cell_type": "code",
   "execution_count": 41,
   "metadata": {
    "ExecuteTime": {
     "end_time": "2019-05-07T04:37:16.729958Z",
     "start_time": "2019-05-07T04:36:46.178073Z"
    }
   },
   "outputs": [
    {
     "name": "stderr",
     "output_type": "stream",
     "text": [
      "1it [00:00,  8.11it/s]"
     ]
    },
    {
     "name": "stdout",
     "output_type": "stream",
     "text": [
      "Extracting features ...\n"
     ]
    },
    {
     "name": "stderr",
     "output_type": "stream",
     "text": [
      "6it [00:00,  7.62it/s]"
     ]
    },
    {
     "name": "stdout",
     "output_type": "stream",
     "text": [
      "文件路径:../data_fm_424/radioAudio/95.6MHz.wav, 文件名:95.6MHz, loss: 0.04084145650267601\n"
     ]
    },
    {
     "name": "stderr",
     "output_type": "stream",
     "text": [
      "41it [00:05,  6.95it/s]"
     ]
    },
    {
     "name": "stdout",
     "output_type": "stream",
     "text": [
      "文件路径:../data_fm_424/radioAudio/94.3MHz.wav, 文件名:94.3MHz, loss: 0.041990507394075394\n"
     ]
    },
    {
     "name": "stderr",
     "output_type": "stream",
     "text": [
      "53it [00:07,  6.94it/s]"
     ]
    },
    {
     "name": "stdout",
     "output_type": "stream",
     "text": [
      "文件路径:../data_fm_424/radioAudio/87.6MHz.wav, 文件名:87.6MHz, loss: 0.030870893970131874\n"
     ]
    },
    {
     "name": "stderr",
     "output_type": "stream",
     "text": [
      "55it [00:07,  6.90it/s]"
     ]
    },
    {
     "name": "stdout",
     "output_type": "stream",
     "text": [
      "文件路径:../data_fm_424/radioAudio/89.8MHz.wav, 文件名:89.8MHz, loss: 0.025934243574738503\n"
     ]
    },
    {
     "name": "stderr",
     "output_type": "stream",
     "text": [
      "77it [00:11,  6.93it/s]"
     ]
    },
    {
     "name": "stdout",
     "output_type": "stream",
     "text": [
      "文件路径:../data_fm_424/radioAudio/87.5MHz.wav, 文件名:87.5MHz, loss: 0.03435032069683075\n"
     ]
    },
    {
     "name": "stderr",
     "output_type": "stream",
     "text": [
      "88it [00:12,  6.93it/s]"
     ]
    },
    {
     "name": "stdout",
     "output_type": "stream",
     "text": [
      "文件路径:../data_fm_424/radioAudio/99.0MHz.wav, 文件名:99.0MHz, loss: 0.022290106862783432\n"
     ]
    },
    {
     "name": "stderr",
     "output_type": "stream",
     "text": [
      "116it [00:16,  6.89it/s]"
     ]
    },
    {
     "name": "stdout",
     "output_type": "stream",
     "text": [
      "文件路径:../data_fm_424/radioAudio/103.8MHz.wav, 文件名:103.8MHz, loss: 0.034878332167863846\n"
     ]
    },
    {
     "name": "stderr",
     "output_type": "stream",
     "text": [
      "138it [00:19,  6.98it/s]"
     ]
    },
    {
     "name": "stdout",
     "output_type": "stream",
     "text": [
      "文件路径:../data_fm_424/radioAudio/107.0MHz.wav, 文件名:107.0MHz, loss: 0.04468155652284622\n",
      "文件路径:../data_fm_424/radioAudio/102.8MHz.wav, 文件名:102.8MHz, loss: 0.02994755282998085\n"
     ]
    },
    {
     "name": "stderr",
     "output_type": "stream",
     "text": [
      "141it [00:20,  6.88it/s]"
     ]
    },
    {
     "name": "stdout",
     "output_type": "stream",
     "text": [
      "文件路径:../data_fm_424/radioAudio/105.0MHz.wav, 文件名:105.0MHz, loss: 0.03625192493200302\n"
     ]
    },
    {
     "name": "stderr",
     "output_type": "stream",
     "text": [
      "161it [00:23,  6.90it/s]"
     ]
    },
    {
     "name": "stdout",
     "output_type": "stream",
     "text": [
      "文件路径:../data_fm_424/radioAudio/95.4MHz.wav, 文件名:95.4MHz, loss: 0.03863568231463432\n"
     ]
    },
    {
     "name": "stderr",
     "output_type": "stream",
     "text": [
      "167it [00:24,  6.91it/s]"
     ]
    },
    {
     "name": "stdout",
     "output_type": "stream",
     "text": [
      "文件路径:../data_fm_424/radioAudio/94.4MHz.wav, 文件名:94.4MHz, loss: 0.040706317871809006\n"
     ]
    },
    {
     "name": "stderr",
     "output_type": "stream",
     "text": [
      "178it [00:25,  6.89it/s]"
     ]
    },
    {
     "name": "stdout",
     "output_type": "stream",
     "text": [
      "文件路径:../data_fm_424/radioAudio/100.0MHz.wav, 文件名:100.0MHz, loss: 0.027759594842791557\n"
     ]
    },
    {
     "name": "stderr",
     "output_type": "stream",
     "text": [
      "188it [00:27,  6.97it/s]"
     ]
    },
    {
     "name": "stdout",
     "output_type": "stream",
     "text": [
      "文件路径:../data_fm_424/radioAudio/88.7MHz.wav, 文件名:88.7MHz, loss: 0.04290313273668289\n"
     ]
    },
    {
     "name": "stderr",
     "output_type": "stream",
     "text": [
      "211it [00:30,  6.83it/s]"
     ]
    },
    {
     "name": "stdout",
     "output_type": "stream",
     "text": [
      "Done.\n"
     ]
    },
    {
     "name": "stderr",
     "output_type": "stream",
     "text": [
      "\n"
     ]
    }
   ],
   "source": [
    "from tqdm import tqdm\n",
    "\n",
    "print(\"Extracting features ...\")\n",
    "tmps = []\n",
    "\n",
    "tmps_fm_scores = []\n",
    "file_name = {}\n",
    "\n",
    "for i, (raw_file_name, joined_file_path) in tqdm(enumerate(collect_files('../data_fm_424/radioAudio'))):\n",
    "    _, sig = wav.read(joined_file_path)\n",
    "    fea = extract(sig)\n",
    "    feats = normalize_frames(np.array(fea))\n",
    "    loss = autoencoder.evaluate(feats.reshape(1,-1), feats.reshape(1,-1), batch_size=1, verbose=0)\n",
    "    tmps_fm_scores.append(loss)\n",
    "    if loss <=0.045:\n",
    "        print(\"文件路径:{}, 文件名:{}, loss: {}\".format(joined_file_path, raw_file_name, loss))\n",
    "        file_name[raw_file_name]=loss\n",
    "        \n",
    "print(\"Done.\")"
   ]
  },
  {
   "cell_type": "code",
   "execution_count": 42,
   "metadata": {
    "ExecuteTime": {
     "end_time": "2019-05-07T04:37:20.166188Z",
     "start_time": "2019-05-07T04:37:20.161566Z"
    }
   },
   "outputs": [],
   "source": [
    "tmps_fm_s= np.array(tmps_fm_scores)\n",
    "\n",
    "tmps_fm_ss=tmps_fm_s[tmps_fm_s<0.045]"
   ]
  },
  {
   "cell_type": "code",
   "execution_count": 43,
   "metadata": {
    "ExecuteTime": {
     "end_time": "2019-05-07T04:37:20.756000Z",
     "start_time": "2019-05-07T04:37:20.747392Z"
    }
   },
   "outputs": [
    {
     "data": {
      "text/plain": [
       "14"
      ]
     },
     "execution_count": 43,
     "metadata": {},
     "output_type": "execute_result"
    }
   ],
   "source": [
    "len(tmps_fm_ss)"
   ]
  },
  {
   "cell_type": "code",
   "execution_count": 44,
   "metadata": {
    "ExecuteTime": {
     "end_time": "2019-05-07T04:37:34.089004Z",
     "start_time": "2019-05-07T04:37:34.086068Z"
    }
   },
   "outputs": [
    {
     "data": {
      "text/plain": [
       "{'95.6MHz': 0.04084145650267601,\n",
       " '94.3MHz': 0.041990507394075394,\n",
       " '87.6MHz': 0.030870893970131874,\n",
       " '89.8MHz': 0.025934243574738503,\n",
       " '87.5MHz': 0.03435032069683075,\n",
       " '99.0MHz': 0.022290106862783432,\n",
       " '103.8MHz': 0.034878332167863846,\n",
       " '107.0MHz': 0.04468155652284622,\n",
       " '102.8MHz': 0.02994755282998085,\n",
       " '105.0MHz': 0.03625192493200302,\n",
       " '95.4MHz': 0.03863568231463432,\n",
       " '94.4MHz': 0.040706317871809006,\n",
       " '100.0MHz': 0.027759594842791557,\n",
       " '88.7MHz': 0.04290313273668289}"
      ]
     },
     "execution_count": 44,
     "metadata": {},
     "output_type": "execute_result"
    }
   ],
   "source": [
    "file_name"
   ]
  },
  {
   "cell_type": "code",
   "execution_count": 45,
   "metadata": {
    "ExecuteTime": {
     "end_time": "2019-05-07T05:45:45.629344Z",
     "start_time": "2019-05-07T05:45:45.197474Z"
    }
   },
   "outputs": [
    {
     "data": {
      "image/png": "[encoded data removed]",
      "text/plain": [
       "<Figure size 1296x720 with 1 Axes>"
      ]
     },
     "metadata": {
      "needs_background": "light"
     },
     "output_type": "display_data"
    }
   ],
   "source": [
    "plt.figure(figsize=(18,10))\n",
    "plt.hist(np.array(scores), bins=60, normed=0, facecolor=\"blue\", edgecolor=\"black\", alpha=0.7)\n",
    "plt.hist(np.array(noise_scores), bins=60, normed=0, facecolor=\"red\", edgecolor=\"black\", alpha=0.7)\n",
    "# plt.hist(np.array(fm_scores), bins=60, normed=0, facecolor=\"green\", edgecolor=\"black\", alpha=0.5)\n",
    "\n",
    "plt.hist(np.array(tmps_fm_scores), bins=60, normed=0, facecolor=\"yellow\", edgecolor=\"black\", alpha=0.3)\n",
    "\n",
    "# 显示图标题\n",
    "plt.title(\"频数/频率分布直方图\")\n",
    "plt.show()"
   ]
  },
  {
   "cell_type": "markdown",
   "metadata": {
    "ExecuteTime": {
     "end_time": "2019-05-07T03:03:48.298798Z",
     "start_time": "2019-05-07T03:03:47.198731Z"
    }
   },
   "source": [
    "## 加载模型的代码   \n",
    "\n",
    "    # encoding = utf-8\n",
    "\n",
    "    import tqdm\n",
    "    from pathlib import Path\n",
    "\n",
    "    import keras\n",
    "    from keras.models import load_model\n",
    "\n",
    "    model = load_model(filepath)\n",
    "    # loss = model.evaluate(x_test, y_test, batch_size=1, verbose=2)\n",
    "    print('model:', model)\n",
    "\n",
    "    # wf = open('label_.csv', 'a+')\n",
    "    # one_class_label = 0\n",
    "    # print('x_test', test[0].shape)\n",
    "    # # loss = model.evaluate(test[:1], test[:1], batch_size=1, verbose=2)\n",
    "    # # print('loss', loss)\n",
    "    # for i in range(test.shape[0]):\n",
    "    #     loss = model.evaluate(test[i:i+1], test[i:i+1], batch_size=1, verbose=0)\n",
    "    #     # print('loss', loss)\n",
    "    #     wf.write(str(one_class_label) + ',' + str(5) + ',' + str(loss) + '\\n')\n",
    "    #     print(i)\n",
    "    # wf.close()\n",
    "\n",
    "    # del model\n",
    "    # gc.collect()"
   ]
  },
  {
   "cell_type": "markdown",
   "metadata": {},
   "source": [
    "---\n",
    "# 以噪声数据作为训练，以有说话声数据作为测试\n",
    "\n",
    "**【注意：】重复上述步骤，不同之处在于将训练数据和测试数据交换**"
   ]
  },
  {
   "cell_type": "code",
   "execution_count": 39,
   "metadata": {
    "ExecuteTime": {
     "end_time": "2019-05-07T03:18:58.684983Z",
     "start_time": "2019-05-07T03:18:57.359594Z"
    }
   },
   "outputs": [
    {
     "name": "stdout",
     "output_type": "stream",
     "text": [
      "Epoch 1/10\n",
      "334/334 [==============================] - 0s 363us/step - loss: 0.0173\n",
      "Epoch 2/10\n",
      "334/334 [==============================] - 0s 346us/step - loss: 0.0056\n",
      "Epoch 3/10\n",
      "334/334 [==============================] - 0s 325us/step - loss: 0.0053\n",
      "Epoch 4/10\n",
      "334/334 [==============================] - 0s 331us/step - loss: 0.0052\n",
      "Epoch 5/10\n",
      "334/334 [==============================] - 0s 331us/step - loss: 0.0053\n",
      "Epoch 6/10\n",
      "334/334 [==============================] - 0s 343us/step - loss: 0.0052\n",
      "Epoch 7/10\n",
      "334/334 [==============================] - 0s 331us/step - loss: 0.0051\n",
      "Epoch 8/10\n",
      "334/334 [==============================] - 0s 330us/step - loss: 0.0051\n",
      "Epoch 9/10\n",
      "334/334 [==============================] - 0s 350us/step - loss: 0.0050\n",
      "Epoch 10/10\n",
      "334/334 [==============================] - 0s 339us/step - loss: 0.0050\n",
      "测试集损失函数值： 0.00515253807300936\n",
      "[[ 1.4599336   1.5503818   0.7767413  ... -0.2786408  -0.2943708\n",
      "  -0.2949549 ]\n",
      " [ 1.4685991   1.5173404   0.7384685  ... -0.29599574 -0.28913143\n",
      "  -0.2739941 ]\n",
      " [ 1.4636785   1.5572513   0.7654877  ... -0.28117326 -0.27621827\n",
      "  -0.28689405]\n",
      " ...\n",
      " [ 1.4816859   1.5780883   0.7933514  ... -0.28136405 -0.3086768\n",
      "  -0.27569282]\n",
      " [ 1.4610267   1.5869087   0.7988965  ... -0.27490154 -0.29404512\n",
      "  -0.2836171 ]\n",
      " [ 1.4874414   1.5899924   0.79251975 ... -0.28333023 -0.29369554\n",
      "  -0.28101215]]\n"
     ]
    }
   ],
   "source": [
    "# training\n",
    "autoencoder.fit(noise_fe, noise_fe, epochs=10, batch_size=10, shuffle=True)\n",
    "\n",
    "filepath = 'autocode_0507.h5'\n",
    "autoencoder.save(filepath)\n",
    "\n",
    "# plotting\n",
    "loss = autoencoder.evaluate(noise_fe, noise_fe, batch_size=1, verbose=2)\n",
    "print('测试集损失函数值：', loss)\n",
    "decoded_imgs = autoencoder.predict(noise_fe)\n",
    "print(decoded_imgs)"
   ]
  },
  {
   "cell_type": "code",
   "execution_count": 40,
   "metadata": {
    "ExecuteTime": {
     "end_time": "2019-05-07T03:19:39.926117Z",
     "start_time": "2019-05-07T03:19:39.733115Z"
    }
   },
   "outputs": [
    {
     "name": "stdout",
     "output_type": "stream",
     "text": [
      "loss 0.005302530247718096\n",
      "loss 0.005641177296638489\n",
      "loss 0.006763818208128214\n",
      "loss 0.004816441796720028\n",
      "loss 0.005971752572804689\n",
      "loss 0.005134917795658112\n",
      "loss 0.006862388923764229\n",
      "loss 0.006936227437108755\n",
      "loss 0.0034283995628356934\n",
      "loss 0.003919665236026049\n",
      "loss 0.010512681677937508\n",
      "loss 0.0034363793674856424\n",
      "loss 0.006046351511031389\n",
      "loss 0.003855158109217882\n",
      "loss 0.005036135204136372\n",
      "loss 0.005098969209939241\n",
      "loss 0.0039811828173696995\n",
      "loss 0.004129835404455662\n",
      "loss 0.007984868250787258\n",
      "loss 0.005053576081991196\n",
      "loss 0.003773013362661004\n",
      "loss 0.006672649644315243\n",
      "loss 0.007932454347610474\n",
      "loss 0.0042542265728116035\n",
      "loss 0.0032157045789062977\n",
      "loss 0.005454070866107941\n",
      "loss 0.004209902137517929\n",
      "loss 0.005770671647042036\n",
      "loss 0.00455111637711525\n",
      "loss 0.0025018928572535515\n",
      "loss 0.007596881128847599\n",
      "loss 0.005067767109721899\n",
      "loss 0.005321423523128033\n",
      "loss 0.006190894171595573\n",
      "loss 0.004588901065289974\n",
      "loss 0.005828323308378458\n",
      "loss 0.0026442985981702805\n",
      "loss 0.004713956732302904\n",
      "loss 0.00419731205329299\n",
      "loss 0.005890483967959881\n",
      "loss 0.003780270926654339\n",
      "loss 0.004495666362345219\n",
      "loss 0.00668499106541276\n",
      "loss 0.006119110155850649\n",
      "loss 0.004002307541668415\n",
      "loss 0.004263778682798147\n",
      "loss 0.005598424933850765\n",
      "loss 0.005798380821943283\n",
      "loss 0.004459585063159466\n",
      "loss 0.007163067813962698\n",
      "loss 0.005505646113306284\n",
      "loss 0.003110439982265234\n",
      "loss 0.0034450471866875887\n",
      "loss 0.004192626103758812\n",
      "loss 0.004355824552476406\n",
      "loss 0.00790348369628191\n",
      "loss 0.0030870370101183653\n",
      "loss 0.004230106249451637\n",
      "loss 0.0052355811931192875\n",
      "loss 0.0067289043217897415\n",
      "loss 0.004835870582610369\n",
      "loss 0.005804091226309538\n",
      "loss 0.002635334385558963\n",
      "loss 0.0032682199962437153\n",
      "loss 0.0030652834102511406\n",
      "loss 0.004852768033742905\n",
      "loss 0.005947495345026255\n",
      "loss 0.004567532334476709\n",
      "loss 0.004683258011937141\n",
      "loss 0.007519145961850882\n",
      "loss 0.00860227644443512\n",
      "loss 0.006070790346711874\n",
      "loss 0.003955437336117029\n",
      "loss 0.004077286459505558\n",
      "loss 0.0062053329311311245\n",
      "loss 0.004376633558422327\n",
      "loss 0.003958314191550016\n",
      "loss 0.005098393652588129\n",
      "loss 0.010851900093257427\n",
      "loss 0.0044222669675946236\n",
      "loss 0.006798755843192339\n",
      "loss 0.003840271383523941\n",
      "loss 0.004716461058706045\n",
      "loss 0.004890761338174343\n",
      "loss 0.007790079340338707\n",
      "loss 0.004359071142971516\n",
      "loss 0.005381839349865913\n",
      "loss 0.006494966801255941\n",
      "loss 0.007988502271473408\n",
      "loss 0.003957244101911783\n",
      "loss 0.004656914621591568\n",
      "loss 0.004682844504714012\n",
      "loss 0.0033361793030053377\n",
      "loss 0.0045827473513782024\n",
      "loss 0.004639592487365007\n",
      "loss 0.004428369924426079\n",
      "loss 0.004852001555263996\n",
      "loss 0.005439545959234238\n",
      "loss 0.004081451799720526\n",
      "loss 0.004130196291953325\n",
      "loss 0.004328958690166473\n",
      "loss 0.006320293992757797\n",
      "loss 0.004925677087157965\n",
      "loss 0.008338102139532566\n",
      "loss 0.007580618839710951\n",
      "loss 0.0036129362415522337\n",
      "loss 0.005730891600251198\n",
      "loss 0.006697296164929867\n",
      "loss 0.0046460675075650215\n",
      "loss 0.0023182877339422703\n",
      "loss 0.006971362978219986\n",
      "loss 0.004494127351790667\n",
      "loss 0.00300966901704669\n",
      "loss 0.0028384674806147814\n",
      "loss 0.003565742401406169\n",
      "loss 0.003976731561124325\n",
      "loss 0.003798391204327345\n",
      "loss 0.004606673493981361\n",
      "loss 0.004212977364659309\n",
      "loss 0.0039442540146410465\n",
      "loss 0.0037425155751407146\n",
      "loss 0.004428181331604719\n",
      "loss 0.004790052771568298\n",
      "loss 0.005445008631795645\n",
      "loss 0.005199631210416555\n",
      "loss 0.005705716088414192\n",
      "loss 0.005847612861543894\n",
      "loss 0.006600517313927412\n",
      "loss 0.0023174879606813192\n",
      "loss 0.010439623147249222\n",
      "loss 0.005723319016396999\n",
      "loss 0.005524430889636278\n",
      "loss 0.006285055074840784\n",
      "loss 0.004381088539958\n",
      "loss 0.00563820730894804\n",
      "loss 0.004289049655199051\n",
      "loss 0.005252332426607609\n",
      "loss 0.0035488551948219538\n",
      "loss 0.004620090592652559\n",
      "loss 0.004549612756818533\n",
      "loss 0.0038436681497842073\n",
      "loss 0.004407268017530441\n",
      "loss 0.0038696618285030127\n",
      "loss 0.006856204010546207\n",
      "loss 0.00776340626180172\n",
      "loss 0.005451931618154049\n",
      "loss 0.0032245712354779243\n",
      "loss 0.004894719459116459\n",
      "loss 0.005102937109768391\n",
      "loss 0.0047205002047121525\n",
      "loss 0.004142568912357092\n",
      "loss 0.0042977225966751575\n",
      "loss 0.002392101800069213\n",
      "loss 0.0053109582513570786\n",
      "loss 0.002690293826162815\n",
      "loss 0.007201623637229204\n",
      "loss 0.005543575622141361\n",
      "loss 0.0036522739101201296\n",
      "loss 0.007196614518761635\n",
      "loss 0.005853992886841297\n",
      "loss 0.004125981125980616\n",
      "loss 0.004449052270501852\n",
      "loss 0.0038070387672632933\n",
      "loss 0.0032443141099065542\n",
      "loss 0.006259174086153507\n",
      "loss 0.0029443204402923584\n",
      "loss 0.0037227969150990248\n",
      "loss 0.005813005845993757\n",
      "loss 0.006680258549749851\n",
      "loss 0.004325829446315765\n",
      "loss 0.004279799293726683\n",
      "loss 0.006138827186077833\n",
      "loss 0.005170212127268314\n",
      "loss 0.0052049788646399975\n",
      "loss 0.007714512292295694\n",
      "loss 0.006678298581391573\n",
      "loss 0.004074876196682453\n",
      "loss 0.004599637817591429\n",
      "loss 0.006218770053237677\n",
      "loss 0.00785224698483944\n",
      "loss 0.00406007282435894\n",
      "loss 0.00464643444865942\n",
      "loss 0.006567172706127167\n",
      "loss 0.007303651887923479\n",
      "loss 0.005080219823867083\n",
      "loss 0.005211339332163334\n",
      "loss 0.007211141753941774\n",
      "loss 0.0036635887809097767\n",
      "loss 0.004536286927759647\n",
      "loss 0.00825399812310934\n",
      "loss 0.007442906964570284\n",
      "loss 0.00509948655962944\n",
      "loss 0.0038506006821990013\n",
      "loss 0.003924897406250238\n",
      "loss 0.005109168589115143\n",
      "loss 0.005339446943253279\n",
      "loss 0.004370707552880049\n",
      "loss 0.007495274767279625\n",
      "loss 0.004846216645091772\n",
      "loss 0.003897407790645957\n",
      "loss 0.0036600257735699415\n",
      "loss 0.004927248694002628\n",
      "loss 0.0051218741573393345\n",
      "loss 0.003301634220406413\n",
      "loss 0.0032023766543716192\n",
      "loss 0.004761798307299614\n",
      "loss 0.005056458059698343\n",
      "loss 0.005046806298196316\n",
      "loss 0.00459830230101943\n",
      "loss 0.005075886845588684\n",
      "loss 0.004668526351451874\n",
      "loss 0.0045415135100483894\n",
      "loss 0.004416825249791145\n",
      "loss 0.005328226834535599\n",
      "loss 0.00333136017434299\n",
      "loss 0.005881008226424456\n",
      "loss 0.003436896950006485\n",
      "loss 0.005118401721119881\n",
      "loss 0.0039899698458611965\n",
      "loss 0.0035865020472556353\n",
      "loss 0.004428897053003311\n",
      "loss 0.009386262856423855\n",
      "loss 0.006547199562191963\n",
      "loss 0.004946907516568899\n",
      "loss 0.00478843180462718\n",
      "loss 0.003749256720766425\n",
      "loss 0.00620534922927618\n",
      "loss 0.005076523870229721\n",
      "loss 0.003220075974240899\n",
      "loss 0.006066007539629936\n",
      "loss 0.003997402731329203\n",
      "loss 0.004810377024114132\n",
      "loss 0.0031680348329246044\n",
      "loss 0.004804946947842836\n",
      "loss 0.004880908410996199\n",
      "loss 0.006724420934915543\n",
      "loss 0.004163044970482588\n",
      "loss 0.005878172814846039\n",
      "loss 0.005911681801080704\n",
      "loss 0.003731327597051859\n",
      "loss 0.004723170306533575\n",
      "loss 0.004629265982657671\n",
      "loss 0.004650987684726715\n",
      "loss 0.003067642915993929\n",
      "loss 0.00663600442931056\n",
      "loss 0.0043580420315265656\n",
      "loss 0.005481000989675522\n",
      "loss 0.007430782541632652\n",
      "loss 0.00575367221608758\n",
      "loss 0.0054640923626720905\n",
      "loss 0.007040318101644516\n",
      "loss 0.008794265799224377\n",
      "loss 0.005390129052102566\n",
      "loss 0.004315176047384739\n",
      "loss 0.004167268984019756\n",
      "loss 0.0036448652390390635\n",
      "loss 0.003910543862730265\n",
      "loss 0.004737338051199913\n",
      "loss 0.005328591912984848\n",
      "loss 0.0074849724769592285\n",
      "loss 0.006218157708644867\n",
      "loss 0.003945928532630205\n",
      "loss 0.004334481433033943\n",
      "loss 0.0037921934854239225\n",
      "loss 0.005790191702544689\n",
      "loss 0.004174533765763044\n",
      "loss 0.004097294993698597\n",
      "loss 0.0032514750491827726\n",
      "loss 0.0074593243189156055\n",
      "loss 0.006357722915709019\n",
      "loss 0.003676713677123189\n",
      "loss 0.007660767994821072\n",
      "loss 0.005774490535259247\n",
      "loss 0.005954969674348831\n",
      "loss 0.004154588561505079\n",
      "loss 0.006171614862978458\n",
      "loss 0.00428853090852499\n",
      "loss 0.004529766738414764\n",
      "loss 0.004593268968164921\n",
      "loss 0.005147695075720549\n",
      "loss 0.0035962266847491264\n",
      "loss 0.004330569412559271\n",
      "loss 0.005584115162491798\n",
      "loss 0.009435237385332584\n",
      "loss 0.005079615395516157\n",
      "loss 0.006451462395489216\n",
      "loss 0.0035613898653537035\n",
      "loss 0.0038053132593631744\n",
      "loss 0.00473051518201828\n",
      "loss 0.004064904525876045\n",
      "loss 0.004146955907344818\n",
      "loss 0.006859631277620792\n",
      "loss 0.0040846532210707664\n",
      "loss 0.005998793989419937\n",
      "loss 0.0064165592193603516\n",
      "loss 0.0034395139664411545\n",
      "loss 0.007133884355425835\n",
      "loss 0.005780189298093319\n",
      "loss 0.0031482798513025045\n",
      "loss 0.004621936473995447\n",
      "loss 0.0069727967493236065\n",
      "loss 0.007753528654575348\n",
      "loss 0.004563694354146719\n",
      "loss 0.006264061667025089\n",
      "loss 0.00508655421435833\n",
      "loss 0.005016849376261234\n",
      "loss 0.005913846660405397\n",
      "loss 0.003419427899643779\n",
      "loss 0.004022164735943079\n",
      "loss 0.008519107475876808\n",
      "loss 0.004229261074215174\n",
      "loss 0.007409967016428709\n",
      "loss 0.0035984760615974665\n",
      "loss 0.005501524079591036\n",
      "loss 0.006420438177883625\n",
      "loss 0.008475566282868385\n",
      "loss 0.0059296139515936375\n",
      "loss 0.004402162507176399\n",
      "loss 0.006162881851196289\n",
      "loss 0.0073113455437123775\n",
      "loss 0.0052397348918020725\n",
      "loss 0.0039736065082252026\n",
      "loss 0.005206259898841381\n",
      "loss 0.0033341688103973866\n",
      "loss 0.0049928175285458565\n",
      "loss 0.006137544754892588\n",
      "loss 0.007111101411283016\n",
      "loss 0.008763500489294529\n",
      "loss 0.008509566076099873\n",
      "loss 0.001983113819733262\n",
      "loss 0.0030855087097734213\n",
      "loss 0.005967490375041962\n",
      "loss 0.006876825354993343\n",
      "loss 0.00443417951464653\n"
     ]
    }
   ],
   "source": [
    "from tqdm import tqdm\n",
    "\n",
    "scores = []\n",
    "for i in range(noise_fe.shape[0]):\n",
    "    loss = autoencoder.evaluate(noise_fe[i:i+1], noise_fe[i:i+1], batch_size=1, verbose=0)\n",
    "    scores.append(loss)\n",
    "    print('loss', loss)"
   ]
  },
  {
   "cell_type": "code",
   "execution_count": 41,
   "metadata": {
    "ExecuteTime": {
     "end_time": "2019-05-07T03:19:55.559185Z",
     "start_time": "2019-05-07T03:19:55.255616Z"
    }
   },
   "outputs": [
    {
     "data": {
      "image/png": "[encoded data removed]",
      "text/plain": [
       "<Figure size 1296x720 with 1 Axes>"
      ]
     },
     "metadata": {
      "needs_background": "light"
     },
     "output_type": "display_data"
    }
   ],
   "source": [
    "plt.figure(figsize=(18,10))\n",
    "plt.hist(np.array(scores), bins=60, normed=0, facecolor=\"blue\", edgecolor=\"black\", alpha=0.7)\n",
    "# plt.hist(np.array(test_scores)[itemindex_notis], bins=60, normed=0, facecolor=\"red\", edgecolor=\"black\", alpha=0.7)\n",
    "\n",
    "# 显示图标题\n",
    "plt.title(\"频数/频率分布直方图\")\n",
    "plt.show()"
   ]
  },
  {
   "cell_type": "code",
   "execution_count": 42,
   "metadata": {
    "ExecuteTime": {
     "end_time": "2019-05-07T03:20:30.014592Z",
     "start_time": "2019-05-07T03:20:30.007413Z"
    }
   },
   "outputs": [
    {
     "name": "stdout",
     "output_type": "stream",
     "text": [
      "(357, 156)\n"
     ]
    }
   ],
   "source": [
    "speech_fe = load('SPEECH_FEA')\n",
    "\n",
    "# print(speech_fe)\n",
    "\n",
    "print(np.array(speech_fe).shape)\n",
    "\n",
    "speech_fe = np.array(speech_fe)"
   ]
  },
  {
   "cell_type": "code",
   "execution_count": 43,
   "metadata": {
    "ExecuteTime": {
     "end_time": "2019-05-07T03:21:07.750944Z",
     "start_time": "2019-05-07T03:21:07.540648Z"
    }
   },
   "outputs": [
    {
     "name": "stdout",
     "output_type": "stream",
     "text": [
      "loss 0.10750097036361694\n",
      "loss 0.11997967213392258\n",
      "loss 0.0979476124048233\n",
      "loss 0.08926428109407425\n",
      "loss 0.13152611255645752\n",
      "loss 0.10344737768173218\n",
      "loss 0.09446696937084198\n",
      "loss 0.15363582968711853\n",
      "loss 0.15640446543693542\n",
      "loss 0.09123775362968445\n",
      "loss 0.08848904073238373\n",
      "loss 0.07048458606004715\n",
      "loss 0.0739508718252182\n",
      "loss 0.11748676747083664\n",
      "loss 0.11096689105033875\n",
      "loss 0.09309348464012146\n",
      "loss 0.07870776951313019\n",
      "loss 0.17532901465892792\n",
      "loss 0.09473519772291183\n",
      "loss 0.10392455756664276\n",
      "loss 0.09763709455728531\n",
      "loss 0.10547998547554016\n",
      "loss 0.12166094034910202\n",
      "loss 0.19769969582557678\n",
      "loss 0.11239976435899734\n",
      "loss 0.11801868677139282\n",
      "loss 0.1422601044178009\n",
      "loss 0.1639672964811325\n",
      "loss 0.14558546245098114\n",
      "loss 0.13519176840782166\n",
      "loss 0.09964682161808014\n",
      "loss 0.14846213161945343\n",
      "loss 0.10495235025882721\n",
      "loss 0.16254036128520966\n",
      "loss 0.13352340459823608\n",
      "loss 0.13941214978694916\n",
      "loss 0.106388621032238\n",
      "loss 0.07033293694257736\n",
      "loss 0.13813908398151398\n",
      "loss 0.12552836537361145\n",
      "loss 0.10806962847709656\n",
      "loss 0.12898381054401398\n",
      "loss 0.09109088033437729\n",
      "loss 0.11326652765274048\n",
      "loss 0.12046773731708527\n",
      "loss 0.13414619863033295\n",
      "loss 0.12425592541694641\n",
      "loss 0.08899302780628204\n",
      "loss 0.13596226274967194\n",
      "loss 0.12602345645427704\n",
      "loss 0.13933852314949036\n",
      "loss 0.1490422785282135\n",
      "loss 0.1270415037870407\n",
      "loss 0.1259547919034958\n",
      "loss 0.11731245368719101\n",
      "loss 0.14007018506526947\n",
      "loss 0.0983208417892456\n",
      "loss 0.08557181060314178\n",
      "loss 0.10481531172990799\n",
      "loss 0.1052071750164032\n",
      "loss 0.16394154727458954\n",
      "loss 0.0911894366145134\n",
      "loss 0.09506289660930634\n",
      "loss 0.12112562358379364\n",
      "loss 0.11680912226438522\n",
      "loss 0.11428964883089066\n",
      "loss 0.12106670439243317\n",
      "loss 0.12106359750032425\n",
      "loss 0.14112335443496704\n",
      "loss 0.1004546508193016\n",
      "loss 0.11557287722826004\n",
      "loss 0.13648390769958496\n",
      "loss 0.14489558339118958\n",
      "loss 0.08107271790504456\n",
      "loss 0.09386003017425537\n",
      "loss 0.09535344690084457\n",
      "loss 0.0899539664387703\n",
      "loss 0.12461014091968536\n",
      "loss 0.10100310295820236\n",
      "loss 0.1564694046974182\n",
      "loss 0.10069429129362106\n",
      "loss 0.09019267559051514\n",
      "loss 0.16593119502067566\n",
      "loss 0.11222289502620697\n",
      "loss 0.13867606222629547\n",
      "loss 0.11736246198415756\n",
      "loss 0.11187415570020676\n",
      "loss 0.08170035481452942\n",
      "loss 0.16307368874549866\n",
      "loss 0.12176700681447983\n",
      "loss 0.12478343397378922\n",
      "loss 0.11974684149026871\n",
      "loss 0.08181056380271912\n",
      "loss 0.10166481137275696\n",
      "loss 0.1065051481127739\n",
      "loss 0.1047547310590744\n",
      "loss 0.08141505718231201\n",
      "loss 0.11008169502019882\n",
      "loss 0.11337661743164062\n",
      "loss 0.15368559956550598\n",
      "loss 0.10621315240859985\n",
      "loss 0.07372044026851654\n",
      "loss 0.13223496079444885\n",
      "loss 0.1079908013343811\n",
      "loss 0.10428428649902344\n",
      "loss 0.12848277390003204\n",
      "loss 0.10892828553915024\n",
      "loss 0.13167473673820496\n",
      "loss 0.1618080586194992\n",
      "loss 0.14788208901882172\n",
      "loss 0.17713157832622528\n",
      "loss 0.14583051204681396\n",
      "loss 0.11552723497152328\n",
      "loss 0.10686685144901276\n",
      "loss 0.09027884900569916\n",
      "loss 0.1703997105360031\n",
      "loss 0.1341375857591629\n",
      "loss 0.08253686130046844\n",
      "loss 0.1003900095820427\n",
      "loss 0.12108232080936432\n",
      "loss 0.12244600802659988\n",
      "loss 0.095766082406044\n",
      "loss 0.10422872751951218\n",
      "loss 0.12483274936676025\n",
      "loss 0.1136428639292717\n",
      "loss 0.15937259793281555\n",
      "loss 0.11542855948209763\n",
      "loss 0.14018623530864716\n",
      "loss 0.09451723098754883\n",
      "loss 0.10149732977151871\n",
      "loss 0.1095830500125885\n",
      "loss 0.17238448560237885\n",
      "loss 0.13127626478672028\n",
      "loss 0.1560652256011963\n",
      "loss 0.10856103897094727\n",
      "loss 0.11394083499908447\n",
      "loss 0.15027521550655365\n",
      "loss 0.14789065718650818\n",
      "loss 0.11429658532142639\n",
      "loss 0.09394698590040207\n",
      "loss 0.09300802648067474\n",
      "loss 0.11349870264530182\n",
      "loss 0.14150208234786987\n",
      "loss 0.12456660717725754\n",
      "loss 0.14386887848377228\n",
      "loss 0.11649385094642639\n",
      "loss 0.10597292333841324\n",
      "loss 0.1637767255306244\n",
      "loss 0.11385855078697205\n",
      "loss 0.13355815410614014\n",
      "loss 0.13555163145065308\n",
      "loss 0.0940956249833107\n",
      "loss 0.09727377444505692\n",
      "loss 0.11656030267477036\n",
      "loss 0.11320632696151733\n",
      "loss 0.11373119801282883\n",
      "loss 0.06308954209089279\n",
      "loss 0.16245731711387634\n",
      "loss 0.10582895576953888\n",
      "loss 0.09177681803703308\n",
      "loss 0.11452580988407135\n",
      "loss 0.17519906163215637\n",
      "loss 0.07252990454435349\n",
      "loss 0.10666590183973312\n",
      "loss 0.1105678603053093\n",
      "loss 0.11599966138601303\n",
      "loss 0.1845552921295166\n",
      "loss 0.1117376908659935\n",
      "loss 0.11217416822910309\n",
      "loss 0.15547728538513184\n",
      "loss 0.1596304029226303\n",
      "loss 0.12166187167167664\n",
      "loss 0.08497299253940582\n",
      "loss 0.13917939364910126\n",
      "loss 0.13649515807628632\n",
      "loss 0.15094630420207977\n",
      "loss 0.1285913586616516\n",
      "loss 0.14894118905067444\n",
      "loss 0.1110072135925293\n",
      "loss 0.15516503155231476\n",
      "loss 0.12861895561218262\n",
      "loss 0.09944204986095428\n",
      "loss 0.08332730829715729\n",
      "loss 0.08350783586502075\n",
      "loss 0.10141726583242416\n",
      "loss 0.1566656231880188\n",
      "loss 0.10525535047054291\n",
      "loss 0.10386018455028534\n",
      "loss 0.10464877635240555\n",
      "loss 0.10336359590291977\n",
      "loss 0.12719173729419708\n",
      "loss 0.14506150782108307\n",
      "loss 0.14640234410762787\n",
      "loss 0.08899517357349396\n",
      "loss 0.08945945650339127\n",
      "loss 0.09407640248537064\n",
      "loss 0.1105383113026619\n",
      "loss 0.14893291890621185\n",
      "loss 0.09283220767974854\n",
      "loss 0.13152730464935303\n",
      "loss 0.0908222422003746\n",
      "loss 0.11615563929080963\n",
      "loss 0.14279286563396454\n",
      "loss 0.09365301579236984\n",
      "loss 0.1087079867720604\n",
      "loss 0.15730534493923187\n",
      "loss 0.10498802363872528\n",
      "loss 0.1089237779378891\n",
      "loss 0.11285824328660965\n",
      "loss 0.09210500121116638\n",
      "loss 0.16145312786102295\n",
      "loss 0.10885854810476303\n",
      "loss 0.11348351091146469\n",
      "loss 0.113313689827919\n",
      "loss 0.12617720663547516\n",
      "loss 0.09462692588567734\n",
      "loss 0.15305569767951965\n",
      "loss 0.11764142662286758\n",
      "loss 0.12010782212018967\n",
      "loss 0.1985066682100296\n",
      "loss 0.1507706344127655\n",
      "loss 0.08899614214897156\n",
      "loss 0.17099425196647644\n",
      "loss 0.10115028917789459\n",
      "loss 0.16327495872974396\n",
      "loss 0.09943871200084686\n",
      "loss 0.11353790760040283\n",
      "loss 0.1565060317516327\n",
      "loss 0.08899900317192078\n",
      "loss 0.1587727665901184\n",
      "loss 0.16069544851779938\n",
      "loss 0.15736372768878937\n",
      "loss 0.12315834313631058\n",
      "loss 0.07902738451957703\n",
      "loss 0.0890335813164711\n",
      "loss 0.10332448780536652\n",
      "loss 0.1194949522614479\n",
      "loss 0.10096408426761627\n",
      "loss 0.11765073239803314\n",
      "loss 0.11729978024959564\n",
      "loss 0.06490162760019302\n",
      "loss 0.0753031075000763\n",
      "loss 0.11490711569786072\n",
      "loss 0.13965721428394318\n",
      "loss 0.09809958934783936\n",
      "loss 0.09642153233289719\n",
      "loss 0.11224956810474396\n",
      "loss 0.11234639585018158\n",
      "loss 0.1426100730895996\n",
      "loss 0.0706062838435173\n",
      "loss 0.09551208466291428\n",
      "loss 0.08178818970918655\n",
      "loss 0.11371505260467529\n",
      "loss 0.11153382807970047\n",
      "loss 0.10473794490098953\n",
      "loss 0.16778141260147095\n",
      "loss 0.15422533452510834\n",
      "loss 0.05581975728273392\n",
      "loss 0.080008864402771\n",
      "loss 0.11364609003067017\n",
      "loss 0.09853183478116989\n",
      "loss 0.09378727525472641\n",
      "loss 0.09997174143791199\n",
      "loss 0.06609562784433365\n",
      "loss 0.11128570139408112\n",
      "loss 0.1025628000497818\n",
      "loss 0.1331346333026886\n",
      "loss 0.11363763362169266\n",
      "loss 0.1169423833489418\n",
      "loss 0.16797488927841187\n",
      "loss 0.14471258223056793\n",
      "loss 0.09006617218255997\n",
      "loss 0.09531227499246597\n",
      "loss 0.11519277840852737\n",
      "loss 0.10203516483306885\n",
      "loss 0.10112360864877701\n",
      "loss 0.13028199970722198\n",
      "loss 0.12701807916164398\n",
      "loss 0.1027107983827591\n",
      "loss 0.09547466784715652\n",
      "loss 0.14856432378292084\n",
      "loss 0.1304985135793686\n",
      "loss 0.16801407933235168\n",
      "loss 0.10519294440746307\n",
      "loss 0.09684479236602783\n",
      "loss 0.0935758650302887\n",
      "loss 0.11659318953752518\n",
      "loss 0.07711173593997955\n",
      "loss 0.10450296849012375\n",
      "loss 0.08853056281805038\n",
      "loss 0.1300874650478363\n",
      "loss 0.13115347921848297\n",
      "loss 0.098541259765625\n",
      "loss 0.07924769073724747\n",
      "loss 0.13987572491168976\n",
      "loss 0.13735806941986084\n",
      "loss 0.11117174476385117\n",
      "loss 0.12488877773284912\n",
      "loss 0.09030548483133316\n",
      "loss 0.11091724783182144\n",
      "loss 0.10640468448400497\n",
      "loss 0.1256168633699417\n",
      "loss 0.0901898518204689\n",
      "loss 0.12501052021980286\n",
      "loss 0.10789734125137329\n",
      "loss 0.11847034096717834\n",
      "loss 0.1019543707370758\n",
      "loss 0.15831705927848816\n",
      "loss 0.1135256364941597\n",
      "loss 0.09637591987848282\n",
      "loss 0.0760163739323616\n",
      "loss 0.12372966855764389\n",
      "loss 0.12654593586921692\n",
      "loss 0.10270891338586807\n",
      "loss 0.14687535166740417\n",
      "loss 0.14299340546131134\n",
      "loss 0.11676735430955887\n",
      "loss 0.1299142986536026\n",
      "loss 0.12656500935554504\n",
      "loss 0.15298371016979218\n",
      "loss 0.0933568924665451\n",
      "loss 0.14452575147151947\n",
      "loss 0.11447437107563019\n",
      "loss 0.1161450743675232\n",
      "loss 0.10619653761386871\n",
      "loss 0.11548025161027908\n",
      "loss 0.1003299355506897\n",
      "loss 0.08018871396780014\n",
      "loss 0.13507622480392456\n",
      "loss 0.10771817713975906\n",
      "loss 0.14370213449001312\n",
      "loss 0.0833195373415947\n",
      "loss 0.05960848554968834\n",
      "loss 0.11931002140045166\n",
      "loss 0.11473596096038818\n",
      "loss 0.08705001324415207\n",
      "loss 0.10838872939348221\n",
      "loss 0.09396649897098541\n",
      "loss 0.10915281623601913\n",
      "loss 0.09538469463586807\n",
      "loss 0.0958181619644165\n",
      "loss 0.09694653004407883\n",
      "loss 0.12009044736623764\n",
      "loss 0.11631929874420166\n",
      "loss 0.12019163370132446\n",
      "loss 0.11012254655361176\n",
      "loss 0.11106782406568527\n",
      "loss 0.09562698751688004\n",
      "loss 0.1379992514848709\n"
     ]
    },
    {
     "name": "stdout",
     "output_type": "stream",
     "text": [
      "loss 0.11449142545461655\n",
      "loss 0.08202391862869263\n",
      "loss 0.07754773646593094\n",
      "loss 0.08585453033447266\n",
      "loss 0.13152888417243958\n",
      "loss 0.11321321129798889\n",
      "loss 0.11449383199214935\n",
      "loss 0.09186940640211105\n"
     ]
    }
   ],
   "source": [
    "speech_scores = []\n",
    "for i in range(speech_fe.shape[0]):\n",
    "    loss = autoencoder.evaluate(speech_fe[i:i+1], speech_fe[i:i+1], batch_size=1, verbose=0)\n",
    "    speech_scores.append(loss)\n",
    "    print('loss', loss)"
   ]
  },
  {
   "cell_type": "code",
   "execution_count": 46,
   "metadata": {
    "ExecuteTime": {
     "end_time": "2019-05-07T03:22:06.515384Z",
     "start_time": "2019-05-07T03:22:06.121112Z"
    }
   },
   "outputs": [
    {
     "data": {
      "image/png": "[encoded data removed]",
      "text/plain": [
       "<Figure size 1296x720 with 1 Axes>"
      ]
     },
     "metadata": {
      "needs_background": "light"
     },
     "output_type": "display_data"
    }
   ],
   "source": [
    "plt.figure(figsize=(18,10))\n",
    "plt.hist(np.array(scores), bins=60, normed=0, facecolor=\"blue\", edgecolor=\"black\", alpha=0.7)\n",
    "plt.hist(np.array(speech_scores), bins=60, normed=0, facecolor=\"red\", edgecolor=\"black\", alpha=0.7)\n",
    "\n",
    "# 显示图标题\n",
    "plt.title(\"频数/频率分布直方图\")\n",
    "plt.show()"
   ]
  },
  {
   "cell_type": "markdown",
   "metadata": {},
   "source": [
    "---\n",
    "# 用87到108的音频数据测试"
   ]
  },
  {
   "cell_type": "code",
   "execution_count": 47,
   "metadata": {
    "ExecuteTime": {
     "end_time": "2019-05-07T03:25:19.700229Z",
     "start_time": "2019-05-07T03:24:48.411139Z"
    }
   },
   "outputs": [
    {
     "name": "stderr",
     "output_type": "stream",
     "text": [
      "[                                                                        ]   0%\r"
     ]
    },
    {
     "name": "stdout",
     "output_type": "stream",
     "text": [
      "Extracting features ...\n"
     ]
    },
    {
     "name": "stderr",
     "output_type": "stream",
     "text": [
      "[========================================================================] 100%\r"
     ]
    },
    {
     "name": "stdout",
     "output_type": "stream",
     "text": [
      "Done.\n"
     ]
    },
    {
     "name": "stderr",
     "output_type": "stream",
     "text": [
      "\n"
     ]
    }
   ],
   "source": [
    "import progressbar\n",
    "\n",
    "bar = progressbar.ProgressBar(maxval=len(collect_files('../data_fm_424/radioAudio')),\n",
    "                              widgets=[progressbar.Bar('=', '[', ']'), ' ', progressbar.Percentage()])\n",
    "bar.start()\n",
    "print(\"Extracting features ...\")\n",
    "features = []\n",
    "\n",
    "for i, (raw_file_name, joined_file_path) in enumerate(collect_files('../data_fm_424/radioAudio')):\n",
    "    _, sig = wav.read(joined_file_path)\n",
    "    fea = extract(sig)\n",
    "    feats = normalize_frames(np.array(fea))\n",
    "    features.append(feats)\n",
    "    bar.update(i + 1)\n",
    "\n",
    "bar.finish()\n",
    "print(\"Done.\")\n",
    "\n",
    "save(features, 'fm_fea', \".\")"
   ]
  },
  {
   "cell_type": "code",
   "execution_count": 51,
   "metadata": {
    "ExecuteTime": {
     "end_time": "2019-05-07T03:26:34.552600Z",
     "start_time": "2019-05-07T03:26:34.546610Z"
    }
   },
   "outputs": [
    {
     "name": "stdout",
     "output_type": "stream",
     "text": [
      "(211, 156)\n"
     ]
    }
   ],
   "source": [
    "fm_fe = load('fm_fea')\n",
    "\n",
    "print(np.array(fm_fe).shape)\n",
    "\n",
    "fm_fe = np.array(fm_fe)"
   ]
  },
  {
   "cell_type": "code",
   "execution_count": 52,
   "metadata": {
    "ExecuteTime": {
     "end_time": "2019-05-07T03:26:35.515309Z",
     "start_time": "2019-05-07T03:26:35.392736Z"
    }
   },
   "outputs": [
    {
     "name": "stdout",
     "output_type": "stream",
     "text": [
      "loss 0.04476483538746834\n",
      "loss 0.0464886911213398\n",
      "loss 0.04738059639930725\n",
      "loss 0.055219393223524094\n",
      "loss 0.11144540458917618\n",
      "loss 0.15102405846118927\n",
      "loss 0.05063514783978462\n",
      "loss 0.038193002343177795\n",
      "loss 0.048073962330818176\n",
      "loss 0.04587000235915184\n",
      "loss 0.04841231927275658\n",
      "loss 0.051839448511600494\n",
      "loss 0.042625248432159424\n",
      "loss 0.050033118575811386\n",
      "loss 0.056313950568437576\n",
      "loss 0.040464162826538086\n",
      "loss 0.8188708424568176\n",
      "loss 0.2668059468269348\n",
      "loss 0.17014461755752563\n",
      "loss 0.047304973006248474\n",
      "loss 0.04898422583937645\n",
      "loss 0.05041803792119026\n",
      "loss 0.05184570327401161\n",
      "loss 0.05257118493318558\n",
      "loss 0.05262879654765129\n",
      "loss 0.05260411277413368\n",
      "loss 0.038271501660346985\n",
      "loss 0.05111467465758324\n",
      "loss 0.053398482501506805\n",
      "loss 0.09415283799171448\n",
      "loss 0.056241102516651154\n",
      "loss 0.22338630259037018\n",
      "loss 0.06214487925171852\n",
      "loss 0.19126205146312714\n",
      "loss 0.538007378578186\n",
      "loss 0.050530556589365005\n",
      "loss 0.051353443413972855\n",
      "loss 0.1758962869644165\n",
      "loss 0.9856024384498596\n",
      "loss 0.056729670614004135\n",
      "loss 0.04551779106259346\n",
      "loss 0.9332075119018555\n",
      "loss 0.04761885106563568\n",
      "loss 0.04712953791022301\n",
      "loss 0.05123089998960495\n",
      "loss 0.22287222743034363\n",
      "loss 0.042486682534217834\n",
      "loss 0.0392993725836277\n",
      "loss 0.04485185444355011\n",
      "loss 0.04899236932396889\n",
      "loss 0.04892817884683609\n",
      "loss 0.041021909564733505\n",
      "loss 0.5699567794799805\n",
      "loss 0.17341116070747375\n",
      "loss 0.04899558424949646\n",
      "loss 0.05099792778491974\n",
      "loss 0.046268023550510406\n",
      "loss 1.2823519706726074\n",
      "loss 0.04483204334974289\n",
      "loss 1.0757805109024048\n",
      "loss 0.04740532487630844\n",
      "loss 0.05369525030255318\n",
      "loss 0.05222413316369057\n",
      "loss 0.40369531512260437\n",
      "loss 0.04821018502116203\n",
      "loss 0.16365598142147064\n",
      "loss 1.0506840944290161\n",
      "loss 0.17778229713439941\n",
      "loss 0.3034530282020569\n",
      "loss 0.32393917441368103\n",
      "loss 0.05512943118810654\n",
      "loss 0.04576263204216957\n",
      "loss 0.046468496322631836\n",
      "loss 1.082328200340271\n",
      "loss 1.066082239151001\n",
      "loss 0.039228036999702454\n",
      "loss 0.16103288531303406\n",
      "loss 0.19116157293319702\n",
      "loss 0.165391206741333\n",
      "loss 0.050710584968328476\n",
      "loss 0.046791963279247284\n",
      "loss 0.042520299553871155\n",
      "loss 0.2064780443906784\n",
      "loss 0.04274599254131317\n",
      "loss 0.0488729365170002\n",
      "loss 0.04984170198440552\n",
      "loss 0.17960265278816223\n",
      "loss 0.052120503038167953\n",
      "loss 0.05186993628740311\n",
      "loss 0.05326516926288605\n",
      "loss 0.050888027995824814\n",
      "loss 0.04308660700917244\n",
      "loss 0.05142534524202347\n",
      "loss 0.05327915400266647\n",
      "loss 0.044771257787942886\n",
      "loss 0.05083529278635979\n",
      "loss 0.04792427271604538\n",
      "loss 0.0546797476708889\n",
      "loss 0.07423032075166702\n",
      "loss 0.050672922283411026\n",
      "loss 0.6701580882072449\n",
      "loss 0.05376807227730751\n",
      "loss 0.16706912219524384\n",
      "loss 0.05300780013203621\n",
      "loss 0.04890334978699684\n",
      "loss 0.053117770701646805\n",
      "loss 0.9804179668426514\n",
      "loss 0.05286518111824989\n",
      "loss 0.2626672387123108\n",
      "loss 0.05342007800936699\n",
      "loss 0.17376580834388733\n",
      "loss 0.04732850193977356\n",
      "loss 0.24794864654541016\n",
      "loss 0.043305329978466034\n",
      "loss 0.06755068898200989\n",
      "loss 0.04652085527777672\n",
      "loss 0.04903648793697357\n",
      "loss 1.1733112335205078\n",
      "loss 0.12802338600158691\n",
      "loss 0.05251670628786087\n",
      "loss 0.041636496782302856\n",
      "loss 0.051780518144369125\n",
      "loss 0.043096013367176056\n",
      "loss 0.042832016944885254\n",
      "loss 0.05135338753461838\n",
      "loss 0.05201200768351555\n",
      "loss 0.03661355748772621\n",
      "loss 0.047514770179986954\n",
      "loss 1.0738399028778076\n",
      "loss 0.17608071863651276\n",
      "loss 1.1624306440353394\n",
      "loss 1.2115758657455444\n",
      "loss 1.077043890953064\n",
      "loss 0.15793809294700623\n",
      "loss 1.0493242740631104\n",
      "loss 0.05359121039509773\n",
      "loss 0.2210884541273117\n",
      "loss 0.22798919677734375\n",
      "loss 0.2376517951488495\n",
      "loss 0.2260914146900177\n",
      "loss 0.04626306891441345\n",
      "loss 0.2116246521472931\n",
      "loss 0.9567997455596924\n",
      "loss 0.8668530583381653\n",
      "loss 0.05408937484025955\n",
      "loss 0.031227627769112587\n",
      "loss 0.05138643458485603\n",
      "loss 0.20238818228244781\n",
      "loss 0.057622287422418594\n",
      "loss 0.03804416581988335\n",
      "loss 0.052592985332012177\n",
      "loss 0.1724410355091095\n",
      "loss 0.13678430020809174\n",
      "loss 0.04834498465061188\n",
      "loss 0.14601774513721466\n",
      "loss 0.05259145051240921\n",
      "loss 0.165896475315094\n",
      "loss 0.04926326870918274\n",
      "loss 0.920583963394165\n",
      "loss 0.2323305457830429\n",
      "loss 0.16042686998844147\n",
      "loss 0.1806597113609314\n",
      "loss 0.19289767742156982\n",
      "loss 0.05173557996749878\n",
      "loss 0.045830972492694855\n",
      "loss 0.0358782596886158\n",
      "loss 0.04940490052103996\n",
      "loss 0.1582338809967041\n",
      "loss 0.14978480339050293\n",
      "loss 0.05172184854745865\n",
      "loss 0.05208783969283104\n",
      "loss 0.17885556817054749\n",
      "loss 0.05303521081805229\n",
      "loss 0.05002594739198685\n",
      "loss 0.04669027030467987\n",
      "loss 0.05413900315761566\n",
      "loss 0.21374653279781342\n",
      "loss 0.04662028327584267\n",
      "loss 0.17587828636169434\n",
      "loss 0.05388156697154045\n",
      "loss 0.8808832168579102\n",
      "loss 0.05009866878390312\n",
      "loss 0.0456538088619709\n",
      "loss 0.03871918469667435\n",
      "loss 0.0491606630384922\n",
      "loss 0.03950944170355797\n",
      "loss 0.2544846534729004\n",
      "loss 0.04319475591182709\n",
      "loss 0.05239947512745857\n",
      "loss 0.04792862385511398\n",
      "loss 0.04368159547448158\n",
      "loss 0.054774705320596695\n",
      "loss 0.05119410902261734\n",
      "loss 0.05959976464509964\n",
      "loss 0.18180692195892334\n",
      "loss 0.0518714115023613\n",
      "loss 0.050371211022138596\n",
      "loss 0.04448883235454559\n",
      "loss 0.05358392000198364\n",
      "loss 0.048847753554582596\n",
      "loss 0.05196589604020119\n",
      "loss 0.05182763934135437\n",
      "loss 0.0436573289334774\n",
      "loss 1.086738109588623\n",
      "loss 0.05098414048552513\n",
      "loss 0.04671938344836235\n",
      "loss 0.05315668135881424\n",
      "loss 0.04842983931303024\n",
      "loss 0.29039466381073\n",
      "loss 0.04585907235741615\n",
      "loss 0.1355137974023819\n"
     ]
    }
   ],
   "source": [
    "fm_scores = []\n",
    "\n",
    "for i in range(fm_fe.shape[0]):\n",
    "    loss = autoencoder.evaluate(fm_fe[i:i+1], fm_fe[i:i+1], batch_size=1, verbose=0)\n",
    "    fm_scores.append(loss)\n",
    "    print('loss', loss)"
   ]
  },
  {
   "cell_type": "code",
   "execution_count": 55,
   "metadata": {
    "ExecuteTime": {
     "end_time": "2019-05-07T03:28:10.649042Z",
     "start_time": "2019-05-07T03:28:10.219781Z"
    }
   },
   "outputs": [
    {
     "data": {
      "image/png": "[encoded data removed]",
      "text/plain": [
       "<Figure size 1296x720 with 1 Axes>"
      ]
     },
     "metadata": {
      "needs_background": "light"
     },
     "output_type": "display_data"
    }
   ],
   "source": [
    "plt.figure(figsize=(18,10))\n",
    "plt.hist(np.array(scores), bins=60, normed=0, facecolor=\"blue\", edgecolor=\"black\", alpha=0.7)\n",
    "plt.hist(np.array(speech_scores), bins=60, normed=0, facecolor=\"red\", edgecolor=\"black\", alpha=0.7)\n",
    "plt.hist(np.array(fm_scores), bins=60, normed=0, facecolor=\"green\", edgecolor=\"black\", alpha=0.5)\n",
    "\n",
    "# 显示图标题\n",
    "plt.title(\"频数/频率分布直方图\")\n",
    "plt.show()"
   ]
  },
  {
   "cell_type": "markdown",
   "metadata": {},
   "source": [
    "---\n",
    "# 一条音频一天音频地加载\n",
    "\n",
    "**输出对应的文件名和得分**"
   ]
  },
  {
   "cell_type": "code",
   "execution_count": 29,
   "metadata": {
    "ExecuteTime": {
     "end_time": "2019-05-07T04:27:19.307412Z",
     "start_time": "2019-05-07T04:27:19.161651Z"
    }
   },
   "outputs": [
    {
     "name": "stderr",
     "output_type": "stream",
     "text": [
      "\r",
      "0it [00:00, ?it/s]"
     ]
    },
    {
     "name": "stdout",
     "output_type": "stream",
     "text": [
      "Extracting features ...\n",
      "88.0MHz ../data_fm_424/radioAudio/88.0MHz.wav\n",
      "Done.\n"
     ]
    },
    {
     "name": "stderr",
     "output_type": "stream",
     "text": [
      "\n"
     ]
    }
   ],
   "source": [
    "from tqdm import tqdm\n",
    "\n",
    "print(\"Extracting features ...\")\n",
    "tmps = []\n",
    "\n",
    "tmps_fm_scores = []\n",
    "\n",
    "for i, (raw_file_name, joined_file_path) in tqdm(enumerate(collect_files('../data_fm_424/radioAudio'))):\n",
    "    _, sig = wav.read(joined_file_path)\n",
    "    fea = extract(sig)\n",
    "    feats = normalize_frames(np.array(fea))\n",
    "    loss = autoencoder.evaluate(feats.reshape(1,-1), feats.reshape(1,-1), batch_size=1, verbose=0)\n",
    "    tmps_fm_scores.append(loss)\n",
    "    if loss <=0.045:\n",
    "        print(\"文件路径:{}, 文件名:{}, loss: {}\".format(joined_file_path, raw_file_name, loss))\n",
    "\n",
    "print(\"Done.\")"
   ]
  },
  {
   "cell_type": "code",
   "execution_count": null,
   "metadata": {},
   "outputs": [],
   "source": []
  }
 ],
 "metadata": {
  "kernelspec": {
   "display_name": "tf_keras_py3",
   "language": "python",
   "name": "tf_keras_py3"
  },
  "language_info": {
   "codemirror_mode": {
    "name": "ipython",
    "version": 3
   },
   "file_extension": ".py",
   "mimetype": "text/x-python",
   "name": "python",
   "nbconvert_exporter": "python",
   "pygments_lexer": "ipython3",
   "version": "3.6.7"
  },
  "latex_envs": {
   "LaTeX_envs_menu_present": true,
   "autoclose": false,
   "autocomplete": true,
   "bibliofile": "biblio.bib",
   "cite_by": "apalike",
   "current_citInitial": 1,
   "eqLabelWithNumbers": true,
   "eqNumInitial": 1,
   "hotkeys": {
    "equation": "Ctrl-E",
    "itemize": "Ctrl-I"
   },
   "labels_anchors": false,
   "latex_user_defs": false,
   "report_style_numbering": false,
   "user_envs_cfg": false
  },
  "toc": {
   "base_numbering": 1,
   "nav_menu": {},
   "number_sections": true,
   "sideBar": true,
   "skip_h1_title": false,
   "title_cell": "Table of Contents",
   "title_sidebar": "Contents",
   "toc_cell": true,
   "toc_position": {},
   "toc_section_display": true,
   "toc_window_display": true
  },
  "varInspector": {
   "cols": {
    "lenName": 16,
    "lenType": 16,
    "lenVar": 40
   },
   "kernels_config": {
    "python": {
     "delete_cmd_postfix": "",
     "delete_cmd_prefix": "del ",
     "library": "var_list.py",
     "varRefreshCmd": "print(var_dic_list())"
    },
    "r": {
     "delete_cmd_postfix": ") ",
     "delete_cmd_prefix": "rm(",
     "library": "var_list.r",
     "varRefreshCmd": "cat(var_dic_list()) "
    }
   },
   "types_to_exclude": [
    "module",
    "function",
    "builtin_function_or_method",
    "instance",
    "_Feature"
   ],
   "window_display": false
  }
 },
 "nbformat": 4,
 "nbformat_minor": 2
}
