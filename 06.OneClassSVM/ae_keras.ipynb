{
 "cells": [
  {
   "cell_type": "markdown",
   "metadata": {
    "toc": true
   },
   "source": [
    "<h1>Table of Contents<span class=\"tocSkip\"></span></h1>\n",
    "<div class=\"toc\"><ul class=\"toc-item\"><li><span><a href=\"#以有说话声数据作为训练，以噪声数据作为测试\" data-toc-modified-id=\"以有说话声数据作为训练，以噪声数据作为测试-1\"><span class=\"toc-item-num\">1&nbsp;&nbsp;</span>以有说话声数据作为训练，以噪声数据作为测试</a></span><ul class=\"toc-item\"><li><span><a href=\"#导如所依赖的包和函数\" data-toc-modified-id=\"导如所依赖的包和函数-1.1\"><span class=\"toc-item-num\">1.1&nbsp;&nbsp;</span>导如所依赖的包和函数</a></span></li><li><span><a href=\"#提取特征的函数和归一化函数\" data-toc-modified-id=\"提取特征的函数和归一化函数-1.2\"><span class=\"toc-item-num\">1.2&nbsp;&nbsp;</span>提取特征的函数和归一化函数</a></span></li><li><span><a href=\"#提取用于训练数据的特征\" data-toc-modified-id=\"提取用于训练数据的特征-1.3\"><span class=\"toc-item-num\">1.3&nbsp;&nbsp;</span>提取用于训练数据的特征</a></span></li><li><span><a href=\"#加载用于训练的特征\" data-toc-modified-id=\"加载用于训练的特征-1.4\"><span class=\"toc-item-num\">1.4&nbsp;&nbsp;</span>加载用于训练的特征</a></span></li><li><span><a href=\"#定义模型及参数\" data-toc-modified-id=\"定义模型及参数-1.5\"><span class=\"toc-item-num\">1.5&nbsp;&nbsp;</span>定义模型及参数</a></span></li><li><span><a href=\"#训练模型\" data-toc-modified-id=\"训练模型-1.6\"><span class=\"toc-item-num\">1.6&nbsp;&nbsp;</span>训练模型</a></span></li><li><span><a href=\"#将训练数据送到模型中查看其对应的打分值（损失值，loss）\" data-toc-modified-id=\"将训练数据送到模型中查看其对应的打分值（损失值，loss）-1.7\"><span class=\"toc-item-num\">1.7&nbsp;&nbsp;</span>将训练数据送到模型中查看其对应的打分值（损失值，loss）</a></span></li><li><span><a href=\"#提取用于测试数据（噪声音频）的特征\" data-toc-modified-id=\"提取用于测试数据（噪声音频）的特征-1.8\"><span class=\"toc-item-num\">1.8&nbsp;&nbsp;</span>提取用于测试数据（噪声音频）的特征</a></span></li><li><span><a href=\"#将说话声（训练数据）的打分与噪声的打分花在直方图上进行对比\" data-toc-modified-id=\"将说话声（训练数据）的打分与噪声的打分花在直方图上进行对比-1.9\"><span class=\"toc-item-num\">1.9&nbsp;&nbsp;</span>将说话声（训练数据）的打分与噪声的打分花在直方图上进行对比</a></span></li><li><span><a href=\"#以FM的下的211个音频来测试（87-108）\" data-toc-modified-id=\"以FM的下的211个音频来测试（87-108）-1.10\"><span class=\"toc-item-num\">1.10&nbsp;&nbsp;</span>以FM的下的211个音频来测试（87-108）</a></span></li><li><span><a href=\"#加载模型的代码\" data-toc-modified-id=\"加载模型的代码-1.11\"><span class=\"toc-item-num\">1.11&nbsp;&nbsp;</span>加载模型的代码</a></span></li></ul></li><li><span><a href=\"#以噪声数据作为训练，以有说话声数据作为测试\" data-toc-modified-id=\"以噪声数据作为训练，以有说话声数据作为测试-2\"><span class=\"toc-item-num\">2&nbsp;&nbsp;</span>以噪声数据作为训练，以有说话声数据作为测试</a></span></li><li><span><a href=\"#用87到108的音频数据测试\" data-toc-modified-id=\"用87到108的音频数据测试-3\"><span class=\"toc-item-num\">3&nbsp;&nbsp;</span>用87到108的音频数据测试</a></span></li><li><span><a href=\"#一条音频一天音频地加载\" data-toc-modified-id=\"一条音频一天音频地加载-4\"><span class=\"toc-item-num\">4&nbsp;&nbsp;</span>一条音频一天音频地加载</a></span></li></ul></div>"
   ]
  },
  {
   "cell_type": "markdown",
   "metadata": {},
   "source": [
    "# 以有说话声数据作为训练，以噪声数据作为测试\n"
   ]
  },
  {
   "cell_type": "markdown",
   "metadata": {},
   "source": [
    "## 导如所依赖的包和函数"
   ]
  },
  {
   "cell_type": "code",
   "execution_count": 1,
   "metadata": {
    "ExecuteTime": {
     "end_time": "2019-05-08T01:56:42.718740Z",
     "start_time": "2019-05-08T01:56:23.202484Z"
    },
    "hide_input": false
   },
   "outputs": [
    {
     "name": "stderr",
     "output_type": "stream",
     "text": [
      "Using TensorFlow backend.\n"
     ]
    }
   ],
   "source": [
    "# encoding = utf-8\n",
    "import numpy as np\n",
    "import matplotlib.pyplot as plt\n",
    "import random\n",
    "\n",
    "import scipy.io.wavfile as wav\n",
    "from python_speech_features import sigproc, mfcc, delta\n",
    "from utility import *\n",
    "from proj_paths import *\n",
    "from settings import *\n",
    "\n",
    "import keras\n",
    "from keras.layers import Input\n",
    "from keras.models import Model\n",
    "from keras.layers import Dense, Activation, Dropout\n",
    "from keras.optimizers import SGD, Adam, RMSprop"
   ]
  },
  {
   "cell_type": "markdown",
   "metadata": {},
   "source": [
    "## 提取特征的函数和归一化函数\n",
    "\n",
    "提取MFCC的最大最小均值方差，每一段音频的特征为156=（13×4+13×4+13×4）"
   ]
  },
  {
   "cell_type": "code",
   "execution_count": 2,
   "metadata": {
    "ExecuteTime": {
     "end_time": "2019-05-08T01:56:42.747816Z",
     "start_time": "2019-05-08T01:56:42.735792Z"
    },
    "hide_input": false
   },
   "outputs": [],
   "source": [
    "def extract(sig):\n",
    "    # framing\n",
    "    sig_frames = sigproc.framesig(sig=sig, frame_len=FRAME_LENGTH, frame_step=FRAME_STEP)\n",
    "    \n",
    "    feat = []\n",
    "\n",
    "    def calc_all_feat(feat_coeffs):\n",
    "        feat.extend(feat_coeffs.max(axis=0))\n",
    "        feat.extend(feat_coeffs.min(axis=0))\n",
    "        feat.extend(feat_coeffs.mean(axis=0))\n",
    "        feat.extend(feat_coeffs.var(axis=0))\n",
    "\n",
    "    # region calculate mfcc features\n",
    "    mfcc_feat = mfcc(signal=sig_frames, samplerate=SAMPLE_RATE, winlen=WINDOW_LENGTH, winstep=WINDOW_STEP,\n",
    "                     numcep=13, preemph=PRE_EMPH, winfunc=WINDOW_FUNCTION)\n",
    "    mfcc_feat_delta = delta(mfcc_feat, 20)\n",
    "    mfcc_feat_delta_delta = delta(mfcc_feat_delta, 20)\n",
    "\n",
    "    calc_all_feat(mfcc_feat)\n",
    "\n",
    "    calc_all_feat(mfcc_feat_delta)\n",
    "\n",
    "    calc_all_feat(mfcc_feat_delta_delta)\n",
    "\n",
    "    # endregion\n",
    "\n",
    "#     # region calculate zero cross rating\n",
    "#     def zcr(frames):\n",
    "#         def sign(x):\n",
    "#             return 1 if x >= 0 else -1\n",
    "\n",
    "#         zc_rates = []\n",
    "#         for frame in frames:\n",
    "#             zc_rate = 0\n",
    "#             for i in range(1, len(frame)):\n",
    "#                 zc_rate += abs(sign(frame[i]) - sign(frame[i - 1])) / 2\n",
    "#             zc_rates.append(zc_rate / len(frame))\n",
    "#         return zc_rates\n",
    "\n",
    "#     zcrs = zcr(sig_frames)\n",
    "#     calc_all_feat(np.array([zcrs]).reshape(len(zcrs), 1))\n",
    "#     # endregion\n",
    "\n",
    "#     # region calculate energy\n",
    "#     def energy(frames, eta):\n",
    "#         energys = []\n",
    "#         for frame in frames:\n",
    "#             energy = 1 / len(frame) * np.sum(np.power(frame, 2))\n",
    "#             energys.append(energy)\n",
    "#         return energys\n",
    "\n",
    "#     energys = energy(sig_frames, 0)\n",
    "#     calc_all_feat(np.array([energys]).reshape(len(energys), 1))\n",
    "#     # endregion\n",
    "    \n",
    "    return feat\n",
    "\n",
    "def normalize_frames(m, Scale=True):\n",
    "    if Scale:\n",
    "        return (m - np.mean(m, axis=0))/(np.std(m, axis=0)+2e-12)\n",
    "    else:\n",
    "        return (m - np.mean(m, axis=0))"
   ]
  },
  {
   "cell_type": "markdown",
   "metadata": {},
   "source": [
    "## 提取用于训练数据的特征"
   ]
  },
  {
   "cell_type": "code",
   "execution_count": 21,
   "metadata": {
    "ExecuteTime": {
     "end_time": "2019-05-07T02:51:31.340022Z",
     "start_time": "2019-05-07T02:50:55.741729Z"
    },
    "hide_input": false
   },
   "outputs": [
    {
     "name": "stderr",
     "output_type": "stream",
     "text": [
      "[                                                                        ]   0%\r"
     ]
    },
    {
     "name": "stdout",
     "output_type": "stream",
     "text": [
      "Extracting features ...\n"
     ]
    },
    {
     "name": "stderr",
     "output_type": "stream",
     "text": [
      "[========================================================================] 100%\r"
     ]
    },
    {
     "name": "stdout",
     "output_type": "stream",
     "text": [
      "Done.\n"
     ]
    },
    {
     "name": "stderr",
     "output_type": "stream",
     "text": [
      "\n"
     ]
    }
   ],
   "source": [
    "import progressbar\n",
    "\n",
    "bar = progressbar.ProgressBar(maxval=len(collect_files(SVM_DATA_SET_PATH)),\n",
    "                              widgets=[progressbar.Bar('=', '[', ']'), ' ', progressbar.Percentage()])\n",
    "bar.start()\n",
    "print(\"Extracting features ...\")\n",
    "features = []\n",
    "\n",
    "for i, (raw_file_name, joined_file_path) in enumerate(collect_files(SVM_DATA_SET_PATH)):\n",
    "    _, sig = wav.read(joined_file_path)\n",
    "    fea = extract(sig)\n",
    "    feats = normalize_frames(np.array(fea))\n",
    "    features.append(feats)\n",
    "    bar.update(i + 1)\n",
    "\n",
    "bar.finish()\n",
    "print(\"Done.\")\n",
    "\n",
    "save(features, SVM_FEATURES_NAME, \".\")"
   ]
  },
  {
   "cell_type": "markdown",
   "metadata": {},
   "source": [
    "## 加载用于训练的特征"
   ]
  },
  {
   "cell_type": "code",
   "execution_count": 3,
   "metadata": {
    "ExecuteTime": {
     "end_time": "2019-05-08T01:56:50.076750Z",
     "start_time": "2019-05-08T01:56:49.975022Z"
    }
   },
   "outputs": [
    {
     "name": "stdout",
     "output_type": "stream",
     "text": [
      "(357, 156)\n"
     ]
    }
   ],
   "source": [
    "speech_fe = load('SPEECH_FEA')\n",
    "\n",
    "# print(speech_fe)\n",
    "\n",
    "print(np.array(speech_fe).shape)\n",
    "\n",
    "speech_fe = np.array(speech_fe)"
   ]
  },
  {
   "cell_type": "markdown",
   "metadata": {},
   "source": [
    "## 定义模型及参数"
   ]
  },
  {
   "cell_type": "code",
   "execution_count": 4,
   "metadata": {
    "ExecuteTime": {
     "end_time": "2019-05-08T01:56:55.085829Z",
     "start_time": "2019-05-08T01:56:54.416866Z"
    }
   },
   "outputs": [
    {
     "name": "stdout",
     "output_type": "stream",
     "text": [
      "WARNING:tensorflow:From /home/zhudong/.virtualenvs/tf_keras_py3/lib/python3.6/site-packages/tensorflow/python/framework/op_def_library.py:263: colocate_with (from tensorflow.python.framework.ops) is deprecated and will be removed in a future version.\n",
      "Instructions for updating:\n",
      "Colocations handled automatically by placer.\n",
      "_________________________________________________________________\n",
      "Layer (type)                 Output Shape              Param #   \n",
      "=================================================================\n",
      "input_1 (InputLayer)         (None, 156)               0         \n",
      "_________________________________________________________________\n",
      "dense_1 (Dense)              (None, 256)               40192     \n",
      "_________________________________________________________________\n",
      "dense_2 (Dense)              (None, 256)               65792     \n",
      "_________________________________________________________________\n",
      "dense_3 (Dense)              (None, 256)               65792     \n",
      "_________________________________________________________________\n",
      "dense_4 (Dense)              (None, 256)               65792     \n",
      "_________________________________________________________________\n",
      "dense_5 (Dense)              (None, 256)               65792     \n",
      "_________________________________________________________________\n",
      "dense_6 (Dense)              (None, 256)               65792     \n",
      "_________________________________________________________________\n",
      "dense_7 (Dense)              (None, 256)               65792     \n",
      "_________________________________________________________________\n",
      "dense_8 (Dense)              (None, 156)               40092     \n",
      "=================================================================\n",
      "Total params: 475,036\n",
      "Trainable params: 475,036\n",
      "Non-trainable params: 0\n",
      "_________________________________________________________________\n",
      "_________________________________________________________________\n",
      "Layer (type)                 Output Shape              Param #   \n",
      "=================================================================\n",
      "input_1 (InputLayer)         (None, 156)               0         \n",
      "_________________________________________________________________\n",
      "dense_1 (Dense)              (None, 256)               40192     \n",
      "_________________________________________________________________\n",
      "dense_2 (Dense)              (None, 256)               65792     \n",
      "_________________________________________________________________\n",
      "dense_3 (Dense)              (None, 256)               65792     \n",
      "_________________________________________________________________\n",
      "dense_4 (Dense)              (None, 256)               65792     \n",
      "=================================================================\n",
      "Total params: 237,568\n",
      "Trainable params: 237,568\n",
      "Non-trainable params: 0\n",
      "_________________________________________________________________\n"
     ]
    }
   ],
   "source": [
    "\n",
    "encoding_dim = 256\n",
    "decoding_dim = 156\n",
    "input_img = Input(shape=(decoding_dim,))\n",
    "\n",
    "# 编码层\n",
    "encoded = Dense(encoding_dim, activation='relu')(input_img)\n",
    "encoded = Dense(encoding_dim, activation='relu')(encoded)\n",
    "encoded = Dense(encoding_dim, activation='relu')(encoded)\n",
    "encoder_output = Dense(encoding_dim)(encoded)\n",
    "\n",
    "# 解码层\n",
    "decoded = Dense(encoding_dim, activation='relu')(encoder_output)\n",
    "decoded = Dense(encoding_dim, activation='relu')(decoded)\n",
    "decoded = Dense(encoding_dim, activation='relu')(decoded)\n",
    "decoded = Dense(decoding_dim)(decoded)\n",
    "# 构建自编码模型\n",
    "autoencoder = Model(inputs=input_img, outputs=decoded)\n",
    "\n",
    "# 构建编码模型\n",
    "encoder = Model(inputs=input_img, outputs=encoder_output)\n",
    "\n",
    "# compile autoencoder\n",
    "# adam = Adam(lr=0.001, beta_1=0.9, beta_2=0.9, epsilon=1e-08, amsgrad=True)\n",
    "autoencoder.compile(optimizer='adam', loss='mse')\n",
    "\n",
    "autoencoder.summary()\n",
    "encoder.summary()"
   ]
  },
  {
   "cell_type": "markdown",
   "metadata": {},
   "source": [
    "## 训练模型"
   ]
  },
  {
   "cell_type": "code",
   "execution_count": 5,
   "metadata": {
    "ExecuteTime": {
     "end_time": "2019-05-08T01:57:08.234826Z",
     "start_time": "2019-05-08T01:57:03.616339Z"
    }
   },
   "outputs": [
    {
     "name": "stdout",
     "output_type": "stream",
     "text": [
      "WARNING:tensorflow:From /home/zhudong/.virtualenvs/tf_keras_py3/lib/python3.6/site-packages/tensorflow/python/ops/math_ops.py:3066: to_int32 (from tensorflow.python.ops.math_ops) is deprecated and will be removed in a future version.\n",
      "Instructions for updating:\n",
      "Use tf.cast instead.\n",
      "Epoch 1/10\n",
      "357/357 [==============================] - 2s 6ms/step - loss: 0.1688\n",
      "Epoch 2/10\n",
      "357/357 [==============================] - 0s 311us/step - loss: 0.0413\n",
      "Epoch 3/10\n",
      "357/357 [==============================] - 0s 299us/step - loss: 0.0331\n",
      "Epoch 4/10\n",
      "357/357 [==============================] - 0s 316us/step - loss: 0.0278\n",
      "Epoch 5/10\n",
      "357/357 [==============================] - 0s 310us/step - loss: 0.0224\n",
      "Epoch 6/10\n",
      "357/357 [==============================] - 0s 300us/step - loss: 0.0184\n",
      "Epoch 7/10\n",
      "357/357 [==============================] - 0s 321us/step - loss: 0.0161\n",
      "Epoch 8/10\n",
      "357/357 [==============================] - 0s 331us/step - loss: 0.0146\n",
      "Epoch 9/10\n",
      "357/357 [==============================] - 0s 341us/step - loss: 0.0131\n",
      "Epoch 10/10\n",
      "357/357 [==============================] - 0s 338us/step - loss: 0.0126\n",
      "测试集损失函数值： 0.012397332741756315\n",
      "[[ 0.8745529   1.5768013   1.6528047  ... -0.3534099  -0.3447699\n",
      "  -0.39646918]\n",
      " [ 0.47097978  0.94041216  0.8660632  ... -0.2517431  -0.2789901\n",
      "  -0.354199  ]\n",
      " [ 1.0099093   1.7584398   1.7456228  ... -0.3577718  -0.36482435\n",
      "  -0.4056756 ]\n",
      " ...\n",
      " [ 0.60893077  1.0663127   1.0904777  ... -0.34321588 -0.31567818\n",
      "  -0.36954594]\n",
      " [ 0.9303233   1.6381049   1.7097096  ... -0.33815473 -0.3740094\n",
      "  -0.41343772]\n",
      " [ 0.60898226  1.0121742   1.1186359  ... -0.35557085 -0.31543908\n",
      "  -0.33440638]]\n"
     ]
    }
   ],
   "source": [
    "# training\n",
    "autoencoder.fit(speech_fe, speech_fe, epochs=10, batch_size=10, shuffle=True)\n",
    "\n",
    "filepath = 'autocode_0507.h5'\n",
    "autoencoder.save(filepath)\n",
    "\n",
    "# plotting\n",
    "loss = autoencoder.evaluate(speech_fe, speech_fe, batch_size=1, verbose=2)\n",
    "print('测试集损失函数值：', loss)\n",
    "decoded_imgs = autoencoder.predict(speech_fe)\n",
    "print(decoded_imgs)"
   ]
  },
  {
   "cell_type": "markdown",
   "metadata": {},
   "source": [
    "---\n",
    "## 将训练数据送到模型中查看其对应的打分值（损失值，loss）"
   ]
  },
  {
   "cell_type": "code",
   "execution_count": 6,
   "metadata": {
    "ExecuteTime": {
     "end_time": "2019-05-08T01:57:15.980127Z",
     "start_time": "2019-05-08T01:57:15.232755Z"
    }
   },
   "outputs": [
    {
     "name": "stdout",
     "output_type": "stream",
     "text": [
      "loss 0.011250472627580166\n",
      "loss 0.012405707500874996\n",
      "loss 0.009497568942606449\n",
      "loss 0.005775017198175192\n",
      "loss 0.007303138729184866\n",
      "loss 0.008131570182740688\n",
      "loss 0.01426883228123188\n",
      "loss 0.018150903284549713\n",
      "loss 0.012880404479801655\n",
      "loss 0.009031862951815128\n",
      "loss 0.016494201496243477\n",
      "loss 0.013873482123017311\n",
      "loss 0.012796388939023018\n",
      "loss 0.007070775143802166\n",
      "loss 0.021496759727597237\n",
      "loss 0.0095903892070055\n",
      "loss 0.010808412916958332\n",
      "loss 0.015419021248817444\n",
      "loss 0.010694991797208786\n",
      "loss 0.012886466458439827\n",
      "loss 0.014680342748761177\n",
      "loss 0.011453090235590935\n",
      "loss 0.009025149047374725\n",
      "loss 0.02290952205657959\n",
      "loss 0.011604385450482368\n",
      "loss 0.008574520237743855\n",
      "loss 0.006502221804112196\n",
      "loss 0.00832320749759674\n",
      "loss 0.014879816211760044\n",
      "loss 0.00949852541089058\n",
      "loss 0.015133779495954514\n",
      "loss 0.018562329933047295\n",
      "loss 0.008858985267579556\n",
      "loss 0.012723136693239212\n",
      "loss 0.037677422165870667\n",
      "loss 0.017768651247024536\n",
      "loss 0.009289547801017761\n",
      "loss 0.016054823994636536\n",
      "loss 0.01555667445063591\n",
      "loss 0.010357637889683247\n",
      "loss 0.009704927913844585\n",
      "loss 0.007148082368075848\n",
      "loss 0.007822437211871147\n",
      "loss 0.011350219137966633\n",
      "loss 0.0159116480499506\n",
      "loss 0.009557446464896202\n",
      "loss 0.012821025215089321\n",
      "loss 0.008760728873312473\n",
      "loss 0.00993169005960226\n",
      "loss 0.009430287405848503\n",
      "loss 0.018075278028845787\n",
      "loss 0.029697638005018234\n",
      "loss 0.009788538329303265\n",
      "loss 0.01678844541311264\n",
      "loss 0.019931159913539886\n",
      "loss 0.01391714345663786\n",
      "loss 0.007412283215671778\n",
      "loss 0.012300160713493824\n",
      "loss 0.010954796336591244\n",
      "loss 0.007496978156268597\n",
      "loss 0.007308627013117075\n",
      "loss 0.010295218788087368\n",
      "loss 0.012444887310266495\n",
      "loss 0.01718902215361595\n",
      "loss 0.009900890290737152\n",
      "loss 0.006378392223268747\n",
      "loss 0.009557811543345451\n",
      "loss 0.01790587045252323\n",
      "loss 0.00967480894178152\n",
      "loss 0.007468875497579575\n",
      "loss 0.009387386031448841\n",
      "loss 0.011869924142956734\n",
      "loss 0.004780976101756096\n",
      "loss 0.01663619838654995\n",
      "loss 0.007987123914062977\n",
      "loss 0.0057374779134988785\n",
      "loss 0.007685856893658638\n",
      "loss 0.006643860600888729\n",
      "loss 0.01852850802242756\n",
      "loss 0.017195558175444603\n",
      "loss 0.010203671641647816\n",
      "loss 0.006005240138620138\n",
      "loss 0.011777454055845737\n",
      "loss 0.009681060910224915\n",
      "loss 0.017987649887800217\n",
      "loss 0.009632175788283348\n",
      "loss 0.008735398761928082\n",
      "loss 0.008541109040379524\n",
      "loss 0.01425186637789011\n",
      "loss 0.006838647183030844\n",
      "loss 0.009016142226755619\n",
      "loss 0.018220048397779465\n",
      "loss 0.02105817198753357\n",
      "loss 0.008917396888136864\n",
      "loss 0.008392046205699444\n",
      "loss 0.017099939286708832\n",
      "loss 0.012196785770356655\n",
      "loss 0.0067994846031069756\n",
      "loss 0.017386168241500854\n",
      "loss 0.009324882179498672\n",
      "loss 0.00739420298486948\n",
      "loss 0.011396524496376514\n",
      "loss 0.007839941419661045\n",
      "loss 0.009824331849813461\n",
      "loss 0.021227100864052773\n",
      "loss 0.008452375419437885\n",
      "loss 0.011382766999304295\n",
      "loss 0.009679518640041351\n",
      "loss 0.02366812154650688\n",
      "loss 0.02012603171169758\n",
      "loss 0.009035704657435417\n",
      "loss 0.010526756756007671\n",
      "loss 0.006543417926877737\n",
      "loss 0.008165431208908558\n",
      "loss 0.008859827183187008\n",
      "loss 0.022462407127022743\n",
      "loss 0.012992634437978268\n",
      "loss 0.009688555262982845\n",
      "loss 0.008083761669695377\n",
      "loss 0.0125607093796134\n",
      "loss 0.017071377485990524\n",
      "loss 0.009192205965518951\n",
      "loss 0.008871926926076412\n",
      "loss 0.015490539371967316\n",
      "loss 0.008638480678200722\n",
      "loss 0.016705086454749107\n",
      "loss 0.017705341801047325\n",
      "loss 0.007852340117096901\n",
      "loss 0.007859298959374428\n",
      "loss 0.006946450565010309\n",
      "loss 0.011833799071609974\n",
      "loss 0.026332788169384003\n",
      "loss 0.009742570109665394\n",
      "loss 0.008645102381706238\n",
      "loss 0.013829927891492844\n",
      "loss 0.00830382201820612\n",
      "loss 0.00405495148152113\n",
      "loss 0.015330400317907333\n",
      "loss 0.010807240381836891\n",
      "loss 0.013673302717506886\n",
      "loss 0.017523452639579773\n",
      "loss 0.011120330542325974\n",
      "loss 0.02094973810017109\n",
      "loss 0.011504892259836197\n",
      "loss 0.010536753572523594\n",
      "loss 0.007548511028289795\n",
      "loss 0.0139132309705019\n",
      "loss 0.014218068681657314\n",
      "loss 0.008173094131052494\n",
      "loss 0.013651563785970211\n",
      "loss 0.007841294631361961\n",
      "loss 0.016840683296322823\n",
      "loss 0.014362039044499397\n",
      "loss 0.01283020805567503\n",
      "loss 0.013190417550504208\n",
      "loss 0.01188628375530243\n",
      "loss 0.015809381380677223\n",
      "loss 0.008670669049024582\n",
      "loss 0.014558522962033749\n",
      "loss 0.01454127486795187\n",
      "loss 0.012982645072042942\n",
      "loss 0.011321280151605606\n",
      "loss 0.008710293099284172\n",
      "loss 0.010383867658674717\n",
      "loss 0.008212368004024029\n",
      "loss 0.008458631113171577\n",
      "loss 0.010202011093497276\n",
      "loss 0.010868826881051064\n",
      "loss 0.03372446447610855\n",
      "loss 0.009158934466540813\n",
      "loss 0.006758570671081543\n",
      "loss 0.008114011958241463\n",
      "loss 0.010283423587679863\n",
      "loss 0.008720926009118557\n",
      "loss 0.012693984434008598\n",
      "loss 0.012002380564808846\n",
      "loss 0.0072674681432545185\n",
      "loss 0.011438674293458462\n",
      "loss 0.008573835715651512\n",
      "loss 0.01376532856374979\n",
      "loss 0.00645065400749445\n",
      "loss 0.011932190507650375\n",
      "loss 0.01225899625569582\n",
      "loss 0.011997186578810215\n",
      "loss 0.010985308326780796\n",
      "loss 0.013671289198100567\n",
      "loss 0.009414896368980408\n",
      "loss 0.01220710389316082\n",
      "loss 0.013821282424032688\n",
      "loss 0.02570885792374611\n",
      "loss 0.011302953585982323\n",
      "loss 0.010439355857670307\n",
      "loss 0.010486945509910583\n",
      "loss 0.012570646591484547\n",
      "loss 0.010181469842791557\n",
      "loss 0.010581115260720253\n",
      "loss 0.01582847163081169\n",
      "loss 0.025536878034472466\n",
      "loss 0.010128775611519814\n",
      "loss 0.012535433284938335\n",
      "loss 0.019432492554187775\n",
      "loss 0.010247171856462955\n",
      "loss 0.007226069923490286\n",
      "loss 0.01285428088158369\n",
      "loss 0.015141020528972149\n",
      "loss 0.01097191870212555\n",
      "loss 0.008803674019873142\n",
      "loss 0.010943789035081863\n",
      "loss 0.00976354070007801\n",
      "loss 0.010779100470244884\n",
      "loss 0.013940846547484398\n",
      "loss 0.02678341418504715\n",
      "loss 0.02101842127740383\n",
      "loss 0.016525421291589737\n",
      "loss 0.008244529366493225\n",
      "loss 0.010651962831616402\n",
      "loss 0.00928861927241087\n",
      "loss 0.01143615785986185\n",
      "loss 0.012821047566831112\n",
      "loss 0.02131808176636696\n",
      "loss 0.006504269782453775\n",
      "loss 0.010803479701280594\n",
      "loss 0.013777989894151688\n",
      "loss 0.011652368120849133\n",
      "loss 0.010034162551164627\n",
      "loss 0.009948684833943844\n",
      "loss 0.016283703967928886\n",
      "loss 0.008427310734987259\n",
      "loss 0.00859878957271576\n",
      "loss 0.006364002823829651\n",
      "loss 0.006581780966371298\n",
      "loss 0.00800375360995531\n",
      "loss 0.006058320868760347\n",
      "loss 0.006497235503047705\n",
      "loss 0.006125830579549074\n",
      "loss 0.014371130615472794\n",
      "loss 0.013282641768455505\n",
      "loss 0.02291237749159336\n",
      "loss 0.011808307841420174\n",
      "loss 0.009337101131677628\n",
      "loss 0.017104502767324448\n",
      "loss 0.016947150230407715\n",
      "loss 0.013373193331062794\n",
      "loss 0.010733441449701786\n",
      "loss 0.00790688581764698\n",
      "loss 0.01926235295832157\n",
      "loss 0.0071256267838180065\n",
      "loss 0.01382942870259285\n",
      "loss 0.01751568540930748\n",
      "loss 0.02141726389527321\n",
      "loss 0.010025082156062126\n",
      "loss 0.01261603832244873\n",
      "loss 0.010757741518318653\n",
      "loss 0.009091370739042759\n",
      "loss 0.009522916749119759\n",
      "loss 0.007255577016621828\n",
      "loss 0.015822850167751312\n",
      "loss 0.01448474358767271\n",
      "loss 0.01886029727756977\n",
      "loss 0.012493936344981194\n",
      "loss 0.008956738747656345\n",
      "loss 0.010471574030816555\n",
      "loss 0.013235949911177158\n",
      "loss 0.009124859236180782\n",
      "loss 0.011738608591258526\n",
      "loss 0.009994838386774063\n",
      "loss 0.008210252039134502\n",
      "loss 0.012756108306348324\n",
      "loss 0.009004517458379269\n",
      "loss 0.015833210200071335\n",
      "loss 0.026399221271276474\n",
      "loss 0.014186186715960503\n",
      "loss 0.01919560320675373\n",
      "loss 0.007778245490044355\n",
      "loss 0.008564373478293419\n",
      "loss 0.015038917772471905\n",
      "loss 0.007305823732167482\n",
      "loss 0.008992405608296394\n",
      "loss 0.011539604514837265\n",
      "loss 0.011319011449813843\n",
      "loss 0.01199321448802948\n",
      "loss 0.009919608011841774\n",
      "loss 0.00743723614141345\n",
      "loss 0.0072395107708871365\n",
      "loss 0.012016743421554565\n",
      "loss 0.011631986126303673\n",
      "loss 0.007888504303991795\n",
      "loss 0.010025201365351677\n",
      "loss 0.011950313113629818\n",
      "loss 0.01046803966164589\n",
      "loss 0.02410360798239708\n",
      "loss 0.016141120344400406\n",
      "loss 0.010895397514104843\n",
      "loss 0.015018830075860023\n",
      "loss 0.01463397778570652\n",
      "loss 0.011839177459478378\n",
      "loss 0.012864007614552975\n",
      "loss 0.010209799744188786\n",
      "loss 0.009094755165278912\n",
      "loss 0.014560198411345482\n",
      "loss 0.02128228358924389\n",
      "loss 0.01873515360057354\n",
      "loss 0.016377830877900124\n",
      "loss 0.013845651410520077\n",
      "loss 0.01781911961734295\n",
      "loss 0.015534324571490288\n",
      "loss 0.010816491208970547\n",
      "loss 0.013752296566963196\n",
      "loss 0.009042607620358467\n",
      "loss 0.00955816451460123\n",
      "loss 0.023782270029187202\n",
      "loss 0.011495102196931839\n",
      "loss 0.027191363275051117\n",
      "loss 0.013788935728371143\n",
      "loss 0.007439401466399431\n",
      "loss 0.012797306291759014\n",
      "loss 0.022902444005012512\n",
      "loss 0.009390103630721569\n",
      "loss 0.010357288643717766\n",
      "loss 0.007357562892138958\n",
      "loss 0.0132063627243042\n",
      "loss 0.015911132097244263\n",
      "loss 0.01245085895061493\n",
      "loss 0.007076907437294722\n",
      "loss 0.012103264220058918\n",
      "loss 0.007723401766270399\n",
      "loss 0.00624802615493536\n",
      "loss 0.0094947200268507\n",
      "loss 0.009772730991244316\n",
      "loss 0.012503845617175102\n",
      "loss 0.016512367874383926\n",
      "loss 0.01740122027695179\n",
      "loss 0.01544913463294506\n",
      "loss 0.015096206218004227\n",
      "loss 0.01966400071978569\n",
      "loss 0.012646515853703022\n",
      "loss 0.011636816896498203\n",
      "loss 0.009124605916440487\n",
      "loss 0.009673853404819965\n",
      "loss 0.009774062782526016\n",
      "loss 0.015110624022781849\n",
      "loss 0.010469664819538593\n",
      "loss 0.012811075896024704\n",
      "loss 0.009487669914960861\n",
      "loss 0.017161961644887924\n",
      "loss 0.009850005619227886\n",
      "loss 0.008219324983656406\n",
      "loss 0.02656935714185238\n",
      "loss 0.01678392104804516\n",
      "loss 0.00891349371522665\n",
      "loss 0.012102486565709114\n",
      "loss 0.0074832323007285595\n",
      "loss 0.010453985072672367\n",
      "loss 0.020307010039687157\n",
      "loss 0.02713574469089508\n",
      "loss 0.009259273298084736\n",
      "loss 0.010852167382836342\n"
     ]
    }
   ],
   "source": [
    "from tqdm import tqdm\n",
    "\n",
    "scores = []\n",
    "for i in range(speech_fe.shape[0]):\n",
    "    loss = autoencoder.evaluate(speech_fe[i:i+1], speech_fe[i:i+1], batch_size=1, verbose=0)\n",
    "    scores.append(loss)\n",
    "    print('loss', loss)"
   ]
  },
  {
   "cell_type": "code",
   "execution_count": 7,
   "metadata": {
    "ExecuteTime": {
     "end_time": "2019-05-08T01:57:20.057405Z",
     "start_time": "2019-05-08T01:57:19.321482Z"
    }
   },
   "outputs": [
    {
     "name": "stderr",
     "output_type": "stream",
     "text": [
      "/home/zhudong/.virtualenvs/tf_keras_py3/lib/python3.6/site-packages/matplotlib/axes/_axes.py:6521: MatplotlibDeprecationWarning: \n",
      "The 'normed' kwarg was deprecated in Matplotlib 2.1 and will be removed in 3.1. Use 'density' instead.\n",
      "  alternative=\"'density'\", removal=\"3.1\")\n"
     ]
    },
    {
     "data": {
      "image/png": "[encoded data removed]",
      "text/plain": [
       "<Figure size 1296x720 with 1 Axes>"
      ]
     },
     "metadata": {
      "needs_background": "light"
     },
     "output_type": "display_data"
    }
   ],
   "source": [
    "plt.figure(figsize=(18,10))\n",
    "plt.hist(np.array(scores), bins=60, normed=0, facecolor=\"blue\", edgecolor=\"black\", alpha=0.7)\n",
    "# plt.hist(np.array(test_scores)[itemindex_notis], bins=60, normed=0, facecolor=\"red\", edgecolor=\"black\", alpha=0.7)\n",
    "\n",
    "# 显示图标题\n",
    "plt.title(\"频数/频率分布直方图\")\n",
    "plt.show()"
   ]
  },
  {
   "cell_type": "markdown",
   "metadata": {},
   "source": [
    "---\n",
    "## 提取用于测试数据（噪声音频）的特征"
   ]
  },
  {
   "cell_type": "code",
   "execution_count": 31,
   "metadata": {
    "ExecuteTime": {
     "end_time": "2019-05-07T02:59:26.431669Z",
     "start_time": "2019-05-07T02:58:48.416712Z"
    }
   },
   "outputs": [
    {
     "name": "stderr",
     "output_type": "stream",
     "text": [
      "[                                                                        ]   0%\r"
     ]
    },
    {
     "name": "stdout",
     "output_type": "stream",
     "text": [
      "Extracting features ...\n"
     ]
    },
    {
     "name": "stderr",
     "output_type": "stream",
     "text": [
      "[========================================================================] 100%\r"
     ]
    },
    {
     "name": "stdout",
     "output_type": "stream",
     "text": [
      "Done.\n"
     ]
    },
    {
     "name": "stderr",
     "output_type": "stream",
     "text": [
      "\n"
     ]
    }
   ],
   "source": [
    "import progressbar\n",
    "\n",
    "bar = progressbar.ProgressBar(maxval=len(collect_files('./dataset/train/noise')),\n",
    "                              widgets=[progressbar.Bar('=', '[', ']'), ' ', progressbar.Percentage()])\n",
    "bar.start()\n",
    "print(\"Extracting features ...\")\n",
    "features = []\n",
    "\n",
    "for i, (raw_file_name, joined_file_path) in enumerate(collect_files('./dataset/train/noise')):\n",
    "    _, sig = wav.read(joined_file_path)\n",
    "    fea = extract(sig)\n",
    "    feats = normalize_frames(np.array(fea))\n",
    "    features.append(feats)\n",
    "    bar.update(i + 1)\n",
    "\n",
    "bar.finish()\n",
    "print(\"Done.\")\n",
    "\n",
    "save(features, 'NOISE_fea', \".\")"
   ]
  },
  {
   "cell_type": "code",
   "execution_count": 8,
   "metadata": {
    "ExecuteTime": {
     "end_time": "2019-05-08T01:57:28.223480Z",
     "start_time": "2019-05-08T01:57:28.114018Z"
    }
   },
   "outputs": [
    {
     "name": "stdout",
     "output_type": "stream",
     "text": [
      "(334, 156)\n"
     ]
    }
   ],
   "source": [
    "noise_fe = load('NOISE_fea')\n",
    "\n",
    "# print(noise_fe)\n",
    "\n",
    "print(np.array(noise_fe).shape)\n",
    "\n",
    "noise_fe = np.array(noise_fe)"
   ]
  },
  {
   "cell_type": "code",
   "execution_count": 9,
   "metadata": {
    "ExecuteTime": {
     "end_time": "2019-05-08T01:57:30.933891Z",
     "start_time": "2019-05-08T01:57:30.791844Z"
    }
   },
   "outputs": [
    {
     "name": "stdout",
     "output_type": "stream",
     "text": [
      "loss 0.061532534658908844\n",
      "loss 0.061164215207099915\n",
      "loss 0.06902355700731277\n",
      "loss 0.06604597717523575\n",
      "loss 0.06728003919124603\n",
      "loss 0.058621589094400406\n",
      "loss 0.06755893677473068\n",
      "loss 0.06399582326412201\n",
      "loss 0.06001514568924904\n",
      "loss 0.0627874881029129\n",
      "loss 0.07394474744796753\n",
      "loss 0.06676308810710907\n",
      "loss 0.06351406127214432\n",
      "loss 0.061642758548259735\n",
      "loss 0.06784068793058395\n",
      "loss 0.06429922580718994\n",
      "loss 0.06120515614748001\n",
      "loss 0.06386592239141464\n",
      "loss 0.06418858468532562\n",
      "loss 0.05789037421345711\n",
      "loss 0.06682991981506348\n",
      "loss 0.062262069433927536\n",
      "loss 0.06969396024942398\n",
      "loss 0.06630755960941315\n",
      "loss 0.058289289474487305\n",
      "loss 0.059450529515743256\n",
      "loss 0.06036674231290817\n",
      "loss 0.07146569341421127\n",
      "loss 0.05839039012789726\n",
      "loss 0.06864597648382187\n",
      "loss 0.06618208438158035\n",
      "loss 0.061504535377025604\n",
      "loss 0.0661706030368805\n",
      "loss 0.06238609179854393\n",
      "loss 0.06707300990819931\n",
      "loss 0.05985351279377937\n",
      "loss 0.05785759165883064\n",
      "loss 0.06681278347969055\n",
      "loss 0.06173950433731079\n",
      "loss 0.07156955450773239\n",
      "loss 0.054794881492853165\n",
      "loss 0.06274063140153885\n",
      "loss 0.054236795753240585\n",
      "loss 0.07096810638904572\n",
      "loss 0.06513039767742157\n",
      "loss 0.05525502935051918\n",
      "loss 0.06472595781087875\n",
      "loss 0.05644286051392555\n",
      "loss 0.0663447454571724\n",
      "loss 0.06824563443660736\n",
      "loss 0.06426839530467987\n",
      "loss 0.06147748976945877\n",
      "loss 0.06881099939346313\n",
      "loss 0.05947863310575485\n",
      "loss 0.06538283824920654\n",
      "loss 0.06315930932760239\n",
      "loss 0.06004985049366951\n",
      "loss 0.057903748005628586\n",
      "loss 0.06568238139152527\n",
      "loss 0.07209372520446777\n",
      "loss 0.06520404666662216\n",
      "loss 0.06951480358839035\n",
      "loss 0.06877034157514572\n",
      "loss 0.0629250779747963\n",
      "loss 0.05949931964278221\n",
      "loss 0.06082843989133835\n",
      "loss 0.0555855855345726\n",
      "loss 0.06259078532457352\n",
      "loss 0.059995248913764954\n",
      "loss 0.07052348554134369\n",
      "loss 0.06798664480447769\n",
      "loss 0.06677738577127457\n",
      "loss 0.05839608237147331\n",
      "loss 0.06071609631180763\n",
      "loss 0.07157044857740402\n",
      "loss 0.06577300280332565\n",
      "loss 0.07303732633590698\n",
      "loss 0.06610466539859772\n",
      "loss 0.07353217154741287\n",
      "loss 0.06518247723579407\n",
      "loss 0.057829827070236206\n",
      "loss 0.06428230553865433\n",
      "loss 0.061805639415979385\n",
      "loss 0.06768057495355606\n",
      "loss 0.0707627683877945\n",
      "loss 0.052270106971263885\n",
      "loss 0.05918100103735924\n",
      "loss 0.0664181113243103\n",
      "loss 0.0689646452665329\n",
      "loss 0.05694051459431648\n",
      "loss 0.0650322362780571\n",
      "loss 0.05673513561487198\n",
      "loss 0.06442980468273163\n",
      "loss 0.058608293533325195\n",
      "loss 0.06361979991197586\n",
      "loss 0.06338619440793991\n",
      "loss 0.061206914484500885\n",
      "loss 0.05765339732170105\n",
      "loss 0.06698276102542877\n",
      "loss 0.0608789436519146\n",
      "loss 0.06345004588365555\n",
      "loss 0.06475840508937836\n",
      "loss 0.06338483095169067\n",
      "loss 0.06380218267440796\n",
      "loss 0.06254144757986069\n",
      "loss 0.06950019299983978\n",
      "loss 0.06124374270439148\n",
      "loss 0.0711640790104866\n",
      "loss 0.06060359999537468\n",
      "loss 0.06310689449310303\n",
      "loss 0.06785200536251068\n",
      "loss 0.06759507954120636\n",
      "loss 0.06215183436870575\n",
      "loss 0.05808026343584061\n",
      "loss 0.06347645074129105\n",
      "loss 0.058888476341962814\n",
      "loss 0.06607058644294739\n",
      "loss 0.060200393199920654\n",
      "loss 0.06111986190080643\n",
      "loss 0.06227400526404381\n",
      "loss 0.06380492448806763\n",
      "loss 0.056207846850156784\n",
      "loss 0.06217953935265541\n",
      "loss 0.0711871013045311\n",
      "loss 0.06385082751512527\n",
      "loss 0.06745346635580063\n",
      "loss 0.05973365902900696\n",
      "loss 0.061413928866386414\n",
      "loss 0.06346962600946426\n",
      "loss 0.07342937588691711\n",
      "loss 0.06285841763019562\n",
      "loss 0.06163783743977547\n",
      "loss 0.06411610543727875\n",
      "loss 0.06810479611158371\n",
      "loss 0.0641830638051033\n",
      "loss 0.06109398603439331\n",
      "loss 0.06234269216656685\n",
      "loss 0.06007319688796997\n",
      "loss 0.06572374701499939\n",
      "loss 0.06614479422569275\n",
      "loss 0.06285741925239563\n",
      "loss 0.05786256864666939\n",
      "loss 0.06159847974777222\n",
      "loss 0.0664299875497818\n",
      "loss 0.0621984489262104\n",
      "loss 0.06737086176872253\n",
      "loss 0.06265213340520859\n",
      "loss 0.07450555264949799\n",
      "loss 0.06387297064065933\n",
      "loss 0.06435699015855789\n",
      "loss 0.06759249418973923\n",
      "loss 0.06576582789421082\n",
      "loss 0.059821292757987976\n",
      "loss 0.06220005825161934\n",
      "loss 0.06144743040204048\n",
      "loss 0.06341486424207687\n",
      "loss 0.06182880327105522\n",
      "loss 0.060995928943157196\n",
      "loss 0.059861671179533005\n",
      "loss 0.060446664690971375\n",
      "loss 0.06602523475885391\n",
      "loss 0.07012303918600082\n",
      "loss 0.058911774307489395\n",
      "loss 0.06198782101273537\n",
      "loss 0.058560535311698914\n",
      "loss 0.062409933656454086\n",
      "loss 0.06178431585431099\n",
      "loss 0.06279048323631287\n",
      "loss 0.06390657275915146\n",
      "loss 0.06078794226050377\n",
      "loss 0.06648169457912445\n",
      "loss 0.0682247057557106\n",
      "loss 0.0705333724617958\n",
      "loss 0.06556960940361023\n",
      "loss 0.07290291786193848\n",
      "loss 0.06373202055692673\n",
      "loss 0.061063919216394424\n",
      "loss 0.06382407993078232\n",
      "loss 0.06435828655958176\n",
      "loss 0.06280814111232758\n",
      "loss 0.05983317270874977\n",
      "loss 0.05971077084541321\n",
      "loss 0.0619942769408226\n",
      "loss 0.06962078809738159\n",
      "loss 0.06476754695177078\n",
      "loss 0.07036150246858597\n",
      "loss 0.07120878249406815\n",
      "loss 0.06153962388634682\n",
      "loss 0.06060824170708656\n",
      "loss 0.06936245411634445\n",
      "loss 0.06424722075462341\n",
      "loss 0.0617082305252552\n",
      "loss 0.06613169610500336\n",
      "loss 0.05654514580965042\n",
      "loss 0.06486727297306061\n",
      "loss 0.06039442867040634\n",
      "loss 0.06642865389585495\n",
      "loss 0.07033621519804001\n",
      "loss 0.06528967618942261\n",
      "loss 0.06166664883494377\n",
      "loss 0.06413581967353821\n",
      "loss 0.06656158715486526\n",
      "loss 0.06640799343585968\n",
      "loss 0.06030943617224693\n",
      "loss 0.06280660629272461\n",
      "loss 0.06692326068878174\n",
      "loss 0.06779220700263977\n",
      "loss 0.06730016320943832\n",
      "loss 0.06430671364068985\n",
      "loss 0.0600813589990139\n",
      "loss 0.06029670685529709\n",
      "loss 0.058133505284786224\n",
      "loss 0.06412817537784576\n",
      "loss 0.06320396065711975\n",
      "loss 0.0719950720667839\n",
      "loss 0.06314729154109955\n",
      "loss 0.06926524639129639\n",
      "loss 0.06500061601400375\n",
      "loss 0.06419754028320312\n",
      "loss 0.06051203981041908\n",
      "loss 0.058475397527217865\n",
      "loss 0.06893377006053925\n",
      "loss 0.07285358756780624\n",
      "loss 0.06249990686774254\n",
      "loss 0.06549757719039917\n",
      "loss 0.0633447989821434\n",
      "loss 0.06412480771541595\n",
      "loss 0.06372272968292236\n",
      "loss 0.05703210085630417\n",
      "loss 0.06432856619358063\n",
      "loss 0.06057645007967949\n",
      "loss 0.06248681992292404\n",
      "loss 0.06452756375074387\n",
      "loss 0.06672170758247375\n",
      "loss 0.06082361191511154\n",
      "loss 0.06349433213472366\n",
      "loss 0.0660470575094223\n",
      "loss 0.06613654643297195\n",
      "loss 0.0643661767244339\n",
      "loss 0.06840133666992188\n",
      "loss 0.05810471251606941\n",
      "loss 0.059777986258268356\n",
      "loss 0.06817632913589478\n",
      "loss 0.06565243750810623\n",
      "loss 0.06705811619758606\n",
      "loss 0.06503449380397797\n",
      "loss 0.06660202145576477\n",
      "loss 0.07212360948324203\n",
      "loss 0.06981078535318375\n",
      "loss 0.07073373347520828\n",
      "loss 0.07087013125419617\n",
      "loss 0.07191457599401474\n",
      "loss 0.06911411136388779\n",
      "loss 0.06370081007480621\n",
      "loss 0.07031580060720444\n",
      "loss 0.06177501752972603\n",
      "loss 0.06605790555477142\n",
      "loss 0.06578859686851501\n",
      "loss 0.06287708878517151\n",
      "loss 0.06637908518314362\n",
      "loss 0.06632885336875916\n",
      "loss 0.0660378709435463\n",
      "loss 0.0663229376077652\n",
      "loss 0.0636611208319664\n",
      "loss 0.06051168590784073\n",
      "loss 0.05499131977558136\n",
      "loss 0.05743829533457756\n",
      "loss 0.05752089247107506\n",
      "loss 0.06592638790607452\n",
      "loss 0.06772579997777939\n",
      "loss 0.0654221847653389\n",
      "loss 0.061491958796978\n",
      "loss 0.06430484354496002\n",
      "loss 0.06921109557151794\n",
      "loss 0.06597916781902313\n",
      "loss 0.05944130942225456\n",
      "loss 0.06411799043416977\n",
      "loss 0.06498236209154129\n",
      "loss 0.06334058195352554\n",
      "loss 0.05797165632247925\n",
      "loss 0.061703234910964966\n",
      "loss 0.0666545033454895\n",
      "loss 0.06335562467575073\n",
      "loss 0.07331526279449463\n",
      "loss 0.06350325047969818\n",
      "loss 0.0629011020064354\n",
      "loss 0.06786956638097763\n",
      "loss 0.06987278163433075\n",
      "loss 0.06903685629367828\n",
      "loss 0.07012718915939331\n",
      "loss 0.06763231754302979\n",
      "loss 0.06184001639485359\n",
      "loss 0.06819283217191696\n",
      "loss 0.06880579143762589\n",
      "loss 0.06763071566820145\n",
      "loss 0.06844232231378555\n",
      "loss 0.05934155732393265\n",
      "loss 0.06734103709459305\n",
      "loss 0.060978326946496964\n",
      "loss 0.057951126247644424\n",
      "loss 0.07332611083984375\n",
      "loss 0.06526267528533936\n",
      "loss 0.06832973659038544\n",
      "loss 0.06819750368595123\n",
      "loss 0.062325019389390945\n",
      "loss 0.06094416603446007\n",
      "loss 0.0621061809360981\n",
      "loss 0.0682089775800705\n",
      "loss 0.06351424753665924\n",
      "loss 0.06038288027048111\n",
      "loss 0.06807801872491837\n",
      "loss 0.07083079218864441\n",
      "loss 0.06326785683631897\n",
      "loss 0.06120685487985611\n",
      "loss 0.06138267740607262\n",
      "loss 0.06353894621133804\n",
      "loss 0.06629560142755508\n",
      "loss 0.0668182522058487\n",
      "loss 0.06541468948125839\n",
      "loss 0.06852103024721146\n",
      "loss 0.06516936421394348\n",
      "loss 0.060749657452106476\n",
      "loss 0.06007373705506325\n",
      "loss 0.06730317324399948\n",
      "loss 0.06751610338687897\n",
      "loss 0.05391668155789375\n",
      "loss 0.08019459992647171\n",
      "loss 0.07315649092197418\n",
      "loss 0.0662732645869255\n",
      "loss 0.059694986790418625\n",
      "loss 0.06286777555942535\n",
      "loss 0.06013331562280655\n",
      "loss 0.07017555087804794\n",
      "loss 0.06553015112876892\n"
     ]
    }
   ],
   "source": [
    "noise_scores = []\n",
    "for i in range(noise_fe.shape[0]):\n",
    "    loss = autoencoder.evaluate(noise_fe[i:i+1], noise_fe[i:i+1], batch_size=1, verbose=0)\n",
    "    noise_scores.append(loss)\n",
    "    print('loss', loss)"
   ]
  },
  {
   "cell_type": "markdown",
   "metadata": {},
   "source": [
    "---\n",
    "## 将说话声（训练数据）的打分与噪声的打分花在直方图上进行对比"
   ]
  },
  {
   "cell_type": "code",
   "execution_count": 10,
   "metadata": {
    "ExecuteTime": {
     "end_time": "2019-05-08T01:57:34.333736Z",
     "start_time": "2019-05-08T01:57:33.967766Z"
    }
   },
   "outputs": [
    {
     "data": {
      "image/png": "[encoded data removed]",
      "text/plain": [
       "<Figure size 1296x720 with 1 Axes>"
      ]
     },
     "metadata": {
      "needs_background": "light"
     },
     "output_type": "display_data"
    }
   ],
   "source": [
    "plt.figure(figsize=(18,10))\n",
    "plt.hist(np.array(scores), bins=60, normed=0, facecolor=\"blue\", edgecolor=\"black\", alpha=0.7)\n",
    "plt.hist(np.array(noise_scores), bins=60, normed=0, facecolor=\"red\", edgecolor=\"black\", alpha=0.7)\n",
    "\n",
    "# 显示图标题\n",
    "plt.title(\"频数/频率分布直方图\")\n",
    "plt.show()"
   ]
  },
  {
   "cell_type": "markdown",
   "metadata": {},
   "source": [
    "---\n",
    "## 以FM的下的211个音频来测试（87-108）"
   ]
  },
  {
   "cell_type": "code",
   "execution_count": null,
   "metadata": {},
   "outputs": [],
   "source": [
    "import progressbar\n",
    "\n",
    "bar = progressbar.ProgressBar(maxval=len(collect_files('../data_fm_424/radioAudio')),\n",
    "                              widgets=[progressbar.Bar('=', '[', ']'), ' ', progressbar.Percentage()])\n",
    "bar.start()\n",
    "print(\"Extracting features ...\")\n",
    "features = []\n",
    "\n",
    "for i, (raw_file_name, joined_file_path) in enumerate(collect_files('../data_fm_424/radioAudio')):\n",
    "    _, sig = wav.read(joined_file_path)\n",
    "    fea = extract(sig)\n",
    "    feats = normalize_frames(np.array(fea))\n",
    "    features.append(feats)\n",
    "    bar.update(i + 1)\n",
    "\n",
    "bar.finish()\n",
    "print(\"Done.\")\n",
    "\n",
    "save(features, 'fm_fea', \".\")"
   ]
  },
  {
   "cell_type": "code",
   "execution_count": 30,
   "metadata": {
    "ExecuteTime": {
     "end_time": "2019-05-07T04:31:11.680559Z",
     "start_time": "2019-05-07T04:31:11.674946Z"
    }
   },
   "outputs": [
    {
     "name": "stdout",
     "output_type": "stream",
     "text": [
      "(211, 156)\n"
     ]
    }
   ],
   "source": [
    "fm_fe = load('fm_fea')\n",
    "\n",
    "print(np.array(fm_fe).shape)\n",
    "\n",
    "fm_fe = np.array(fm_fe)"
   ]
  },
  {
   "cell_type": "code",
   "execution_count": 31,
   "metadata": {
    "ExecuteTime": {
     "end_time": "2019-05-07T04:31:13.534464Z",
     "start_time": "2019-05-07T04:31:13.531301Z"
    }
   },
   "outputs": [
    {
     "data": {
      "text/plain": [
       "(156,)"
      ]
     },
     "execution_count": 31,
     "metadata": {},
     "output_type": "execute_result"
    }
   ],
   "source": [
    "fm_fe[0].shape"
   ]
  },
  {
   "cell_type": "code",
   "execution_count": 32,
   "metadata": {
    "ExecuteTime": {
     "end_time": "2019-05-07T04:31:16.671220Z",
     "start_time": "2019-05-07T04:31:16.573920Z"
    }
   },
   "outputs": [
    {
     "name": "stdout",
     "output_type": "stream",
     "text": [
      "loss 0.10157972574234009\n",
      "loss 0.10703330487012863\n",
      "loss 0.10689699649810791\n",
      "loss 0.11819986253976822\n",
      "loss 0.04084145650267601\n",
      "loss 0.06980717182159424\n",
      "loss 0.12014780193567276\n",
      "loss 0.09251231700181961\n",
      "loss 0.10885100811719894\n",
      "loss 0.10875240713357925\n",
      "loss 0.10882717370986938\n",
      "loss 0.11275241523981094\n",
      "loss 0.10012656450271606\n",
      "loss 0.10871505737304688\n",
      "loss 0.04681801050901413\n",
      "loss 0.09233622997999191\n",
      "loss 0.7175921201705933\n",
      "loss 0.11717971414327621\n",
      "loss 0.06392743438482285\n",
      "loss 0.10977642238140106\n",
      "loss 0.11370737105607986\n",
      "loss 0.10905731469392776\n",
      "loss 0.10905805230140686\n",
      "loss 0.11478183418512344\n",
      "loss 0.11481283605098724\n",
      "loss 0.11586674302816391\n",
      "loss 0.059784241020679474\n",
      "loss 0.11037475615739822\n",
      "loss 0.11032427102327347\n",
      "loss 0.058452196419239044\n",
      "loss 0.12272420525550842\n",
      "loss 0.08743151277303696\n",
      "loss 0.05573088675737381\n",
      "loss 0.05791594460606575\n",
      "loss 0.4201490581035614\n",
      "loss 0.08732441067695618\n",
      "loss 0.11393729597330093\n",
      "loss 0.10932712256908417\n",
      "loss 0.8798730373382568\n",
      "loss 0.041990507394075394\n",
      "loss 0.1029725894331932\n",
      "loss 0.7677555680274963\n",
      "loss 0.10668016970157623\n",
      "loss 0.11128424108028412\n",
      "loss 0.11019077152013779\n",
      "loss 0.14058218896389008\n",
      "loss 0.09745646268129349\n",
      "loss 0.07876091450452805\n",
      "loss 0.09940049797296524\n",
      "loss 0.10829620808362961\n",
      "loss 0.11139360815286636\n",
      "loss 0.030870893970131874\n",
      "loss 0.5162603259086609\n",
      "loss 0.025934243574738503\n",
      "loss 0.11015131324529648\n",
      "loss 0.1189584955573082\n",
      "loss 0.09199140220880508\n",
      "loss 1.1653614044189453\n",
      "loss 0.10252432525157928\n",
      "loss 0.906019926071167\n",
      "loss 0.10769197344779968\n",
      "loss 0.11827550828456879\n",
      "loss 0.11545316129922867\n",
      "loss 0.34859684109687805\n",
      "loss 0.10632522404193878\n",
      "loss 0.12431483715772629\n",
      "loss 0.9235661625862122\n",
      "loss 0.08694585412740707\n",
      "loss 0.15218083560466766\n",
      "loss 0.2069823443889618\n",
      "loss 0.1142948716878891\n",
      "loss 0.10270053893327713\n",
      "loss 0.11365610361099243\n",
      "loss 0.8815464377403259\n",
      "loss 0.9062359929084778\n",
      "loss 0.03435032069683075\n",
      "loss 0.10578028112649918\n",
      "loss 0.07477477192878723\n",
      "loss 0.08558571338653564\n",
      "loss 0.11672770977020264\n",
      "loss 0.09869372844696045\n",
      "loss 0.09486337751150131\n",
      "loss 0.15989743173122406\n",
      "loss 0.09947071224451065\n",
      "loss 0.09465932846069336\n",
      "loss 0.10405857115983963\n",
      "loss 0.022290106862783432\n",
      "loss 0.11571817845106125\n",
      "loss 0.11654676496982574\n",
      "loss 0.11848839372396469\n",
      "loss 0.11412707716226578\n",
      "loss 0.07973330467939377\n",
      "loss 0.11493589729070663\n",
      "loss 0.1153159961104393\n",
      "loss 0.06220288947224617\n",
      "loss 0.11329594999551773\n",
      "loss 0.10976972430944443\n",
      "loss 0.11849718540906906\n",
      "loss 0.05482731759548187\n",
      "loss 0.11393463611602783\n",
      "loss 0.5490537881851196\n",
      "loss 0.11359240114688873\n",
      "loss 0.14548949897289276\n",
      "loss 0.11945297569036484\n",
      "loss 0.11091607809066772\n",
      "loss 0.10293519496917725\n",
      "loss 0.8686987161636353\n",
      "loss 0.11389947682619095\n",
      "loss 0.20167061686515808\n",
      "loss 0.11629083752632141\n",
      "loss 0.09324996918439865\n",
      "loss 0.10662037134170532\n",
      "loss 0.06414762884378433\n",
      "loss 0.10216350853443146\n",
      "loss 0.034878332167863846\n",
      "loss 0.10671485960483551\n",
      "loss 0.11660686880350113\n",
      "loss 0.9890044927597046\n",
      "loss 0.07708097994327545\n",
      "loss 0.11023691296577454\n",
      "loss 0.056383486837148666\n",
      "loss 0.11031089723110199\n",
      "loss 0.0862755998969078\n",
      "loss 0.08923033624887466\n",
      "loss 0.11510034650564194\n",
      "loss 0.10603157430887222\n",
      "loss 0.07850193232297897\n",
      "loss 0.09069047123193741\n",
      "loss 0.9641562104225159\n",
      "loss 0.051224250346422195\n",
      "loss 1.0484131574630737\n",
      "loss 1.0686001777648926\n",
      "loss 0.8867473006248474\n",
      "loss 0.07612594962120056\n",
      "loss 0.9390559196472168\n",
      "loss 0.07471060007810593\n",
      "loss 0.04468155652284622\n",
      "loss 0.02994755282998085\n",
      "loss 0.20215848088264465\n",
      "loss 0.03625192493200302\n",
      "loss 0.11106757819652557\n",
      "loss 0.11907116323709488\n",
      "loss 0.8501132130622864\n",
      "loss 0.7607308626174927\n",
      "loss 0.1163385808467865\n",
      "loss 0.051648445427417755\n",
      "loss 0.11358936131000519\n",
      "loss 0.07200310379266739\n",
      "loss 0.12182707339525223\n",
      "loss 0.08964327722787857\n",
      "loss 0.11785386502742767\n",
      "loss 0.10749959945678711\n",
      "loss 0.05215262249112129\n",
      "loss 0.11051725596189499\n",
      "loss 0.09501028060913086\n",
      "loss 0.11201430857181549\n",
      "loss 0.07683800905942917\n",
      "loss 0.10537587851285934\n",
      "loss 0.8320306539535522\n",
      "loss 0.03863568231463432\n",
      "loss 0.06284105777740479\n",
      "loss 0.10101094096899033\n",
      "loss 0.12975479662418365\n",
      "loss 0.10516883432865143\n",
      "loss 0.10319660604000092\n",
      "loss 0.040706317871809006\n",
      "loss 0.11210507899522781\n",
      "loss 0.15405058860778809\n",
      "loss 0.06476008892059326\n",
      "loss 0.10933935642242432\n",
      "loss 0.11152730882167816\n",
      "loss 0.04945894703269005\n",
      "loss 0.112220898270607\n",
      "loss 0.07272432744503021\n",
      "loss 0.06083432957530022\n",
      "loss 0.11795240640640259\n",
      "loss 0.027759594842791557\n",
      "loss 0.10107104480266571\n",
      "loss 0.11626890301704407\n",
      "loss 0.11988478153944016\n",
      "loss 0.7607908248901367\n",
      "loss 0.10993896424770355\n",
      "loss 0.10292179137468338\n",
      "loss 0.05523039773106575\n",
      "loss 0.08828425407409668\n",
      "loss 0.047122400254011154\n",
      "loss 0.04290313273668289\n",
      "loss 0.09481953829526901\n",
      "loss 0.11204330623149872\n",
      "loss 0.09041541814804077\n",
      "loss 0.09773409366607666\n",
      "loss 0.12123718112707138\n",
      "loss 0.11016330868005753\n",
      "loss 0.12207575142383575\n",
      "loss 0.08508062362670898\n",
      "loss 0.11106403917074203\n",
      "loss 0.11448625475168228\n",
      "loss 0.10091526061296463\n",
      "loss 0.11813534051179886\n",
      "loss 0.11477498710155487\n",
      "loss 0.11562478542327881\n",
      "loss 0.11166738718748093\n",
      "loss 0.09714744240045547\n",
      "loss 0.9167161583900452\n",
      "loss 0.11636646836996078\n",
      "loss 0.10689390450716019\n",
      "loss 0.11346219480037689\n",
      "loss 0.10596209019422531\n",
      "loss 0.08909813314676285\n",
      "loss 0.06299363076686859\n",
      "loss 0.08872531354427338\n"
     ]
    }
   ],
   "source": [
    "fm_scores = []\n",
    "\n",
    "for i in range(fm_fe.shape[0]):\n",
    "    loss = autoencoder.evaluate(fm_fe[i:i+1], fm_fe[i:i+1], batch_size=1, verbose=0)\n",
    "    fm_scores.append(loss)\n",
    "    print('loss', loss)"
   ]
  },
  {
   "cell_type": "code",
   "execution_count": 33,
   "metadata": {
    "ExecuteTime": {
     "end_time": "2019-05-07T04:31:21.594346Z",
     "start_time": "2019-05-07T04:31:21.115104Z"
    }
   },
   "outputs": [
    {
     "data": {
      "image/png": "[encoded data removed]",
      "text/plain": [
       "<Figure size 1296x720 with 1 Axes>"
      ]
     },
     "metadata": {
      "needs_background": "light"
     },
     "output_type": "display_data"
    }
   ],
   "source": [
    "plt.figure(figsize=(18,10))\n",
    "plt.hist(np.array(scores), bins=60, normed=0, facecolor=\"blue\", edgecolor=\"black\", alpha=0.7)\n",
    "plt.hist(np.array(noise_scores), bins=60, normed=0, facecolor=\"red\", edgecolor=\"black\", alpha=0.7)\n",
    "plt.hist(np.array(fm_scores), bins=60, normed=0, facecolor=\"green\", edgecolor=\"black\", alpha=0.5)\n",
    "\n",
    "# 显示图标题\n",
    "plt.title(\"频数/频率分布直方图\")\n",
    "plt.show()"
   ]
  },
  {
   "cell_type": "code",
   "execution_count": 34,
   "metadata": {
    "ExecuteTime": {
     "end_time": "2019-05-07T04:31:25.432269Z",
     "start_time": "2019-05-07T04:31:25.429992Z"
    }
   },
   "outputs": [],
   "source": [
    "fm_s = np.array(fm_scores)\n",
    "\n",
    "fm_ss=fm_s[fm_s<0.045]"
   ]
  },
  {
   "cell_type": "code",
   "execution_count": 35,
   "metadata": {
    "ExecuteTime": {
     "end_time": "2019-05-07T04:31:26.520864Z",
     "start_time": "2019-05-07T04:31:26.515842Z"
    }
   },
   "outputs": [
    {
     "data": {
      "text/plain": [
       "14"
      ]
     },
     "execution_count": 35,
     "metadata": {},
     "output_type": "execute_result"
    }
   ],
   "source": [
    "len(fm_ss)"
   ]
  },
  {
   "cell_type": "code",
   "execution_count": 11,
   "metadata": {
    "ExecuteTime": {
     "end_time": "2019-05-08T01:59:24.699796Z",
     "start_time": "2019-05-08T01:58:49.091445Z"
    }
   },
   "outputs": [
    {
     "name": "stdout",
     "output_type": "stream",
     "text": [
      "Extracting features ...\n"
     ]
    },
    {
     "name": "stderr",
     "output_type": "stream",
     "text": [
      "6it [00:01,  4.12it/s]"
     ]
    },
    {
     "name": "stdout",
     "output_type": "stream",
     "text": [
      "文件路径:../data_fm_424/radioAudio/95.6MHz.wav, 文件名:95.6MHz, loss: 0.04212260991334915\n"
     ]
    },
    {
     "name": "stderr",
     "output_type": "stream",
     "text": [
      "40it [00:07,  5.56it/s]"
     ]
    },
    {
     "name": "stdout",
     "output_type": "stream",
     "text": [
      "文件路径:../data_fm_424/radioAudio/94.3MHz.wav, 文件名:94.3MHz, loss: 0.039334703236818314\n"
     ]
    },
    {
     "name": "stderr",
     "output_type": "stream",
     "text": [
      "53it [00:09,  5.40it/s]"
     ]
    },
    {
     "name": "stdout",
     "output_type": "stream",
     "text": [
      "文件路径:../data_fm_424/radioAudio/87.6MHz.wav, 文件名:87.6MHz, loss: 0.030029483139514923\n"
     ]
    },
    {
     "name": "stderr",
     "output_type": "stream",
     "text": [
      "55it [00:10,  5.48it/s]"
     ]
    },
    {
     "name": "stdout",
     "output_type": "stream",
     "text": [
      "文件路径:../data_fm_424/radioAudio/89.8MHz.wav, 文件名:89.8MHz, loss: 0.02828434482216835\n"
     ]
    },
    {
     "name": "stderr",
     "output_type": "stream",
     "text": [
      "77it [00:13,  6.43it/s]"
     ]
    },
    {
     "name": "stdout",
     "output_type": "stream",
     "text": [
      "文件路径:../data_fm_424/radioAudio/87.5MHz.wav, 文件名:87.5MHz, loss: 0.03356603533029556\n"
     ]
    },
    {
     "name": "stderr",
     "output_type": "stream",
     "text": [
      "88it [00:15,  6.40it/s]"
     ]
    },
    {
     "name": "stdout",
     "output_type": "stream",
     "text": [
      "文件路径:../data_fm_424/radioAudio/99.0MHz.wav, 文件名:99.0MHz, loss: 0.023507753387093544\n"
     ]
    },
    {
     "name": "stderr",
     "output_type": "stream",
     "text": [
      "116it [00:20,  6.28it/s]"
     ]
    },
    {
     "name": "stdout",
     "output_type": "stream",
     "text": [
      "文件路径:../data_fm_424/radioAudio/103.8MHz.wav, 文件名:103.8MHz, loss: 0.03432276472449303\n"
     ]
    },
    {
     "name": "stderr",
     "output_type": "stream",
     "text": [
      "139it [00:23,  6.41it/s]"
     ]
    },
    {
     "name": "stdout",
     "output_type": "stream",
     "text": [
      "文件路径:../data_fm_424/radioAudio/102.8MHz.wav, 文件名:102.8MHz, loss: 0.031177178025245667\n"
     ]
    },
    {
     "name": "stderr",
     "output_type": "stream",
     "text": [
      "141it [00:23,  6.41it/s]"
     ]
    },
    {
     "name": "stdout",
     "output_type": "stream",
     "text": [
      "文件路径:../data_fm_424/radioAudio/105.0MHz.wav, 文件名:105.0MHz, loss: 0.03035675548017025\n"
     ]
    },
    {
     "name": "stderr",
     "output_type": "stream",
     "text": [
      "161it [00:27,  6.24it/s]"
     ]
    },
    {
     "name": "stdout",
     "output_type": "stream",
     "text": [
      "文件路径:../data_fm_424/radioAudio/95.4MHz.wav, 文件名:95.4MHz, loss: 0.03641064465045929\n"
     ]
    },
    {
     "name": "stderr",
     "output_type": "stream",
     "text": [
      "167it [00:28,  6.12it/s]"
     ]
    },
    {
     "name": "stdout",
     "output_type": "stream",
     "text": [
      "文件路径:../data_fm_424/radioAudio/94.4MHz.wav, 文件名:94.4MHz, loss: 0.0409623458981514\n"
     ]
    },
    {
     "name": "stderr",
     "output_type": "stream",
     "text": [
      "178it [00:29,  6.35it/s]"
     ]
    },
    {
     "name": "stdout",
     "output_type": "stream",
     "text": [
      "文件路径:../data_fm_424/radioAudio/100.0MHz.wav, 文件名:100.0MHz, loss: 0.026895569637417793\n"
     ]
    },
    {
     "name": "stderr",
     "output_type": "stream",
     "text": [
      "188it [00:31,  5.92it/s]"
     ]
    },
    {
     "name": "stdout",
     "output_type": "stream",
     "text": [
      "文件路径:../data_fm_424/radioAudio/88.7MHz.wav, 文件名:88.7MHz, loss: 0.04161156341433525\n"
     ]
    },
    {
     "name": "stderr",
     "output_type": "stream",
     "text": [
      "211it [00:35,  6.22it/s]"
     ]
    },
    {
     "name": "stdout",
     "output_type": "stream",
     "text": [
      "Done.\n"
     ]
    },
    {
     "name": "stderr",
     "output_type": "stream",
     "text": [
      "\n"
     ]
    }
   ],
   "source": [
    "from tqdm import tqdm\n",
    "\n",
    "print(\"Extracting features ...\")\n",
    "tmps = []\n",
    "\n",
    "tmps_fm_scores = []\n",
    "file_name = {}\n",
    "\n",
    "for i, (raw_file_name, joined_file_path) in tqdm(enumerate(collect_files('../data_fm_424/radioAudio'))):\n",
    "    _, sig = wav.read(joined_file_path)\n",
    "    fea = extract(sig)\n",
    "    feats = normalize_frames(np.array(fea))\n",
    "    loss = autoencoder.evaluate(feats.reshape(1,-1), feats.reshape(1,-1), batch_size=1, verbose=0)\n",
    "    tmps_fm_scores.append(loss)\n",
    "    if loss <=0.045:\n",
    "        print(\"文件路径:{}, 文件名:{}, loss: {}\".format(joined_file_path, raw_file_name, loss))\n",
    "        file_name[raw_file_name]=loss\n",
    "        \n",
    "print(\"Done.\")"
   ]
  },
  {
   "cell_type": "code",
   "execution_count": 12,
   "metadata": {
    "ExecuteTime": {
     "end_time": "2019-05-08T01:59:27.397310Z",
     "start_time": "2019-05-08T01:59:27.392780Z"
    }
   },
   "outputs": [],
   "source": [
    "tmps_fm_s= np.array(tmps_fm_scores)\n",
    "\n",
    "tmps_fm_ss=tmps_fm_s[tmps_fm_s<0.045]"
   ]
  },
  {
   "cell_type": "code",
   "execution_count": 13,
   "metadata": {
    "ExecuteTime": {
     "end_time": "2019-05-08T01:59:28.739437Z",
     "start_time": "2019-05-08T01:59:28.735527Z"
    }
   },
   "outputs": [
    {
     "data": {
      "text/plain": [
       "13"
      ]
     },
     "execution_count": 13,
     "metadata": {},
     "output_type": "execute_result"
    }
   ],
   "source": [
    "len(tmps_fm_ss)"
   ]
  },
  {
   "cell_type": "code",
   "execution_count": 14,
   "metadata": {
    "ExecuteTime": {
     "end_time": "2019-05-08T01:59:33.458034Z",
     "start_time": "2019-05-08T01:59:33.454940Z"
    }
   },
   "outputs": [
    {
     "data": {
      "text/plain": [
       "{'95.6MHz': 0.04212260991334915,\n",
       " '94.3MHz': 0.039334703236818314,\n",
       " '87.6MHz': 0.030029483139514923,\n",
       " '89.8MHz': 0.02828434482216835,\n",
       " '87.5MHz': 0.03356603533029556,\n",
       " '99.0MHz': 0.023507753387093544,\n",
       " '103.8MHz': 0.03432276472449303,\n",
       " '102.8MHz': 0.031177178025245667,\n",
       " '105.0MHz': 0.03035675548017025,\n",
       " '95.4MHz': 0.03641064465045929,\n",
       " '94.4MHz': 0.0409623458981514,\n",
       " '100.0MHz': 0.026895569637417793,\n",
       " '88.7MHz': 0.04161156341433525}"
      ]
     },
     "execution_count": 14,
     "metadata": {},
     "output_type": "execute_result"
    }
   ],
   "source": [
    "file_name"
   ]
  },
  {
   "cell_type": "code",
   "execution_count": 15,
   "metadata": {
    "ExecuteTime": {
     "end_time": "2019-05-08T01:59:39.886441Z",
     "start_time": "2019-05-08T01:59:39.466201Z"
    }
   },
   "outputs": [
    {
     "data": {
      "image/png": "[encoded data removed]",
      "text/plain": [
       "<Figure size 1296x720 with 1 Axes>"
      ]
     },
     "metadata": {
      "needs_background": "light"
     },
     "output_type": "display_data"
    }
   ],
   "source": [
    "plt.figure(figsize=(18,10))\n",
    "plt.hist(np.array(scores), bins=60, normed=0, facecolor=\"blue\", edgecolor=\"black\", alpha=0.7)\n",
    "plt.hist(np.array(noise_scores), bins=60, normed=0, facecolor=\"red\", edgecolor=\"black\", alpha=0.7)\n",
    "# plt.hist(np.array(fm_scores), bins=60, normed=0, facecolor=\"green\", edgecolor=\"black\", alpha=0.5)\n",
    "\n",
    "plt.hist(np.array(tmps_fm_scores), bins=60, normed=0, facecolor=\"yellow\", edgecolor=\"black\", alpha=0.3)\n",
    "\n",
    "# 显示图标题\n",
    "plt.title(\"频数/频率分布直方图\")\n",
    "plt.show()"
   ]
  },
  {
   "cell_type": "markdown",
   "metadata": {
    "ExecuteTime": {
     "end_time": "2019-05-07T03:03:48.298798Z",
     "start_time": "2019-05-07T03:03:47.198731Z"
    }
   },
   "source": [
    "## 加载模型的代码   \n",
    "\n",
    "    # encoding = utf-8\n",
    "\n",
    "    import tqdm\n",
    "    from pathlib import Path\n",
    "\n",
    "    import keras\n",
    "    from keras.models import load_model\n",
    "\n",
    "    model = load_model(filepath)\n",
    "    # loss = model.evaluate(x_test, y_test, batch_size=1, verbose=2)\n",
    "    print('model:', model)\n",
    "\n",
    "    # wf = open('label_.csv', 'a+')\n",
    "    # one_class_label = 0\n",
    "    # print('x_test', test[0].shape)\n",
    "    # # loss = model.evaluate(test[:1], test[:1], batch_size=1, verbose=2)\n",
    "    # # print('loss', loss)\n",
    "    # for i in range(test.shape[0]):\n",
    "    #     loss = model.evaluate(test[i:i+1], test[i:i+1], batch_size=1, verbose=0)\n",
    "    #     # print('loss', loss)\n",
    "    #     wf.write(str(one_class_label) + ',' + str(5) + ',' + str(loss) + '\\n')\n",
    "    #     print(i)\n",
    "    # wf.close()\n",
    "\n",
    "    # del model\n",
    "    # gc.collect()"
   ]
  },
  {
   "cell_type": "code",
   "execution_count": 36,
   "metadata": {
    "ExecuteTime": {
     "end_time": "2019-05-08T02:44:12.831896Z",
     "start_time": "2019-05-08T02:43:36.464922Z"
    }
   },
   "outputs": [
    {
     "name": "stderr",
     "output_type": "stream",
     "text": [
      "\r",
      "0it [00:00, ?it/s]"
     ]
    },
    {
     "name": "stdout",
     "output_type": "stream",
     "text": [
      "model: <keras.engine.training.Model object at 0x7f90a87a7748>\n",
      "Extracting features ...\n"
     ]
    },
    {
     "name": "stderr",
     "output_type": "stream",
     "text": [
      "6it [00:01,  5.38it/s]"
     ]
    },
    {
     "name": "stdout",
     "output_type": "stream",
     "text": [
      "文件路径:../radioAudio/95.6MHz.wav, 文件名:95.6MHz, loss: 0.0438782162964344\n",
      "文件路径:../radioAudio/96.8MHz.wav, 文件名:96.8MHz, loss: 0.030199751257896423\n"
     ]
    },
    {
     "name": "stderr",
     "output_type": "stream",
     "text": [
      "20it [00:03,  5.89it/s]"
     ]
    },
    {
     "name": "stdout",
     "output_type": "stream",
     "text": [
      "文件路径:../radioAudio/97.0MHz.wav, 文件名:97.0MHz, loss: 0.04568968340754509\n"
     ]
    },
    {
     "name": "stderr",
     "output_type": "stream",
     "text": [
      "33it [00:05,  5.85it/s]"
     ]
    },
    {
     "name": "stdout",
     "output_type": "stream",
     "text": [
      "文件路径:../radioAudio/93.0MHz.wav, 文件名:93.0MHz, loss: 0.02331138215959072\n",
      "文件路径:../radioAudio/90.8MHz.wav, 文件名:90.8MHz, loss: 0.0464005209505558\n"
     ]
    },
    {
     "name": "stderr",
     "output_type": "stream",
     "text": [
      "35it [00:06,  5.85it/s]"
     ]
    },
    {
     "name": "stdout",
     "output_type": "stream",
     "text": [
      "文件路径:../radioAudio/91.8MHz.wav, 文件名:91.8MHz, loss: 0.03648235648870468\n"
     ]
    },
    {
     "name": "stderr",
     "output_type": "stream",
     "text": [
      "41it [00:07,  5.90it/s]"
     ]
    },
    {
     "name": "stdout",
     "output_type": "stream",
     "text": [
      "文件路径:../radioAudio/94.3MHz.wav, 文件名:94.3MHz, loss: 0.043722961097955704\n"
     ]
    },
    {
     "name": "stderr",
     "output_type": "stream",
     "text": [
      "50it [00:08,  6.42it/s]"
     ]
    },
    {
     "name": "stdout",
     "output_type": "stream",
     "text": [
      "文件路径:../radioAudio/89.3MHz.wav, 文件名:89.3MHz, loss: 0.048409659415483475\n"
     ]
    },
    {
     "name": "stderr",
     "output_type": "stream",
     "text": [
      "53it [00:09,  6.71it/s]"
     ]
    },
    {
     "name": "stdout",
     "output_type": "stream",
     "text": [
      "文件路径:../radioAudio/87.6MHz.wav, 文件名:87.6MHz, loss: 0.030305715277791023\n"
     ]
    },
    {
     "name": "stderr",
     "output_type": "stream",
     "text": [
      "67it [00:11,  5.88it/s]"
     ]
    },
    {
     "name": "stdout",
     "output_type": "stream",
     "text": [
      "文件路径:../radioAudio/102.6MHz.wav, 文件名:102.6MHz, loss: 0.04274626448750496\n"
     ]
    },
    {
     "name": "stderr",
     "output_type": "stream",
     "text": [
      "70it [00:11,  5.90it/s]"
     ]
    },
    {
     "name": "stdout",
     "output_type": "stream",
     "text": [
      "文件路径:../radioAudio/100.8MHz.wav, 文件名:100.8MHz, loss: 0.05362986773252487\n"
     ]
    },
    {
     "name": "stderr",
     "output_type": "stream",
     "text": [
      "77it [00:13,  5.98it/s]"
     ]
    },
    {
     "name": "stdout",
     "output_type": "stream",
     "text": [
      "文件路径:../radioAudio/87.5MHz.wav, 文件名:87.5MHz, loss: 0.045158226042985916\n"
     ]
    },
    {
     "name": "stderr",
     "output_type": "stream",
     "text": [
      "88it [00:14,  6.13it/s]"
     ]
    },
    {
     "name": "stdout",
     "output_type": "stream",
     "text": [
      "文件路径:../radioAudio/99.0MHz.wav, 文件名:99.0MHz, loss: 0.036124467849731445\n"
     ]
    },
    {
     "name": "stderr",
     "output_type": "stream",
     "text": [
      "112it [00:18,  6.25it/s]"
     ]
    },
    {
     "name": "stdout",
     "output_type": "stream",
     "text": [
      "文件路径:../radioAudio/88.5MHz.wav, 文件名:88.5MHz, loss: 0.0278413575142622\n"
     ]
    },
    {
     "name": "stderr",
     "output_type": "stream",
     "text": [
      "137it [00:22,  5.86it/s]"
     ]
    },
    {
     "name": "stdout",
     "output_type": "stream",
     "text": [
      "文件路径:../radioAudio/100.6MHz.wav, 文件名:100.6MHz, loss: 0.03988482430577278\n"
     ]
    },
    {
     "name": "stderr",
     "output_type": "stream",
     "text": [
      "139it [00:23,  6.27it/s]"
     ]
    },
    {
     "name": "stdout",
     "output_type": "stream",
     "text": [
      "文件路径:../radioAudio/102.8MHz.wav, 文件名:102.8MHz, loss: 0.031725093722343445\n",
      "文件路径:../radioAudio/105.7MHz.wav, 文件名:105.7MHz, loss: 0.05056300386786461\n"
     ]
    },
    {
     "name": "stderr",
     "output_type": "stream",
     "text": [
      "141it [00:23,  6.04it/s]"
     ]
    },
    {
     "name": "stdout",
     "output_type": "stream",
     "text": [
      "文件路径:../radioAudio/105.0MHz.wav, 文件名:105.0MHz, loss: 0.026094311848282814\n"
     ]
    },
    {
     "name": "stderr",
     "output_type": "stream",
     "text": [
      "143it [00:23,  5.92it/s]"
     ]
    },
    {
     "name": "stdout",
     "output_type": "stream",
     "text": [
      "文件路径:../radioAudio/95.3MHz.wav, 文件名:95.3MHz, loss: 0.044950760900974274\n"
     ]
    },
    {
     "name": "stderr",
     "output_type": "stream",
     "text": [
      "153it [00:25,  6.30it/s]"
     ]
    },
    {
     "name": "stdout",
     "output_type": "stream",
     "text": [
      "文件路径:../radioAudio/95.2MHz.wav, 文件名:95.2MHz, loss: 0.027468299493193626\n",
      "文件路径:../radioAudio/98.9MHz.wav, 文件名:98.9MHz, loss: 0.040198300033807755\n"
     ]
    },
    {
     "name": "stderr",
     "output_type": "stream",
     "text": [
      "156it [00:25,  6.65it/s]"
     ]
    },
    {
     "name": "stdout",
     "output_type": "stream",
     "text": [
      "文件路径:../radioAudio/104.8MHz.wav, 文件名:104.8MHz, loss: 0.03209298849105835\n"
     ]
    },
    {
     "name": "stderr",
     "output_type": "stream",
     "text": [
      "161it [00:26,  6.01it/s]"
     ]
    },
    {
     "name": "stdout",
     "output_type": "stream",
     "text": [
      "文件路径:../radioAudio/95.4MHz.wav, 文件名:95.4MHz, loss: 0.026523079723119736\n",
      "文件路径:../radioAudio/98.8MHz.wav, 文件名:98.8MHz, loss: 0.0251761581748724\n"
     ]
    },
    {
     "name": "stderr",
     "output_type": "stream",
     "text": [
      "163it [00:27,  5.93it/s]"
     ]
    },
    {
     "name": "stdout",
     "output_type": "stream",
     "text": [
      "文件路径:../radioAudio/105.6MHz.wav, 文件名:105.6MHz, loss: 0.0330529622733593\n",
      "文件路径:../radioAudio/104.9MHz.wav, 文件名:104.9MHz, loss: 0.049574416130781174\n"
     ]
    },
    {
     "name": "stderr",
     "output_type": "stream",
     "text": [
      "167it [00:27,  5.95it/s]"
     ]
    },
    {
     "name": "stdout",
     "output_type": "stream",
     "text": [
      "文件路径:../radioAudio/94.4MHz.wav, 文件名:94.4MHz, loss: 0.049178265035152435\n"
     ]
    },
    {
     "name": "stderr",
     "output_type": "stream",
     "text": [
      "176it [00:29,  6.03it/s]"
     ]
    },
    {
     "name": "stdout",
     "output_type": "stream",
     "text": [
      "文件路径:../radioAudio/94.2MHz.wav, 文件名:94.2MHz, loss: 0.04755215346813202\n"
     ]
    },
    {
     "name": "stderr",
     "output_type": "stream",
     "text": [
      "178it [00:29,  5.92it/s]"
     ]
    },
    {
     "name": "stdout",
     "output_type": "stream",
     "text": [
      "文件路径:../radioAudio/100.0MHz.wav, 文件名:100.0MHz, loss: 0.021738942712545395\n"
     ]
    },
    {
     "name": "stderr",
     "output_type": "stream",
     "text": [
      "186it [00:31,  5.85it/s]"
     ]
    },
    {
     "name": "stdout",
     "output_type": "stream",
     "text": [
      "文件路径:../radioAudio/101.0MHz.wav, 文件名:101.0MHz, loss: 0.04693552106618881\n"
     ]
    },
    {
     "name": "stderr",
     "output_type": "stream",
     "text": [
      "188it [00:31,  5.79it/s]"
     ]
    },
    {
     "name": "stdout",
     "output_type": "stream",
     "text": [
      "文件路径:../radioAudio/88.7MHz.wav, 文件名:88.7MHz, loss: 0.022871144115924835\n"
     ]
    },
    {
     "name": "stderr",
     "output_type": "stream",
     "text": [
      "210it [00:35,  5.87it/s]"
     ]
    },
    {
     "name": "stdout",
     "output_type": "stream",
     "text": [
      "文件路径:../radioAudio/105.8MHz.wav, 文件名:105.8MHz, loss: 0.0376344658434391\n"
     ]
    },
    {
     "name": "stderr",
     "output_type": "stream",
     "text": [
      "\r",
      "211it [00:35,  5.85it/s]"
     ]
    },
    {
     "name": "stdout",
     "output_type": "stream",
     "text": [
      "文件路径:../radioAudio/99.8MHz.wav, 文件名:99.8MHz, loss: 0.02336904965341091\n",
      "Done.\n"
     ]
    },
    {
     "name": "stderr",
     "output_type": "stream",
     "text": [
      "\n"
     ]
    }
   ],
   "source": [
    "# encoding = utf-8\n",
    "\n",
    "from tqdm import tqdm\n",
    "from keras.models import load_model\n",
    "\n",
    "model = load_model('autocode_0507.h5')\n",
    "print('model:', model)\n",
    "\n",
    "print(\"Extracting features ...\")\n",
    "tmps = []\n",
    "\n",
    "tmps_fm_scores = []\n",
    "file_name = {}\n",
    "\n",
    "for i, (raw_file_name, joined_file_path) in tqdm(enumerate(collect_files('../radioAudio'))):\n",
    "    _, sig = wav.read(joined_file_path)\n",
    "    fea = extract(sig)\n",
    "    feats = normalize_frames(np.array(fea))\n",
    "    loss = model.evaluate(feats.reshape(1,-1), feats.reshape(1,-1), batch_size=1, verbose=0)\n",
    "    tmps_fm_scores.append(loss)\n",
    "    if loss <=0.055:\n",
    "        print(\"文件路径:{}, 文件名:{}, loss: {}\".format(joined_file_path, raw_file_name, loss))\n",
    "        file_name[raw_file_name]=loss\n",
    "        \n",
    "print(\"Done.\")"
   ]
  },
  {
   "cell_type": "code",
   "execution_count": 37,
   "metadata": {
    "ExecuteTime": {
     "end_time": "2019-05-08T02:44:24.907833Z",
     "start_time": "2019-05-08T02:44:24.903689Z"
    }
   },
   "outputs": [],
   "source": [
    "tmps_fm_s= np.array(tmps_fm_scores)\n",
    "\n",
    "tmps_fm_ss=tmps_fm_s[tmps_fm_s<0.055]"
   ]
  },
  {
   "cell_type": "code",
   "execution_count": 38,
   "metadata": {
    "ExecuteTime": {
     "end_time": "2019-05-08T02:44:25.794610Z",
     "start_time": "2019-05-08T02:44:25.784234Z"
    }
   },
   "outputs": [
    {
     "data": {
      "text/plain": [
       "{'95.6MHz': 0.0438782162964344,\n",
       " '96.8MHz': 0.030199751257896423,\n",
       " '97.0MHz': 0.04568968340754509,\n",
       " '93.0MHz': 0.02331138215959072,\n",
       " '90.8MHz': 0.0464005209505558,\n",
       " '91.8MHz': 0.03648235648870468,\n",
       " '94.3MHz': 0.043722961097955704,\n",
       " '89.3MHz': 0.048409659415483475,\n",
       " '87.6MHz': 0.030305715277791023,\n",
       " '102.6MHz': 0.04274626448750496,\n",
       " '100.8MHz': 0.05362986773252487,\n",
       " '87.5MHz': 0.045158226042985916,\n",
       " '99.0MHz': 0.036124467849731445,\n",
       " '88.5MHz': 0.0278413575142622,\n",
       " '100.6MHz': 0.03988482430577278,\n",
       " '102.8MHz': 0.031725093722343445,\n",
       " '105.7MHz': 0.05056300386786461,\n",
       " '105.0MHz': 0.026094311848282814,\n",
       " '95.3MHz': 0.044950760900974274,\n",
       " '95.2MHz': 0.027468299493193626,\n",
       " '98.9MHz': 0.040198300033807755,\n",
       " '104.8MHz': 0.03209298849105835,\n",
       " '95.4MHz': 0.026523079723119736,\n",
       " '98.8MHz': 0.0251761581748724,\n",
       " '105.6MHz': 0.0330529622733593,\n",
       " '104.9MHz': 0.049574416130781174,\n",
       " '94.4MHz': 0.049178265035152435,\n",
       " '94.2MHz': 0.04755215346813202,\n",
       " '100.0MHz': 0.021738942712545395,\n",
       " '101.0MHz': 0.04693552106618881,\n",
       " '88.7MHz': 0.022871144115924835,\n",
       " '105.8MHz': 0.0376344658434391,\n",
       " '99.8MHz': 0.02336904965341091}"
      ]
     },
     "execution_count": 38,
     "metadata": {},
     "output_type": "execute_result"
    }
   ],
   "source": [
    "file_name"
   ]
  },
  {
   "cell_type": "code",
   "execution_count": 39,
   "metadata": {
    "ExecuteTime": {
     "end_time": "2019-05-08T02:44:29.273591Z",
     "start_time": "2019-05-08T02:44:29.271292Z"
    }
   },
   "outputs": [],
   "source": [
    "fm_list = []\n",
    "for key in file_name.keys():\n",
    "#     print(key[:-3])\n",
    "    fm_list.append(float(key[:-3]))\n"
   ]
  },
  {
   "cell_type": "code",
   "execution_count": 40,
   "metadata": {
    "ExecuteTime": {
     "end_time": "2019-05-08T02:44:31.759331Z",
     "start_time": "2019-05-08T02:44:31.755409Z"
    }
   },
   "outputs": [
    {
     "name": "stdout",
     "output_type": "stream",
     "text": [
      "[87.5, 87.6, 88.5, 88.7, 89.3, 90.8, 91.8, 93.0, 94.2, 94.3, 94.4, 95.2, 95.3, 95.4, 95.6, 96.8, 97.0, 98.8, 98.9, 99.0, 99.8, 100.0, 100.6, 100.8, 101.0, 102.6, 102.8, 104.8, 104.9, 105.0, 105.6, 105.7, 105.8]\n"
     ]
    }
   ],
   "source": [
    "fm_list.sort()\n",
    "print(fm_list)"
   ]
  },
  {
   "cell_type": "code",
   "execution_count": 41,
   "metadata": {
    "ExecuteTime": {
     "end_time": "2019-05-08T05:27:43.124144Z",
     "start_time": "2019-05-08T05:27:26.317752Z"
    }
   },
   "outputs": [
    {
     "name": "stderr",
     "output_type": "stream",
     "text": [
      "\r",
      "0it [00:00, ?it/s]"
     ]
    },
    {
     "name": "stdout",
     "output_type": "stream",
     "text": [
      "model: <keras.engine.training.Model object at 0x7f903048bda0>\n",
      "Extracting features ...\n"
     ]
    },
    {
     "name": "stderr",
     "output_type": "stream",
     "text": [
      "/home/zhudong/.virtualenvs/tf_keras_py3/lib/python3.6/site-packages/scipy/io/wavfile.py:273: WavFileWarning: Chunk (non-data) not understood, skipping it.\n",
      "  WavFileWarning)\n",
      "142it [00:15,  9.26it/s]"
     ]
    },
    {
     "name": "stdout",
     "output_type": "stream",
     "text": [
      "Done.\n"
     ]
    },
    {
     "name": "stderr",
     "output_type": "stream",
     "text": [
      "\n"
     ]
    }
   ],
   "source": [
    "# encoding = utf-8\n",
    "\n",
    "from tqdm import tqdm\n",
    "from keras.models import load_model\n",
    "\n",
    "model = load_model('autocode_0507.h5')\n",
    "print('model:', model)\n",
    "\n",
    "print(\"Extracting features ...\")\n",
    "tmps = []\n",
    "\n",
    "fm_87_scores = []\n",
    "file_87_name = {}\n",
    "\n",
    "for i, (raw_file_name, joined_file_path) in tqdm(enumerate(collect_files('../87.0'))):\n",
    "    _, sig = wav.read(joined_file_path)\n",
    "    fea = extract(sig)\n",
    "    feats = normalize_frames(np.array(fea))\n",
    "    loss = model.evaluate(feats.reshape(1,-1), feats.reshape(1,-1), batch_size=1, verbose=0)\n",
    "    fm_87_scores.append(loss)\n",
    "    if loss <=0.055:\n",
    "        print(\"文件路径:{}, 文件名:{}, loss: {}\".format(joined_file_path, raw_file_name, loss))\n",
    "        file_87_name[raw_file_name]=loss\n",
    "        \n",
    "print(\"Done.\")"
   ]
  },
  {
   "cell_type": "code",
   "execution_count": 42,
   "metadata": {
    "ExecuteTime": {
     "end_time": "2019-05-08T05:28:42.719489Z",
     "start_time": "2019-05-08T05:28:42.304168Z"
    }
   },
   "outputs": [
    {
     "data": {
      "image/png": "[encoded data removed]",
      "text/plain": [
       "<Figure size 1296x720 with 1 Axes>"
      ]
     },
     "metadata": {
      "needs_background": "light"
     },
     "output_type": "display_data"
    }
   ],
   "source": [
    "plt.figure(figsize=(18,10))\n",
    "plt.hist(np.array(scores), bins=60, normed=0, facecolor=\"blue\", edgecolor=\"black\", alpha=0.7)\n",
    "plt.hist(np.array(noise_scores), bins=60, normed=0, facecolor=\"red\", edgecolor=\"black\", alpha=0.7)\n",
    "# plt.hist(np.array(fm_scores), bins=60, normed=0, facecolor=\"green\", edgecolor=\"black\", alpha=0.5)\n",
    "\n",
    "plt.hist(np.array(fm_87_scores), bins=60, normed=0, facecolor=\"yellow\", edgecolor=\"black\", alpha=0.3)\n",
    "\n",
    "# 显示图标题\n",
    "plt.title(\"频数/频率分布直方图\")\n",
    "plt.show()"
   ]
  },
  {
   "cell_type": "code",
   "execution_count": 43,
   "metadata": {
    "ExecuteTime": {
     "end_time": "2019-05-08T05:30:18.647671Z",
     "start_time": "2019-05-08T05:30:00.212775Z"
    }
   },
   "outputs": [
    {
     "name": "stderr",
     "output_type": "stream",
     "text": [
      "\r",
      "0it [00:00, ?it/s]"
     ]
    },
    {
     "name": "stdout",
     "output_type": "stream",
     "text": [
      "model: <keras.engine.training.Model object at 0x7f9011901908>\n",
      "Extracting features ...\n"
     ]
    },
    {
     "name": "stderr",
     "output_type": "stream",
     "text": [
      "3it [00:00,  4.35it/s]"
     ]
    },
    {
     "name": "stdout",
     "output_type": "stream",
     "text": [
      "文件路径:../101.7/101.7-141.wav, 文件名:101.7-141, loss: 0.021060917526483536\n",
      "文件路径:../101.7/101.7-98.wav, 文件名:101.7-98, loss: 0.01246307697147131\n",
      "文件路径:../101.7/101.7-113.wav, 文件名:101.7-113, loss: 0.020972436293959618\n"
     ]
    },
    {
     "name": "stderr",
     "output_type": "stream",
     "text": [
      "\r",
      "5it [00:00,  5.38it/s]"
     ]
    },
    {
     "name": "stdout",
     "output_type": "stream",
     "text": [
      "文件路径:../101.7/101.7-34.wav, 文件名:101.7-34, loss: 0.014939618296921253\n",
      "文件路径:../101.7/101.7-45.wav, 文件名:101.7-45, loss: 0.02973093092441559\n",
      "文件路径:../101.7/101.7-24.wav, 文件名:101.7-24, loss: 0.011563943699002266\n"
     ]
    },
    {
     "name": "stderr",
     "output_type": "stream",
     "text": [
      "8it [00:00,  6.75it/s]"
     ]
    },
    {
     "name": "stdout",
     "output_type": "stream",
     "text": [
      "文件路径:../101.7/101.7-129.wav, 文件名:101.7-129, loss: 0.01718187890946865\n",
      "文件路径:../101.7/101.7-58.wav, 文件名:101.7-58, loss: 0.032970622181892395\n"
     ]
    },
    {
     "name": "stderr",
     "output_type": "stream",
     "text": [
      "10it [00:01,  7.80it/s]"
     ]
    },
    {
     "name": "stdout",
     "output_type": "stream",
     "text": [
      "文件路径:../101.7/101.7-137.wav, 文件名:101.7-137, loss: 0.017407847568392754\n",
      "文件路径:../101.7/101.7-122.wav, 文件名:101.7-122, loss: 0.024119460955262184\n"
     ]
    },
    {
     "name": "stderr",
     "output_type": "stream",
     "text": [
      "12it [00:01,  7.87it/s]"
     ]
    },
    {
     "name": "stdout",
     "output_type": "stream",
     "text": [
      "文件路径:../101.7/101.7-95.wav, 文件名:101.7-95, loss: 0.02563272789120674\n",
      "文件路径:../101.7/101.7-140.wav, 文件名:101.7-140, loss: 0.014538723975419998\n"
     ]
    },
    {
     "name": "stderr",
     "output_type": "stream",
     "text": [
      "14it [00:01,  7.99it/s]"
     ]
    },
    {
     "name": "stdout",
     "output_type": "stream",
     "text": [
      "文件路径:../101.7/101.7-66.wav, 文件名:101.7-66, loss: 0.019016083329916\n",
      "文件路径:../101.7/101.7-21.wav, 文件名:101.7-21, loss: 0.016789043322205544\n"
     ]
    },
    {
     "name": "stderr",
     "output_type": "stream",
     "text": [
      "16it [00:01,  7.83it/s]"
     ]
    },
    {
     "name": "stdout",
     "output_type": "stream",
     "text": [
      "文件路径:../101.7/101.7-148.wav, 文件名:101.7-148, loss: 0.0221218504011631\n",
      "文件路径:../101.7/101.7-51.wav, 文件名:101.7-51, loss: 0.011264500208199024\n"
     ]
    },
    {
     "name": "stderr",
     "output_type": "stream",
     "text": [
      "18it [00:02,  8.45it/s]"
     ]
    },
    {
     "name": "stdout",
     "output_type": "stream",
     "text": [
      "文件路径:../101.7/101.7-23.wav, 文件名:101.7-23, loss: 0.026938915252685547\n",
      "文件路径:../101.7/101.7-27.wav, 文件名:101.7-27, loss: 0.03009834885597229\n"
     ]
    },
    {
     "name": "stderr",
     "output_type": "stream",
     "text": [
      "\r",
      "19it [00:02,  8.21it/s]"
     ]
    },
    {
     "name": "stdout",
     "output_type": "stream",
     "text": [
      "文件路径:../101.7/101.7-70.wav, 文件名:101.7-70, loss: 0.02542719617486\n",
      "文件路径:../101.7/101.7-74.wav, 文件名:101.7-74, loss: 0.008097791112959385\n"
     ]
    },
    {
     "name": "stderr",
     "output_type": "stream",
     "text": [
      "22it [00:02,  8.62it/s]"
     ]
    },
    {
     "name": "stdout",
     "output_type": "stream",
     "text": [
      "文件路径:../101.7/101.7-78.wav, 文件名:101.7-78, loss: 0.011749176308512688\n",
      "文件路径:../101.7/101.7-110.wav, 文件名:101.7-110, loss: 0.015362410806119442\n"
     ]
    },
    {
     "name": "stderr",
     "output_type": "stream",
     "text": [
      "\r",
      "24it [00:02,  8.96it/s]"
     ]
    },
    {
     "name": "stdout",
     "output_type": "stream",
     "text": [
      "文件路径:../101.7/101.7-20.wav, 文件名:101.7-20, loss: 0.0128115713596344\n",
      "文件路径:../101.7/101.7-84.wav, 文件名:101.7-84, loss: 0.016997674480080605\n"
     ]
    },
    {
     "name": "stderr",
     "output_type": "stream",
     "text": [
      "26it [00:03,  8.87it/s]"
     ]
    },
    {
     "name": "stdout",
     "output_type": "stream",
     "text": [
      "文件路径:../101.7/101.7-88.wav, 文件名:101.7-88, loss: 0.010452250950038433\n",
      "文件路径:../101.7/101.7-82.wav, 文件名:101.7-82, loss: 0.03206854313611984\n"
     ]
    },
    {
     "name": "stderr",
     "output_type": "stream",
     "text": [
      "28it [00:03,  8.82it/s]"
     ]
    },
    {
     "name": "stdout",
     "output_type": "stream",
     "text": [
      "文件路径:../101.7/101.7-18.wav, 文件名:101.7-18, loss: 0.007333224173635244\n",
      "文件路径:../101.7/101.7-92.wav, 文件名:101.7-92, loss: 0.011618776246905327\n"
     ]
    },
    {
     "name": "stderr",
     "output_type": "stream",
     "text": [
      "30it [00:03,  8.65it/s]"
     ]
    },
    {
     "name": "stdout",
     "output_type": "stream",
     "text": [
      "文件路径:../101.7/101.7-31.wav, 文件名:101.7-31, loss: 0.02125818282365799\n",
      "文件路径:../101.7/101.7-48.wav, 文件名:101.7-48, loss: 0.011731859296560287\n"
     ]
    },
    {
     "name": "stderr",
     "output_type": "stream",
     "text": [
      "\r",
      "32it [00:03,  8.81it/s]"
     ]
    },
    {
     "name": "stdout",
     "output_type": "stream",
     "text": [
      "文件路径:../101.7/101.7-17.wav, 文件名:101.7-17, loss: 0.01952303759753704\n",
      "文件路径:../101.7/101.7-86.wav, 文件名:101.7-86, loss: 0.01420547068119049\n"
     ]
    },
    {
     "name": "stderr",
     "output_type": "stream",
     "text": [
      "34it [00:03,  8.68it/s]"
     ]
    },
    {
     "name": "stdout",
     "output_type": "stream",
     "text": [
      "文件路径:../101.7/101.7-42.wav, 文件名:101.7-42, loss: 0.023641904816031456\n",
      "文件路径:../101.7/101.7-121.wav, 文件名:101.7-121, loss: 0.014129400253295898\n"
     ]
    },
    {
     "name": "stderr",
     "output_type": "stream",
     "text": [
      "36it [00:04,  8.35it/s]"
     ]
    },
    {
     "name": "stdout",
     "output_type": "stream",
     "text": [
      "文件路径:../101.7/101.7-14.wav, 文件名:101.7-14, loss: 0.025734972208738327\n",
      "文件路径:../101.7/101.7-91.wav, 文件名:101.7-91, loss: 0.011655772104859352\n"
     ]
    },
    {
     "name": "stderr",
     "output_type": "stream",
     "text": [
      "38it [00:04,  8.52it/s]"
     ]
    },
    {
     "name": "stdout",
     "output_type": "stream",
     "text": [
      "文件路径:../101.7/101.7-96.wav, 文件名:101.7-96, loss: 0.027303708717226982\n",
      "文件路径:../101.7/101.7-37.wav, 文件名:101.7-37, loss: 0.020828653126955032\n"
     ]
    },
    {
     "name": "stderr",
     "output_type": "stream",
     "text": [
      "40it [00:04,  8.35it/s]"
     ]
    },
    {
     "name": "stdout",
     "output_type": "stream",
     "text": [
      "文件路径:../101.7/101.7-60.wav, 文件名:101.7-60, loss: 0.031774554401636124\n",
      "文件路径:../101.7/101.7-123.wav, 文件名:101.7-123, loss: 0.018710771575570107\n"
     ]
    },
    {
     "name": "stderr",
     "output_type": "stream",
     "text": [
      "\r",
      "41it [00:04,  8.70it/s]"
     ]
    },
    {
     "name": "stdout",
     "output_type": "stream",
     "text": [
      "文件路径:../101.7/101.7-102.wav, 文件名:101.7-102, loss: 0.012524334713816643\n",
      "文件路径:../101.7/101.7-9.wav, 文件名:101.7-9, loss: 0.013228598050773144\n",
      "文件路径:../101.7/101.7-120.wav, 文件名:101.7-120, loss: 0.01616336591541767"
     ]
    },
    {
     "name": "stderr",
     "output_type": "stream",
     "text": [
      "44it [00:05,  8.71it/s]"
     ]
    },
    {
     "name": "stdout",
     "output_type": "stream",
     "text": [
      "\n",
      "文件路径:../101.7/101.7-116.wav, 文件名:101.7-116, loss: 0.012773805297911167\n"
     ]
    },
    {
     "name": "stderr",
     "output_type": "stream",
     "text": [
      "\r",
      "45it [00:05,  8.43it/s]"
     ]
    },
    {
     "name": "stdout",
     "output_type": "stream",
     "text": [
      "文件路径:../101.7/101.7-62.wav, 文件名:101.7-62, loss: 0.018885847181081772\n",
      "文件路径:../101.7/101.7-25.wav, 文件名:101.7-25, loss: 0.016704583540558815\n"
     ]
    },
    {
     "name": "stderr",
     "output_type": "stream",
     "text": [
      "48it [00:05,  8.86it/s]"
     ]
    },
    {
     "name": "stdout",
     "output_type": "stream",
     "text": [
      "文件路径:../101.7/101.7-99.wav, 文件名:101.7-99, loss: 0.016049254685640335\n",
      "文件路径:../101.7/101.7-87.wav, 文件名:101.7-87, loss: 0.01799769327044487\n"
     ]
    },
    {
     "name": "stderr",
     "output_type": "stream",
     "text": [
      "50it [00:05,  8.73it/s]"
     ]
    },
    {
     "name": "stdout",
     "output_type": "stream",
     "text": [
      "文件路径:../101.7/101.7-67.wav, 文件名:101.7-67, loss: 0.03262544050812721\n",
      "文件路径:../101.7/101.7-89.wav, 文件名:101.7-89, loss: 0.009287982247769833\n"
     ]
    },
    {
     "name": "stderr",
     "output_type": "stream",
     "text": [
      "52it [00:06,  8.62it/s]"
     ]
    },
    {
     "name": "stdout",
     "output_type": "stream",
     "text": [
      "文件路径:../101.7/101.7-16.wav, 文件名:101.7-16, loss: 0.019263507798314095\n",
      "文件路径:../101.7/101.7-144.wav, 文件名:101.7-144, loss: 0.009689145721495152\n"
     ]
    },
    {
     "name": "stderr",
     "output_type": "stream",
     "text": [
      "54it [00:06,  8.12it/s]"
     ]
    },
    {
     "name": "stdout",
     "output_type": "stream",
     "text": [
      "文件路径:../101.7/101.7-133.wav, 文件名:101.7-133, loss: 0.013328981585800648\n",
      "文件路径:../101.7/101.7-114.wav, 文件名:101.7-114, loss: 0.01833774708211422\n"
     ]
    },
    {
     "name": "stderr",
     "output_type": "stream",
     "text": [
      "\r",
      "55it [00:06,  8.29it/s]"
     ]
    },
    {
     "name": "stdout",
     "output_type": "stream",
     "text": [
      "文件路径:../101.7/101.7-128.wav, 文件名:101.7-128, loss: 0.013660015538334846\n",
      "文件路径:../101.7/101.7-75.wav, 文件名:101.7-75, loss: 0.02054101601243019\n"
     ]
    },
    {
     "name": "stderr",
     "output_type": "stream",
     "text": [
      "58it [00:06,  8.72it/s]"
     ]
    },
    {
     "name": "stdout",
     "output_type": "stream",
     "text": [
      "文件路径:../101.7/101.7-108.wav, 文件名:101.7-108, loss: 0.014877287670969963\n",
      "文件路径:../101.7/101.7-44.wav, 文件名:101.7-44, loss: 0.021256962791085243\n"
     ]
    },
    {
     "name": "stderr",
     "output_type": "stream",
     "text": [
      "\r",
      "60it [00:06,  9.02it/s]"
     ]
    },
    {
     "name": "stdout",
     "output_type": "stream",
     "text": [
      "文件路径:../101.7/101.7-41.wav, 文件名:101.7-41, loss: 0.014346200972795486\n",
      "文件路径:../101.7/101.7-109.wav, 文件名:101.7-109, loss: 0.008557884953916073\n"
     ]
    },
    {
     "name": "stderr",
     "output_type": "stream",
     "text": [
      "\r",
      "62it [00:07,  8.93it/s]"
     ]
    },
    {
     "name": "stdout",
     "output_type": "stream",
     "text": [
      "文件路径:../101.7/101.7-8.wav, 文件名:101.7-8, loss: 0.03694426268339157\n",
      "文件路径:../101.7/101.7-131.wav, 文件名:101.7-131, loss: 0.01379676628857851\n"
     ]
    },
    {
     "name": "stderr",
     "output_type": "stream",
     "text": [
      "64it [00:07,  8.24it/s]"
     ]
    },
    {
     "name": "stdout",
     "output_type": "stream",
     "text": [
      "文件路径:../101.7/101.7-65.wav, 文件名:101.7-65, loss: 0.03054051287472248\n",
      "文件路径:../101.7/101.7-138.wav, 文件名:101.7-138, loss: 0.015421473421156406\n"
     ]
    },
    {
     "name": "stderr",
     "output_type": "stream",
     "text": [
      "\r",
      "65it [00:07,  8.03it/s]"
     ]
    },
    {
     "name": "stdout",
     "output_type": "stream",
     "text": [
      "文件路径:../101.7/101.7-50.wav, 文件名:101.7-50, loss: 0.014463305473327637\n",
      "文件路径:../101.7/101.7.wav, 文件名:101.7, loss: 0.016541391611099243\n"
     ]
    },
    {
     "name": "stderr",
     "output_type": "stream",
     "text": [
      "\r",
      "67it [00:07,  8.30it/s]"
     ]
    },
    {
     "name": "stdout",
     "output_type": "stream",
     "text": [
      "文件路径:../101.7/101.7-115.wav, 文件名:101.7-115, loss: 0.013313226401805878\n",
      "文件路径:../101.7/101.7-6.wav, 文件名:101.7-6, loss: 0.015583371743559837\n",
      "文件路径:../101.7/101.7-97.wav, 文件名:101.7-97, loss: 0.020400624722242355"
     ]
    },
    {
     "name": "stderr",
     "output_type": "stream",
     "text": [
      "70it [00:08,  8.48it/s]"
     ]
    },
    {
     "name": "stdout",
     "output_type": "stream",
     "text": [
      "\n",
      "文件路径:../101.7/101.7-130.wav, 文件名:101.7-130, loss: 0.027967100962996483\n"
     ]
    },
    {
     "name": "stderr",
     "output_type": "stream",
     "text": [
      "72it [00:08,  8.54it/s]"
     ]
    },
    {
     "name": "stdout",
     "output_type": "stream",
     "text": [
      "文件路径:../101.7/101.7-40.wav, 文件名:101.7-40, loss: 0.011192334815859795\n",
      "文件路径:../101.7/101.7-72.wav, 文件名:101.7-72, loss: 0.014181740581989288\n"
     ]
    },
    {
     "name": "stderr",
     "output_type": "stream",
     "text": [
      "74it [00:08,  8.39it/s]"
     ]
    },
    {
     "name": "stdout",
     "output_type": "stream",
     "text": [
      "文件路径:../101.7/101.7-90.wav, 文件名:101.7-90, loss: 0.016609754413366318\n",
      "文件路径:../101.7/101.7-77.wav, 文件名:101.7-77, loss: 0.00962863676249981\n"
     ]
    },
    {
     "name": "stderr",
     "output_type": "stream",
     "text": [
      "76it [00:08,  8.09it/s]"
     ]
    },
    {
     "name": "stdout",
     "output_type": "stream",
     "text": [
      "文件路径:../101.7/101.7-46.wav, 文件名:101.7-46, loss: 0.020797817036509514\n",
      "文件路径:../101.7/101.7-73.wav, 文件名:101.7-73, loss: 0.018094724044203758\n"
     ]
    },
    {
     "name": "stderr",
     "output_type": "stream",
     "text": [
      "\r",
      "78it [00:09,  8.64it/s]"
     ]
    },
    {
     "name": "stdout",
     "output_type": "stream",
     "text": [
      "文件路径:../101.7/101.7-5.wav, 文件名:101.7-5, loss: 0.02362530119717121\n",
      "文件路径:../101.7/101.7-19.wav, 文件名:101.7-19, loss: 0.018951332196593285\n"
     ]
    },
    {
     "name": "stderr",
     "output_type": "stream",
     "text": [
      "80it [00:09,  8.53it/s]"
     ]
    },
    {
     "name": "stdout",
     "output_type": "stream",
     "text": [
      "文件路径:../101.7/101.7-33.wav, 文件名:101.7-33, loss: 0.011599602177739143\n",
      "文件路径:../101.7/101.7-29.wav, 文件名:101.7-29, loss: 0.014769595116376877\n"
     ]
    },
    {
     "name": "stderr",
     "output_type": "stream",
     "text": [
      "82it [00:09,  8.27it/s]"
     ]
    },
    {
     "name": "stdout",
     "output_type": "stream",
     "text": [
      "文件路径:../101.7/101.7-61.wav, 文件名:101.7-61, loss: 0.03818529471755028\n",
      "文件路径:../101.7/101.7-83.wav, 文件名:101.7-83, loss: 0.048788536339998245\n"
     ]
    },
    {
     "name": "stderr",
     "output_type": "stream",
     "text": [
      "\r",
      "83it [00:09,  8.26it/s]"
     ]
    },
    {
     "name": "stdout",
     "output_type": "stream",
     "text": [
      "文件路径:../101.7/101.7-146.wav, 文件名:101.7-146, loss: 0.02001342549920082\n",
      "文件路径:../101.7/101.7-30.wav, 文件名:101.7-30, loss: 0.018847573548555374\n"
     ]
    },
    {
     "name": "stderr",
     "output_type": "stream",
     "text": [
      "86it [00:09,  8.69it/s]"
     ]
    },
    {
     "name": "stdout",
     "output_type": "stream",
     "text": [
      "文件路径:../101.7/101.7-69.wav, 文件名:101.7-69, loss: 0.015847375616431236\n",
      "文件路径:../101.7/101.7-104.wav, 文件名:101.7-104, loss: 0.013191137462854385\n"
     ]
    },
    {
     "name": "stderr",
     "output_type": "stream",
     "text": [
      "\r",
      "87it [00:10,  8.77it/s]"
     ]
    },
    {
     "name": "stdout",
     "output_type": "stream",
     "text": [
      "文件路径:../101.7/101.7-145.wav, 文件名:101.7-145, loss: 0.01664612628519535\n",
      "文件路径:../101.7/101.7-28.wav, 文件名:101.7-28, loss: 0.01794940046966076\n"
     ]
    },
    {
     "name": "stderr",
     "output_type": "stream",
     "text": [
      "\r",
      "89it [00:10,  8.44it/s]"
     ]
    },
    {
     "name": "stdout",
     "output_type": "stream",
     "text": [
      "文件路径:../101.7/101.7-142.wav, 文件名:101.7-142, loss: 0.02181308902800083\n",
      "文件路径:../101.7/101.7-79.wav, 文件名:101.7-79, loss: 0.01476133894175291\n"
     ]
    },
    {
     "name": "stderr",
     "output_type": "stream",
     "text": [
      "92it [00:10,  8.96it/s]"
     ]
    },
    {
     "name": "stdout",
     "output_type": "stream",
     "text": [
      "文件路径:../101.7/101.7-119.wav, 文件名:101.7-119, loss: 0.019811512902379036\n",
      "文件路径:../101.7/101.7-52.wav, 文件名:101.7-52, loss: 0.013597765006124973\n"
     ]
    },
    {
     "name": "stderr",
     "output_type": "stream",
     "text": [
      "94it [00:10,  9.12it/s]"
     ]
    },
    {
     "name": "stdout",
     "output_type": "stream",
     "text": [
      "文件路径:../101.7/101.7-105.wav, 文件名:101.7-105, loss: 0.018366772681474686\n",
      "文件路径:../101.7/101.7-26.wav, 文件名:101.7-26, loss: 0.017158368602395058\n"
     ]
    },
    {
     "name": "stderr",
     "output_type": "stream",
     "text": [
      "\r",
      "95it [00:11,  8.52it/s]"
     ]
    },
    {
     "name": "stdout",
     "output_type": "stream",
     "text": [
      "文件路径:../101.7/101.7-64.wav, 文件名:101.7-64, loss: 0.027898892760276794\n",
      "文件路径:../101.7/101.7-10.wav, 文件名:101.7-10, loss: 0.0184036698192358\n"
     ]
    },
    {
     "name": "stderr",
     "output_type": "stream",
     "text": [
      "98it [00:11,  8.81it/s]"
     ]
    },
    {
     "name": "stdout",
     "output_type": "stream",
     "text": [
      "文件路径:../101.7/101.7-103.wav, 文件名:101.7-103, loss: 0.019448256120085716\n",
      "文件路径:../101.7/101.7-135.wav, 文件名:101.7-135, loss: 0.008761359378695488\n"
     ]
    },
    {
     "name": "stderr",
     "output_type": "stream",
     "text": [
      "101it [00:11, 10.20it/s]"
     ]
    },
    {
     "name": "stdout",
     "output_type": "stream",
     "text": [
      "文件路径:../101.7/101.7-35.wav, 文件名:101.7-35, loss: 0.015496520325541496\n",
      "文件路径:../101.7/101.7-143.wav, 文件名:101.7-143, loss: 0.016454163938760757\n"
     ]
    },
    {
     "name": "stderr",
     "output_type": "stream",
     "text": [
      "\r",
      "103it [00:11, 10.15it/s]"
     ]
    },
    {
     "name": "stdout",
     "output_type": "stream",
     "text": [
      "文件路径:../101.7/101.7-111.wav, 文件名:101.7-111, loss: 0.013610659167170525\n",
      "文件路径:../101.7/101.7-11.wav, 文件名:101.7-11, loss: 0.010194477625191212\n"
     ]
    },
    {
     "name": "stderr",
     "output_type": "stream",
     "text": [
      "\r",
      "105it [00:12,  9.46it/s]"
     ]
    },
    {
     "name": "stdout",
     "output_type": "stream",
     "text": [
      "文件路径:../101.7/101.7-68.wav, 文件名:101.7-68, loss: 0.022024579346179962\n",
      "文件路径:../101.7/101.7-7.wav, 文件名:101.7-7, loss: 0.013494782149791718\n"
     ]
    },
    {
     "name": "stderr",
     "output_type": "stream",
     "text": [
      "107it [00:12,  8.83it/s]"
     ]
    },
    {
     "name": "stdout",
     "output_type": "stream",
     "text": [
      "文件路径:../101.7/101.7-2.wav, 文件名:101.7-2, loss: 0.023827800527215004\n",
      "文件路径:../101.7/101.7-136.wav, 文件名:101.7-136, loss: 0.016051160171628\n"
     ]
    },
    {
     "name": "stderr",
     "output_type": "stream",
     "text": [
      "109it [00:12,  8.50it/s]"
     ]
    },
    {
     "name": "stdout",
     "output_type": "stream",
     "text": [
      "文件路径:../101.7/101.7-55.wav, 文件名:101.7-55, loss: 0.011429384350776672\n",
      "文件路径:../101.7/101.7-57.wav, 文件名:101.7-57, loss: 0.013138622976839542\n"
     ]
    },
    {
     "name": "stderr",
     "output_type": "stream",
     "text": [
      "111it [00:12,  8.45it/s]"
     ]
    },
    {
     "name": "stdout",
     "output_type": "stream",
     "text": [
      "文件路径:../101.7/101.7-63.wav, 文件名:101.7-63, loss: 0.01665620692074299\n",
      "文件路径:../101.7/101.7-107.wav, 文件名:101.7-107, loss: 0.01716170459985733\n"
     ]
    },
    {
     "name": "stderr",
     "output_type": "stream",
     "text": [
      "\r",
      "112it [00:12,  8.18it/s]"
     ]
    },
    {
     "name": "stdout",
     "output_type": "stream",
     "text": [
      "文件路径:../101.7/101.7-134.wav, 文件名:101.7-134, loss: 0.01675364561378956\n",
      "文件路径:../101.7/101.7-94.wav, 文件名:101.7-94, loss: 0.011941349133849144\n"
     ]
    },
    {
     "name": "stderr",
     "output_type": "stream",
     "text": [
      "115it [00:13,  8.86it/s]"
     ]
    },
    {
     "name": "stdout",
     "output_type": "stream",
     "text": [
      "文件路径:../101.7/101.7-132.wav, 文件名:101.7-132, loss: 0.022562434896826744\n",
      "文件路径:../101.7/101.7-36.wav, 文件名:101.7-36, loss: 0.035268545150756836\n"
     ]
    },
    {
     "name": "stderr",
     "output_type": "stream",
     "text": [
      "117it [00:13,  9.15it/s]"
     ]
    },
    {
     "name": "stdout",
     "output_type": "stream",
     "text": [
      "文件路径:../101.7/101.7-32.wav, 文件名:101.7-32, loss: 0.02213859185576439\n",
      "文件路径:../101.7/101.7-106.wav, 文件名:101.7-106, loss: 0.01077903714030981\n"
     ]
    },
    {
     "name": "stderr",
     "output_type": "stream",
     "text": [
      "119it [00:13,  8.31it/s]"
     ]
    },
    {
     "name": "stdout",
     "output_type": "stream",
     "text": [
      "文件路径:../101.7/101.7-59.wav, 文件名:101.7-59, loss: 0.023070409893989563\n",
      "文件路径:../101.7/101.7-126.wav, 文件名:101.7-126, loss: 0.013938131742179394\n"
     ]
    },
    {
     "name": "stderr",
     "output_type": "stream",
     "text": [
      "\r",
      "121it [00:13,  8.70it/s]"
     ]
    },
    {
     "name": "stdout",
     "output_type": "stream",
     "text": [
      "文件路径:../101.7/101.7-13.wav, 文件名:101.7-13, loss: 0.01349392905831337\n",
      "文件路径:../101.7/101.7-124.wav, 文件名:101.7-124, loss: 0.01496096421033144\n"
     ]
    },
    {
     "name": "stderr",
     "output_type": "stream",
     "text": [
      "123it [00:14,  8.67it/s]"
     ]
    },
    {
     "name": "stdout",
     "output_type": "stream",
     "text": [
      "文件路径:../101.7/101.7-47.wav, 文件名:101.7-47, loss: 0.006077243946492672\n",
      "文件路径:../101.7/101.7-127.wav, 文件名:101.7-127, loss: 0.022791415452957153\n"
     ]
    },
    {
     "name": "stderr",
     "output_type": "stream",
     "text": [
      "\r",
      "124it [00:14,  8.31it/s]"
     ]
    },
    {
     "name": "stdout",
     "output_type": "stream",
     "text": [
      "文件路径:../101.7/101.7-147.wav, 文件名:101.7-147, loss: 0.021612316370010376\n",
      "文件路径:../101.7/101.7-15.wav, 文件名:101.7-15, loss: 0.018110835924744606\n"
     ]
    },
    {
     "name": "stderr",
     "output_type": "stream",
     "text": [
      "127it [00:14,  8.63it/s]"
     ]
    },
    {
     "name": "stdout",
     "output_type": "stream",
     "text": [
      "文件路径:../101.7/101.7-76.wav, 文件名:101.7-76, loss: 0.007707037031650543\n",
      "文件路径:../101.7/101.7-49.wav, 文件名:101.7-49, loss: 0.01406213827431202\n"
     ]
    },
    {
     "name": "stderr",
     "output_type": "stream",
     "text": [
      "\r",
      "128it [00:14,  8.66it/s]"
     ]
    },
    {
     "name": "stdout",
     "output_type": "stream",
     "text": [
      "文件路径:../101.7/101.7-81.wav, 文件名:101.7-81, loss: 0.019067307934165\n",
      "文件路径:../101.7/101.7-38.wav, 文件名:101.7-38, loss: 0.018814973533153534\n"
     ]
    },
    {
     "name": "stderr",
     "output_type": "stream",
     "text": [
      "132it [00:15,  9.23it/s]"
     ]
    },
    {
     "name": "stdout",
     "output_type": "stream",
     "text": [
      "文件路径:../101.7/101.7-80.wav, 文件名:101.7-80, loss: 0.025677701458334923\n",
      "文件路径:../101.7/101.7-3.wav, 文件名:101.7-3, loss: 0.023298706859350204\n",
      "文件路径:../101.7/101.7-39.wav, 文件名:101.7-39, loss: 0.010233360342681408\n"
     ]
    },
    {
     "name": "stderr",
     "output_type": "stream",
     "text": [
      "\r",
      "133it [00:15,  9.29it/s]"
     ]
    },
    {
     "name": "stdout",
     "output_type": "stream",
     "text": [
      "文件路径:../101.7/101.7-117.wav, 文件名:101.7-117, loss: 0.024615420028567314\n",
      "文件路径:../101.7/101.7-100.wav, 文件名:101.7-100, loss: 0.017436353489756584\n"
     ]
    },
    {
     "name": "stderr",
     "output_type": "stream",
     "text": [
      "136it [00:15,  8.79it/s]"
     ]
    },
    {
     "name": "stdout",
     "output_type": "stream",
     "text": [
      "文件路径:../101.7/101.7-125.wav, 文件名:101.7-125, loss: 0.011353077366948128\n",
      "文件路径:../101.7/101.7-85.wav, 文件名:101.7-85, loss: 0.017061356455087662\n"
     ]
    },
    {
     "name": "stderr",
     "output_type": "stream",
     "text": [
      "139it [00:15,  9.12it/s]"
     ]
    },
    {
     "name": "stdout",
     "output_type": "stream",
     "text": [
      "文件路径:../101.7/101.7-112.wav, 文件名:101.7-112, loss: 0.010577049106359482\n",
      "文件路径:../101.7/101.7-22.wav, 文件名:101.7-22, loss: 0.017138205468654633\n",
      "文件路径:../101.7/101.7-12.wav, 文件名:101.7-12, loss: 0.016195425763726234\n"
     ]
    },
    {
     "name": "stderr",
     "output_type": "stream",
     "text": [
      "141it [00:16,  8.92it/s]"
     ]
    },
    {
     "name": "stdout",
     "output_type": "stream",
     "text": [
      "文件路径:../101.7/101.7-54.wav, 文件名:101.7-54, loss: 0.01044192723929882\n",
      "文件路径:../101.7/101.7-93.wav, 文件名:101.7-93, loss: 0.011084542609751225\n"
     ]
    },
    {
     "name": "stderr",
     "output_type": "stream",
     "text": [
      "\r",
      "142it [00:16,  8.57it/s]"
     ]
    },
    {
     "name": "stdout",
     "output_type": "stream",
     "text": [
      "文件路径:../101.7/101.7-71.wav, 文件名:101.7-71, loss: 0.014375564642250538\n",
      "文件路径:../101.7/101.7-118.wav, 文件名:101.7-118, loss: 0.01986677385866642\n"
     ]
    },
    {
     "name": "stderr",
     "output_type": "stream",
     "text": [
      "145it [00:16,  8.94it/s]"
     ]
    },
    {
     "name": "stdout",
     "output_type": "stream",
     "text": [
      "文件路径:../101.7/101.7-56.wav, 文件名:101.7-56, loss: 0.011997301131486893\n",
      "文件路径:../101.7/101.7-43.wav, 文件名:101.7-43, loss: 0.016974300146102905\n"
     ]
    },
    {
     "name": "stderr",
     "output_type": "stream",
     "text": [
      "\r",
      "147it [00:16,  9.04it/s]"
     ]
    },
    {
     "name": "stdout",
     "output_type": "stream",
     "text": [
      "文件路径:../101.7/101.7-101.wav, 文件名:101.7-101, loss: 0.012683735229074955\n",
      "文件路径:../101.7/101.7-139.wav, 文件名:101.7-139, loss: 0.010906888172030449\n"
     ]
    },
    {
     "name": "stderr",
     "output_type": "stream",
     "text": [
      "149it [00:16,  8.77it/s]"
     ]
    },
    {
     "name": "stdout",
     "output_type": "stream",
     "text": [
      "文件路径:../101.7/101.7-53.wav, 文件名:101.7-53, loss: 0.01714482344686985\n",
      "文件路径:../101.7/101.7-4.wav, 文件名:101.7-4, loss: 0.015368673950433731\n",
      "Done.\n"
     ]
    },
    {
     "name": "stderr",
     "output_type": "stream",
     "text": [
      "\n"
     ]
    }
   ],
   "source": [
    "model = load_model('autocode_0507.h5')\n",
    "print('model:', model)\n",
    "\n",
    "print(\"Extracting features ...\")\n",
    "tmps = []\n",
    "\n",
    "fm_101_7_scores = []\n",
    "file_101_7_name = {}\n",
    "\n",
    "for i, (raw_file_name, joined_file_path) in tqdm(enumerate(collect_files('../101.7'))):\n",
    "    _, sig = wav.read(joined_file_path)\n",
    "    fea = extract(sig)\n",
    "    feats = normalize_frames(np.array(fea))\n",
    "    loss = model.evaluate(feats.reshape(1,-1), feats.reshape(1,-1), batch_size=1, verbose=0)\n",
    "    fm_101_7_scores.append(loss)\n",
    "    if loss <=0.055:\n",
    "        print(\"文件路径:{}, 文件名:{}, loss: {}\".format(joined_file_path, raw_file_name, loss))\n",
    "        file_101_7_name[raw_file_name]=loss\n",
    "        \n",
    "print(\"Done.\")"
   ]
  },
  {
   "cell_type": "code",
   "execution_count": 49,
   "metadata": {
    "ExecuteTime": {
     "end_time": "2019-05-08T05:34:39.265093Z",
     "start_time": "2019-05-08T05:34:39.261945Z"
    }
   },
   "outputs": [],
   "source": [
    "tmp_fm_101_7_scores= np.array(fm_101_7_scores)\n",
    "\n",
    "tmp_fm_101_7_scores_s=tmp_fm_101_7_scores[tmp_fm_101_7_scores<0.55]"
   ]
  },
  {
   "cell_type": "code",
   "execution_count": 51,
   "metadata": {
    "ExecuteTime": {
     "end_time": "2019-05-08T05:35:14.818082Z",
     "start_time": "2019-05-08T05:35:14.809476Z"
    }
   },
   "outputs": [
    {
     "data": {
      "text/plain": [
       "148"
      ]
     },
     "execution_count": 51,
     "metadata": {},
     "output_type": "execute_result"
    }
   ],
   "source": [
    "len(tmp_fm_101_7_scores_s)"
   ]
  },
  {
   "cell_type": "code",
   "execution_count": 50,
   "metadata": {
    "ExecuteTime": {
     "end_time": "2019-05-08T05:34:46.140615Z",
     "start_time": "2019-05-08T05:34:45.651992Z"
    }
   },
   "outputs": [
    {
     "data": {
      "image/png": "[encoded data removed]",
      "text/plain": [
       "<Figure size 1296x720 with 1 Axes>"
      ]
     },
     "metadata": {
      "needs_background": "light"
     },
     "output_type": "display_data"
    }
   ],
   "source": [
    "plt.figure(figsize=(18,10))\n",
    "plt.hist(np.array(scores), bins=60, normed=0, facecolor=\"blue\", edgecolor=\"black\", alpha=0.7)\n",
    "plt.hist(np.array(noise_scores), bins=60, normed=0, facecolor=\"red\", edgecolor=\"black\", alpha=0.7)\n",
    "plt.hist(np.array(tmp_fm_101_7_scores_s), bins=60, normed=0, facecolor=\"green\", edgecolor=\"black\", alpha=0.5)\n",
    "\n",
    "plt.hist(np.array(fm_87_scores), bins=60, normed=0, facecolor=\"yellow\", edgecolor=\"black\", alpha=0.3)\n",
    "\n",
    "# 显示图标题\n",
    "plt.title(\"频数/频率分布直方图\")\n",
    "plt.show()"
   ]
  },
  {
   "cell_type": "code",
   "execution_count": 52,
   "metadata": {
    "ExecuteTime": {
     "end_time": "2019-05-08T05:44:34.806846Z",
     "start_time": "2019-05-08T05:44:32.917485Z"
    }
   },
   "outputs": [
    {
     "name": "stderr",
     "output_type": "stream",
     "text": [
      "\r",
      "0it [00:00, ?it/s]"
     ]
    },
    {
     "name": "stdout",
     "output_type": "stream",
     "text": [
      "model: <keras.engine.training.Model object at 0x7f90119c66a0>\n",
      "Extracting features ...\n"
     ]
    },
    {
     "name": "stderr",
     "output_type": "stream",
     "text": [
      "\r",
      "1it [00:00,  2.96it/s]"
     ]
    },
    {
     "name": "stdout",
     "output_type": "stream",
     "text": [
      "文件路径:../102.5/102.5MHz.wav, 文件名:102.5MHz, loss: 0.1203848123550415\n",
      "Done.\n"
     ]
    },
    {
     "name": "stderr",
     "output_type": "stream",
     "text": [
      "\n"
     ]
    }
   ],
   "source": [
    "model = load_model('autocode_0507.h5')\n",
    "print('model:', model)\n",
    "\n",
    "print(\"Extracting features ...\")\n",
    "tmps = []\n",
    "\n",
    "fm_101_7_scores = []\n",
    "file_101_7_name = {}\n",
    "\n",
    "for i, (raw_file_name, joined_file_path) in tqdm(enumerate(collect_files('../102.5'))):\n",
    "    _, sig = wav.read(joined_file_path)\n",
    "    fea = extract(sig)\n",
    "    feats = normalize_frames(np.array(fea))\n",
    "    loss = model.evaluate(feats.reshape(1,-1), feats.reshape(1,-1), batch_size=1, verbose=0)\n",
    "    fm_101_7_scores.append(loss)\n",
    "#     if loss <=0.055:\n",
    "    print(\"文件路径:{}, 文件名:{}, loss: {}\".format(joined_file_path, raw_file_name, loss))\n",
    "    file_101_7_name[raw_file_name]=loss\n",
    "        \n",
    "print(\"Done.\")"
   ]
  },
  {
   "cell_type": "markdown",
   "metadata": {},
   "source": [
    "---\n",
    "# 以噪声数据作为训练，以有说话声数据作为测试\n",
    "\n",
    "**【注意：】重复上述步骤，不同之处在于将训练数据和测试数据交换**"
   ]
  },
  {
   "cell_type": "code",
   "execution_count": 39,
   "metadata": {
    "ExecuteTime": {
     "end_time": "2019-05-07T03:18:58.684983Z",
     "start_time": "2019-05-07T03:18:57.359594Z"
    }
   },
   "outputs": [
    {
     "name": "stdout",
     "output_type": "stream",
     "text": [
      "Epoch 1/10\n",
      "334/334 [==============================] - 0s 363us/step - loss: 0.0173\n",
      "Epoch 2/10\n",
      "334/334 [==============================] - 0s 346us/step - loss: 0.0056\n",
      "Epoch 3/10\n",
      "334/334 [==============================] - 0s 325us/step - loss: 0.0053\n",
      "Epoch 4/10\n",
      "334/334 [==============================] - 0s 331us/step - loss: 0.0052\n",
      "Epoch 5/10\n",
      "334/334 [==============================] - 0s 331us/step - loss: 0.0053\n",
      "Epoch 6/10\n",
      "334/334 [==============================] - 0s 343us/step - loss: 0.0052\n",
      "Epoch 7/10\n",
      "334/334 [==============================] - 0s 331us/step - loss: 0.0051\n",
      "Epoch 8/10\n",
      "334/334 [==============================] - 0s 330us/step - loss: 0.0051\n",
      "Epoch 9/10\n",
      "334/334 [==============================] - 0s 350us/step - loss: 0.0050\n",
      "Epoch 10/10\n",
      "334/334 [==============================] - 0s 339us/step - loss: 0.0050\n",
      "测试集损失函数值： 0.00515253807300936\n",
      "[[ 1.4599336   1.5503818   0.7767413  ... -0.2786408  -0.2943708\n",
      "  -0.2949549 ]\n",
      " [ 1.4685991   1.5173404   0.7384685  ... -0.29599574 -0.28913143\n",
      "  -0.2739941 ]\n",
      " [ 1.4636785   1.5572513   0.7654877  ... -0.28117326 -0.27621827\n",
      "  -0.28689405]\n",
      " ...\n",
      " [ 1.4816859   1.5780883   0.7933514  ... -0.28136405 -0.3086768\n",
      "  -0.27569282]\n",
      " [ 1.4610267   1.5869087   0.7988965  ... -0.27490154 -0.29404512\n",
      "  -0.2836171 ]\n",
      " [ 1.4874414   1.5899924   0.79251975 ... -0.28333023 -0.29369554\n",
      "  -0.28101215]]\n"
     ]
    }
   ],
   "source": [
    "# training\n",
    "autoencoder.fit(noise_fe, noise_fe, epochs=10, batch_size=10, shuffle=True)\n",
    "\n",
    "filepath = 'autocode_0507.h5'\n",
    "autoencoder.save(filepath)\n",
    "\n",
    "# plotting\n",
    "loss = autoencoder.evaluate(noise_fe, noise_fe, batch_size=1, verbose=2)\n",
    "print('测试集损失函数值：', loss)\n",
    "decoded_imgs = autoencoder.predict(noise_fe)\n",
    "print(decoded_imgs)"
   ]
  },
  {
   "cell_type": "code",
   "execution_count": 40,
   "metadata": {
    "ExecuteTime": {
     "end_time": "2019-05-07T03:19:39.926117Z",
     "start_time": "2019-05-07T03:19:39.733115Z"
    }
   },
   "outputs": [
    {
     "name": "stdout",
     "output_type": "stream",
     "text": [
      "loss 0.005302530247718096\n",
      "loss 0.005641177296638489\n",
      "loss 0.006763818208128214\n",
      "loss 0.004816441796720028\n",
      "loss 0.005971752572804689\n",
      "loss 0.005134917795658112\n",
      "loss 0.006862388923764229\n",
      "loss 0.006936227437108755\n",
      "loss 0.0034283995628356934\n",
      "loss 0.003919665236026049\n",
      "loss 0.010512681677937508\n",
      "loss 0.0034363793674856424\n",
      "loss 0.006046351511031389\n",
      "loss 0.003855158109217882\n",
      "loss 0.005036135204136372\n",
      "loss 0.005098969209939241\n",
      "loss 0.0039811828173696995\n",
      "loss 0.004129835404455662\n",
      "loss 0.007984868250787258\n",
      "loss 0.005053576081991196\n",
      "loss 0.003773013362661004\n",
      "loss 0.006672649644315243\n",
      "loss 0.007932454347610474\n",
      "loss 0.0042542265728116035\n",
      "loss 0.0032157045789062977\n",
      "loss 0.005454070866107941\n",
      "loss 0.004209902137517929\n",
      "loss 0.005770671647042036\n",
      "loss 0.00455111637711525\n",
      "loss 0.0025018928572535515\n",
      "loss 0.007596881128847599\n",
      "loss 0.005067767109721899\n",
      "loss 0.005321423523128033\n",
      "loss 0.006190894171595573\n",
      "loss 0.004588901065289974\n",
      "loss 0.005828323308378458\n",
      "loss 0.0026442985981702805\n",
      "loss 0.004713956732302904\n",
      "loss 0.00419731205329299\n",
      "loss 0.005890483967959881\n",
      "loss 0.003780270926654339\n",
      "loss 0.004495666362345219\n",
      "loss 0.00668499106541276\n",
      "loss 0.006119110155850649\n",
      "loss 0.004002307541668415\n",
      "loss 0.004263778682798147\n",
      "loss 0.005598424933850765\n",
      "loss 0.005798380821943283\n",
      "loss 0.004459585063159466\n",
      "loss 0.007163067813962698\n",
      "loss 0.005505646113306284\n",
      "loss 0.003110439982265234\n",
      "loss 0.0034450471866875887\n",
      "loss 0.004192626103758812\n",
      "loss 0.004355824552476406\n",
      "loss 0.00790348369628191\n",
      "loss 0.0030870370101183653\n",
      "loss 0.004230106249451637\n",
      "loss 0.0052355811931192875\n",
      "loss 0.0067289043217897415\n",
      "loss 0.004835870582610369\n",
      "loss 0.005804091226309538\n",
      "loss 0.002635334385558963\n",
      "loss 0.0032682199962437153\n",
      "loss 0.0030652834102511406\n",
      "loss 0.004852768033742905\n",
      "loss 0.005947495345026255\n",
      "loss 0.004567532334476709\n",
      "loss 0.004683258011937141\n",
      "loss 0.007519145961850882\n",
      "loss 0.00860227644443512\n",
      "loss 0.006070790346711874\n",
      "loss 0.003955437336117029\n",
      "loss 0.004077286459505558\n",
      "loss 0.0062053329311311245\n",
      "loss 0.004376633558422327\n",
      "loss 0.003958314191550016\n",
      "loss 0.005098393652588129\n",
      "loss 0.010851900093257427\n",
      "loss 0.0044222669675946236\n",
      "loss 0.006798755843192339\n",
      "loss 0.003840271383523941\n",
      "loss 0.004716461058706045\n",
      "loss 0.004890761338174343\n",
      "loss 0.007790079340338707\n",
      "loss 0.004359071142971516\n",
      "loss 0.005381839349865913\n",
      "loss 0.006494966801255941\n",
      "loss 0.007988502271473408\n",
      "loss 0.003957244101911783\n",
      "loss 0.004656914621591568\n",
      "loss 0.004682844504714012\n",
      "loss 0.0033361793030053377\n",
      "loss 0.0045827473513782024\n",
      "loss 0.004639592487365007\n",
      "loss 0.004428369924426079\n",
      "loss 0.004852001555263996\n",
      "loss 0.005439545959234238\n",
      "loss 0.004081451799720526\n",
      "loss 0.004130196291953325\n",
      "loss 0.004328958690166473\n",
      "loss 0.006320293992757797\n",
      "loss 0.004925677087157965\n",
      "loss 0.008338102139532566\n",
      "loss 0.007580618839710951\n",
      "loss 0.0036129362415522337\n",
      "loss 0.005730891600251198\n",
      "loss 0.006697296164929867\n",
      "loss 0.0046460675075650215\n",
      "loss 0.0023182877339422703\n",
      "loss 0.006971362978219986\n",
      "loss 0.004494127351790667\n",
      "loss 0.00300966901704669\n",
      "loss 0.0028384674806147814\n",
      "loss 0.003565742401406169\n",
      "loss 0.003976731561124325\n",
      "loss 0.003798391204327345\n",
      "loss 0.004606673493981361\n",
      "loss 0.004212977364659309\n",
      "loss 0.0039442540146410465\n",
      "loss 0.0037425155751407146\n",
      "loss 0.004428181331604719\n",
      "loss 0.004790052771568298\n",
      "loss 0.005445008631795645\n",
      "loss 0.005199631210416555\n",
      "loss 0.005705716088414192\n",
      "loss 0.005847612861543894\n",
      "loss 0.006600517313927412\n",
      "loss 0.0023174879606813192\n",
      "loss 0.010439623147249222\n",
      "loss 0.005723319016396999\n",
      "loss 0.005524430889636278\n",
      "loss 0.006285055074840784\n",
      "loss 0.004381088539958\n",
      "loss 0.00563820730894804\n",
      "loss 0.004289049655199051\n",
      "loss 0.005252332426607609\n",
      "loss 0.0035488551948219538\n",
      "loss 0.004620090592652559\n",
      "loss 0.004549612756818533\n",
      "loss 0.0038436681497842073\n",
      "loss 0.004407268017530441\n",
      "loss 0.0038696618285030127\n",
      "loss 0.006856204010546207\n",
      "loss 0.00776340626180172\n",
      "loss 0.005451931618154049\n",
      "loss 0.0032245712354779243\n",
      "loss 0.004894719459116459\n",
      "loss 0.005102937109768391\n",
      "loss 0.0047205002047121525\n",
      "loss 0.004142568912357092\n",
      "loss 0.0042977225966751575\n",
      "loss 0.002392101800069213\n",
      "loss 0.0053109582513570786\n",
      "loss 0.002690293826162815\n",
      "loss 0.007201623637229204\n",
      "loss 0.005543575622141361\n",
      "loss 0.0036522739101201296\n",
      "loss 0.007196614518761635\n",
      "loss 0.005853992886841297\n",
      "loss 0.004125981125980616\n",
      "loss 0.004449052270501852\n",
      "loss 0.0038070387672632933\n",
      "loss 0.0032443141099065542\n",
      "loss 0.006259174086153507\n",
      "loss 0.0029443204402923584\n",
      "loss 0.0037227969150990248\n",
      "loss 0.005813005845993757\n",
      "loss 0.006680258549749851\n",
      "loss 0.004325829446315765\n",
      "loss 0.004279799293726683\n",
      "loss 0.006138827186077833\n",
      "loss 0.005170212127268314\n",
      "loss 0.0052049788646399975\n",
      "loss 0.007714512292295694\n",
      "loss 0.006678298581391573\n",
      "loss 0.004074876196682453\n",
      "loss 0.004599637817591429\n",
      "loss 0.006218770053237677\n",
      "loss 0.00785224698483944\n",
      "loss 0.00406007282435894\n",
      "loss 0.00464643444865942\n",
      "loss 0.006567172706127167\n",
      "loss 0.007303651887923479\n",
      "loss 0.005080219823867083\n",
      "loss 0.005211339332163334\n",
      "loss 0.007211141753941774\n",
      "loss 0.0036635887809097767\n",
      "loss 0.004536286927759647\n",
      "loss 0.00825399812310934\n",
      "loss 0.007442906964570284\n",
      "loss 0.00509948655962944\n",
      "loss 0.0038506006821990013\n",
      "loss 0.003924897406250238\n",
      "loss 0.005109168589115143\n",
      "loss 0.005339446943253279\n",
      "loss 0.004370707552880049\n",
      "loss 0.007495274767279625\n",
      "loss 0.004846216645091772\n",
      "loss 0.003897407790645957\n",
      "loss 0.0036600257735699415\n",
      "loss 0.004927248694002628\n",
      "loss 0.0051218741573393345\n",
      "loss 0.003301634220406413\n",
      "loss 0.0032023766543716192\n",
      "loss 0.004761798307299614\n",
      "loss 0.005056458059698343\n",
      "loss 0.005046806298196316\n",
      "loss 0.00459830230101943\n",
      "loss 0.005075886845588684\n",
      "loss 0.004668526351451874\n",
      "loss 0.0045415135100483894\n",
      "loss 0.004416825249791145\n",
      "loss 0.005328226834535599\n",
      "loss 0.00333136017434299\n",
      "loss 0.005881008226424456\n",
      "loss 0.003436896950006485\n",
      "loss 0.005118401721119881\n",
      "loss 0.0039899698458611965\n",
      "loss 0.0035865020472556353\n",
      "loss 0.004428897053003311\n",
      "loss 0.009386262856423855\n",
      "loss 0.006547199562191963\n",
      "loss 0.004946907516568899\n",
      "loss 0.00478843180462718\n",
      "loss 0.003749256720766425\n",
      "loss 0.00620534922927618\n",
      "loss 0.005076523870229721\n",
      "loss 0.003220075974240899\n",
      "loss 0.006066007539629936\n",
      "loss 0.003997402731329203\n",
      "loss 0.004810377024114132\n",
      "loss 0.0031680348329246044\n",
      "loss 0.004804946947842836\n",
      "loss 0.004880908410996199\n",
      "loss 0.006724420934915543\n",
      "loss 0.004163044970482588\n",
      "loss 0.005878172814846039\n",
      "loss 0.005911681801080704\n",
      "loss 0.003731327597051859\n",
      "loss 0.004723170306533575\n",
      "loss 0.004629265982657671\n",
      "loss 0.004650987684726715\n",
      "loss 0.003067642915993929\n",
      "loss 0.00663600442931056\n",
      "loss 0.0043580420315265656\n",
      "loss 0.005481000989675522\n",
      "loss 0.007430782541632652\n",
      "loss 0.00575367221608758\n",
      "loss 0.0054640923626720905\n",
      "loss 0.007040318101644516\n",
      "loss 0.008794265799224377\n",
      "loss 0.005390129052102566\n",
      "loss 0.004315176047384739\n",
      "loss 0.004167268984019756\n",
      "loss 0.0036448652390390635\n",
      "loss 0.003910543862730265\n",
      "loss 0.004737338051199913\n",
      "loss 0.005328591912984848\n",
      "loss 0.0074849724769592285\n",
      "loss 0.006218157708644867\n",
      "loss 0.003945928532630205\n",
      "loss 0.004334481433033943\n",
      "loss 0.0037921934854239225\n",
      "loss 0.005790191702544689\n",
      "loss 0.004174533765763044\n",
      "loss 0.004097294993698597\n",
      "loss 0.0032514750491827726\n",
      "loss 0.0074593243189156055\n",
      "loss 0.006357722915709019\n",
      "loss 0.003676713677123189\n",
      "loss 0.007660767994821072\n",
      "loss 0.005774490535259247\n",
      "loss 0.005954969674348831\n",
      "loss 0.004154588561505079\n",
      "loss 0.006171614862978458\n",
      "loss 0.00428853090852499\n",
      "loss 0.004529766738414764\n",
      "loss 0.004593268968164921\n",
      "loss 0.005147695075720549\n",
      "loss 0.0035962266847491264\n",
      "loss 0.004330569412559271\n",
      "loss 0.005584115162491798\n",
      "loss 0.009435237385332584\n",
      "loss 0.005079615395516157\n",
      "loss 0.006451462395489216\n",
      "loss 0.0035613898653537035\n",
      "loss 0.0038053132593631744\n",
      "loss 0.00473051518201828\n",
      "loss 0.004064904525876045\n",
      "loss 0.004146955907344818\n",
      "loss 0.006859631277620792\n",
      "loss 0.0040846532210707664\n",
      "loss 0.005998793989419937\n",
      "loss 0.0064165592193603516\n",
      "loss 0.0034395139664411545\n",
      "loss 0.007133884355425835\n",
      "loss 0.005780189298093319\n",
      "loss 0.0031482798513025045\n",
      "loss 0.004621936473995447\n",
      "loss 0.0069727967493236065\n",
      "loss 0.007753528654575348\n",
      "loss 0.004563694354146719\n",
      "loss 0.006264061667025089\n",
      "loss 0.00508655421435833\n",
      "loss 0.005016849376261234\n",
      "loss 0.005913846660405397\n",
      "loss 0.003419427899643779\n",
      "loss 0.004022164735943079\n",
      "loss 0.008519107475876808\n",
      "loss 0.004229261074215174\n",
      "loss 0.007409967016428709\n",
      "loss 0.0035984760615974665\n",
      "loss 0.005501524079591036\n",
      "loss 0.006420438177883625\n",
      "loss 0.008475566282868385\n",
      "loss 0.0059296139515936375\n",
      "loss 0.004402162507176399\n",
      "loss 0.006162881851196289\n",
      "loss 0.0073113455437123775\n",
      "loss 0.0052397348918020725\n",
      "loss 0.0039736065082252026\n",
      "loss 0.005206259898841381\n",
      "loss 0.0033341688103973866\n",
      "loss 0.0049928175285458565\n",
      "loss 0.006137544754892588\n",
      "loss 0.007111101411283016\n",
      "loss 0.008763500489294529\n",
      "loss 0.008509566076099873\n",
      "loss 0.001983113819733262\n",
      "loss 0.0030855087097734213\n",
      "loss 0.005967490375041962\n",
      "loss 0.006876825354993343\n",
      "loss 0.00443417951464653\n"
     ]
    }
   ],
   "source": [
    "from tqdm import tqdm\n",
    "\n",
    "scores = []\n",
    "for i in range(noise_fe.shape[0]):\n",
    "    loss = autoencoder.evaluate(noise_fe[i:i+1], noise_fe[i:i+1], batch_size=1, verbose=0)\n",
    "    scores.append(loss)\n",
    "    print('loss', loss)"
   ]
  },
  {
   "cell_type": "code",
   "execution_count": 41,
   "metadata": {
    "ExecuteTime": {
     "end_time": "2019-05-07T03:19:55.559185Z",
     "start_time": "2019-05-07T03:19:55.255616Z"
    }
   },
   "outputs": [
    {
     "data": {
      "image/png": "[encoded data removed]",
      "text/plain": [
       "<Figure size 1296x720 with 1 Axes>"
      ]
     },
     "metadata": {
      "needs_background": "light"
     },
     "output_type": "display_data"
    }
   ],
   "source": [
    "plt.figure(figsize=(18,10))\n",
    "plt.hist(np.array(scores), bins=60, normed=0, facecolor=\"blue\", edgecolor=\"black\", alpha=0.7)\n",
    "# plt.hist(np.array(test_scores)[itemindex_notis], bins=60, normed=0, facecolor=\"red\", edgecolor=\"black\", alpha=0.7)\n",
    "\n",
    "# 显示图标题\n",
    "plt.title(\"频数/频率分布直方图\")\n",
    "plt.show()"
   ]
  },
  {
   "cell_type": "code",
   "execution_count": 42,
   "metadata": {
    "ExecuteTime": {
     "end_time": "2019-05-07T03:20:30.014592Z",
     "start_time": "2019-05-07T03:20:30.007413Z"
    }
   },
   "outputs": [
    {
     "name": "stdout",
     "output_type": "stream",
     "text": [
      "(357, 156)\n"
     ]
    }
   ],
   "source": [
    "speech_fe = load('SPEECH_FEA')\n",
    "\n",
    "# print(speech_fe)\n",
    "\n",
    "print(np.array(speech_fe).shape)\n",
    "\n",
    "speech_fe = np.array(speech_fe)"
   ]
  },
  {
   "cell_type": "code",
   "execution_count": 43,
   "metadata": {
    "ExecuteTime": {
     "end_time": "2019-05-07T03:21:07.750944Z",
     "start_time": "2019-05-07T03:21:07.540648Z"
    }
   },
   "outputs": [
    {
     "name": "stdout",
     "output_type": "stream",
     "text": [
      "loss 0.10750097036361694\n",
      "loss 0.11997967213392258\n",
      "loss 0.0979476124048233\n",
      "loss 0.08926428109407425\n",
      "loss 0.13152611255645752\n",
      "loss 0.10344737768173218\n",
      "loss 0.09446696937084198\n",
      "loss 0.15363582968711853\n",
      "loss 0.15640446543693542\n",
      "loss 0.09123775362968445\n",
      "loss 0.08848904073238373\n",
      "loss 0.07048458606004715\n",
      "loss 0.0739508718252182\n",
      "loss 0.11748676747083664\n",
      "loss 0.11096689105033875\n",
      "loss 0.09309348464012146\n",
      "loss 0.07870776951313019\n",
      "loss 0.17532901465892792\n",
      "loss 0.09473519772291183\n",
      "loss 0.10392455756664276\n",
      "loss 0.09763709455728531\n",
      "loss 0.10547998547554016\n",
      "loss 0.12166094034910202\n",
      "loss 0.19769969582557678\n",
      "loss 0.11239976435899734\n",
      "loss 0.11801868677139282\n",
      "loss 0.1422601044178009\n",
      "loss 0.1639672964811325\n",
      "loss 0.14558546245098114\n",
      "loss 0.13519176840782166\n",
      "loss 0.09964682161808014\n",
      "loss 0.14846213161945343\n",
      "loss 0.10495235025882721\n",
      "loss 0.16254036128520966\n",
      "loss 0.13352340459823608\n",
      "loss 0.13941214978694916\n",
      "loss 0.106388621032238\n",
      "loss 0.07033293694257736\n",
      "loss 0.13813908398151398\n",
      "loss 0.12552836537361145\n",
      "loss 0.10806962847709656\n",
      "loss 0.12898381054401398\n",
      "loss 0.09109088033437729\n",
      "loss 0.11326652765274048\n",
      "loss 0.12046773731708527\n",
      "loss 0.13414619863033295\n",
      "loss 0.12425592541694641\n",
      "loss 0.08899302780628204\n",
      "loss 0.13596226274967194\n",
      "loss 0.12602345645427704\n",
      "loss 0.13933852314949036\n",
      "loss 0.1490422785282135\n",
      "loss 0.1270415037870407\n",
      "loss 0.1259547919034958\n",
      "loss 0.11731245368719101\n",
      "loss 0.14007018506526947\n",
      "loss 0.0983208417892456\n",
      "loss 0.08557181060314178\n",
      "loss 0.10481531172990799\n",
      "loss 0.1052071750164032\n",
      "loss 0.16394154727458954\n",
      "loss 0.0911894366145134\n",
      "loss 0.09506289660930634\n",
      "loss 0.12112562358379364\n",
      "loss 0.11680912226438522\n",
      "loss 0.11428964883089066\n",
      "loss 0.12106670439243317\n",
      "loss 0.12106359750032425\n",
      "loss 0.14112335443496704\n",
      "loss 0.1004546508193016\n",
      "loss 0.11557287722826004\n",
      "loss 0.13648390769958496\n",
      "loss 0.14489558339118958\n",
      "loss 0.08107271790504456\n",
      "loss 0.09386003017425537\n",
      "loss 0.09535344690084457\n",
      "loss 0.0899539664387703\n",
      "loss 0.12461014091968536\n",
      "loss 0.10100310295820236\n",
      "loss 0.1564694046974182\n",
      "loss 0.10069429129362106\n",
      "loss 0.09019267559051514\n",
      "loss 0.16593119502067566\n",
      "loss 0.11222289502620697\n",
      "loss 0.13867606222629547\n",
      "loss 0.11736246198415756\n",
      "loss 0.11187415570020676\n",
      "loss 0.08170035481452942\n",
      "loss 0.16307368874549866\n",
      "loss 0.12176700681447983\n",
      "loss 0.12478343397378922\n",
      "loss 0.11974684149026871\n",
      "loss 0.08181056380271912\n",
      "loss 0.10166481137275696\n",
      "loss 0.1065051481127739\n",
      "loss 0.1047547310590744\n",
      "loss 0.08141505718231201\n",
      "loss 0.11008169502019882\n",
      "loss 0.11337661743164062\n",
      "loss 0.15368559956550598\n",
      "loss 0.10621315240859985\n",
      "loss 0.07372044026851654\n",
      "loss 0.13223496079444885\n",
      "loss 0.1079908013343811\n",
      "loss 0.10428428649902344\n",
      "loss 0.12848277390003204\n",
      "loss 0.10892828553915024\n",
      "loss 0.13167473673820496\n",
      "loss 0.1618080586194992\n",
      "loss 0.14788208901882172\n",
      "loss 0.17713157832622528\n",
      "loss 0.14583051204681396\n",
      "loss 0.11552723497152328\n",
      "loss 0.10686685144901276\n",
      "loss 0.09027884900569916\n",
      "loss 0.1703997105360031\n",
      "loss 0.1341375857591629\n",
      "loss 0.08253686130046844\n",
      "loss 0.1003900095820427\n",
      "loss 0.12108232080936432\n",
      "loss 0.12244600802659988\n",
      "loss 0.095766082406044\n",
      "loss 0.10422872751951218\n",
      "loss 0.12483274936676025\n",
      "loss 0.1136428639292717\n",
      "loss 0.15937259793281555\n",
      "loss 0.11542855948209763\n",
      "loss 0.14018623530864716\n",
      "loss 0.09451723098754883\n",
      "loss 0.10149732977151871\n",
      "loss 0.1095830500125885\n",
      "loss 0.17238448560237885\n",
      "loss 0.13127626478672028\n",
      "loss 0.1560652256011963\n",
      "loss 0.10856103897094727\n",
      "loss 0.11394083499908447\n",
      "loss 0.15027521550655365\n",
      "loss 0.14789065718650818\n",
      "loss 0.11429658532142639\n",
      "loss 0.09394698590040207\n",
      "loss 0.09300802648067474\n",
      "loss 0.11349870264530182\n",
      "loss 0.14150208234786987\n",
      "loss 0.12456660717725754\n",
      "loss 0.14386887848377228\n",
      "loss 0.11649385094642639\n",
      "loss 0.10597292333841324\n",
      "loss 0.1637767255306244\n",
      "loss 0.11385855078697205\n",
      "loss 0.13355815410614014\n",
      "loss 0.13555163145065308\n",
      "loss 0.0940956249833107\n",
      "loss 0.09727377444505692\n",
      "loss 0.11656030267477036\n",
      "loss 0.11320632696151733\n",
      "loss 0.11373119801282883\n",
      "loss 0.06308954209089279\n",
      "loss 0.16245731711387634\n",
      "loss 0.10582895576953888\n",
      "loss 0.09177681803703308\n",
      "loss 0.11452580988407135\n",
      "loss 0.17519906163215637\n",
      "loss 0.07252990454435349\n",
      "loss 0.10666590183973312\n",
      "loss 0.1105678603053093\n",
      "loss 0.11599966138601303\n",
      "loss 0.1845552921295166\n",
      "loss 0.1117376908659935\n",
      "loss 0.11217416822910309\n",
      "loss 0.15547728538513184\n",
      "loss 0.1596304029226303\n",
      "loss 0.12166187167167664\n",
      "loss 0.08497299253940582\n",
      "loss 0.13917939364910126\n",
      "loss 0.13649515807628632\n",
      "loss 0.15094630420207977\n",
      "loss 0.1285913586616516\n",
      "loss 0.14894118905067444\n",
      "loss 0.1110072135925293\n",
      "loss 0.15516503155231476\n",
      "loss 0.12861895561218262\n",
      "loss 0.09944204986095428\n",
      "loss 0.08332730829715729\n",
      "loss 0.08350783586502075\n",
      "loss 0.10141726583242416\n",
      "loss 0.1566656231880188\n",
      "loss 0.10525535047054291\n",
      "loss 0.10386018455028534\n",
      "loss 0.10464877635240555\n",
      "loss 0.10336359590291977\n",
      "loss 0.12719173729419708\n",
      "loss 0.14506150782108307\n",
      "loss 0.14640234410762787\n",
      "loss 0.08899517357349396\n",
      "loss 0.08945945650339127\n",
      "loss 0.09407640248537064\n",
      "loss 0.1105383113026619\n",
      "loss 0.14893291890621185\n",
      "loss 0.09283220767974854\n",
      "loss 0.13152730464935303\n",
      "loss 0.0908222422003746\n",
      "loss 0.11615563929080963\n",
      "loss 0.14279286563396454\n",
      "loss 0.09365301579236984\n",
      "loss 0.1087079867720604\n",
      "loss 0.15730534493923187\n",
      "loss 0.10498802363872528\n",
      "loss 0.1089237779378891\n",
      "loss 0.11285824328660965\n",
      "loss 0.09210500121116638\n",
      "loss 0.16145312786102295\n",
      "loss 0.10885854810476303\n",
      "loss 0.11348351091146469\n",
      "loss 0.113313689827919\n",
      "loss 0.12617720663547516\n",
      "loss 0.09462692588567734\n",
      "loss 0.15305569767951965\n",
      "loss 0.11764142662286758\n",
      "loss 0.12010782212018967\n",
      "loss 0.1985066682100296\n",
      "loss 0.1507706344127655\n",
      "loss 0.08899614214897156\n",
      "loss 0.17099425196647644\n",
      "loss 0.10115028917789459\n",
      "loss 0.16327495872974396\n",
      "loss 0.09943871200084686\n",
      "loss 0.11353790760040283\n",
      "loss 0.1565060317516327\n",
      "loss 0.08899900317192078\n",
      "loss 0.1587727665901184\n",
      "loss 0.16069544851779938\n",
      "loss 0.15736372768878937\n",
      "loss 0.12315834313631058\n",
      "loss 0.07902738451957703\n",
      "loss 0.0890335813164711\n",
      "loss 0.10332448780536652\n",
      "loss 0.1194949522614479\n",
      "loss 0.10096408426761627\n",
      "loss 0.11765073239803314\n",
      "loss 0.11729978024959564\n",
      "loss 0.06490162760019302\n",
      "loss 0.0753031075000763\n",
      "loss 0.11490711569786072\n",
      "loss 0.13965721428394318\n",
      "loss 0.09809958934783936\n",
      "loss 0.09642153233289719\n",
      "loss 0.11224956810474396\n",
      "loss 0.11234639585018158\n",
      "loss 0.1426100730895996\n",
      "loss 0.0706062838435173\n",
      "loss 0.09551208466291428\n",
      "loss 0.08178818970918655\n",
      "loss 0.11371505260467529\n",
      "loss 0.11153382807970047\n",
      "loss 0.10473794490098953\n",
      "loss 0.16778141260147095\n",
      "loss 0.15422533452510834\n",
      "loss 0.05581975728273392\n",
      "loss 0.080008864402771\n",
      "loss 0.11364609003067017\n",
      "loss 0.09853183478116989\n",
      "loss 0.09378727525472641\n",
      "loss 0.09997174143791199\n",
      "loss 0.06609562784433365\n",
      "loss 0.11128570139408112\n",
      "loss 0.1025628000497818\n",
      "loss 0.1331346333026886\n",
      "loss 0.11363763362169266\n",
      "loss 0.1169423833489418\n",
      "loss 0.16797488927841187\n",
      "loss 0.14471258223056793\n",
      "loss 0.09006617218255997\n",
      "loss 0.09531227499246597\n",
      "loss 0.11519277840852737\n",
      "loss 0.10203516483306885\n",
      "loss 0.10112360864877701\n",
      "loss 0.13028199970722198\n",
      "loss 0.12701807916164398\n",
      "loss 0.1027107983827591\n",
      "loss 0.09547466784715652\n",
      "loss 0.14856432378292084\n",
      "loss 0.1304985135793686\n",
      "loss 0.16801407933235168\n",
      "loss 0.10519294440746307\n",
      "loss 0.09684479236602783\n",
      "loss 0.0935758650302887\n",
      "loss 0.11659318953752518\n",
      "loss 0.07711173593997955\n",
      "loss 0.10450296849012375\n",
      "loss 0.08853056281805038\n",
      "loss 0.1300874650478363\n",
      "loss 0.13115347921848297\n",
      "loss 0.098541259765625\n",
      "loss 0.07924769073724747\n",
      "loss 0.13987572491168976\n",
      "loss 0.13735806941986084\n",
      "loss 0.11117174476385117\n",
      "loss 0.12488877773284912\n",
      "loss 0.09030548483133316\n",
      "loss 0.11091724783182144\n",
      "loss 0.10640468448400497\n",
      "loss 0.1256168633699417\n",
      "loss 0.0901898518204689\n",
      "loss 0.12501052021980286\n",
      "loss 0.10789734125137329\n",
      "loss 0.11847034096717834\n",
      "loss 0.1019543707370758\n",
      "loss 0.15831705927848816\n",
      "loss 0.1135256364941597\n",
      "loss 0.09637591987848282\n",
      "loss 0.0760163739323616\n",
      "loss 0.12372966855764389\n",
      "loss 0.12654593586921692\n",
      "loss 0.10270891338586807\n",
      "loss 0.14687535166740417\n",
      "loss 0.14299340546131134\n",
      "loss 0.11676735430955887\n",
      "loss 0.1299142986536026\n",
      "loss 0.12656500935554504\n",
      "loss 0.15298371016979218\n",
      "loss 0.0933568924665451\n",
      "loss 0.14452575147151947\n",
      "loss 0.11447437107563019\n",
      "loss 0.1161450743675232\n",
      "loss 0.10619653761386871\n",
      "loss 0.11548025161027908\n",
      "loss 0.1003299355506897\n",
      "loss 0.08018871396780014\n",
      "loss 0.13507622480392456\n",
      "loss 0.10771817713975906\n",
      "loss 0.14370213449001312\n",
      "loss 0.0833195373415947\n",
      "loss 0.05960848554968834\n",
      "loss 0.11931002140045166\n",
      "loss 0.11473596096038818\n",
      "loss 0.08705001324415207\n",
      "loss 0.10838872939348221\n",
      "loss 0.09396649897098541\n",
      "loss 0.10915281623601913\n",
      "loss 0.09538469463586807\n",
      "loss 0.0958181619644165\n",
      "loss 0.09694653004407883\n",
      "loss 0.12009044736623764\n",
      "loss 0.11631929874420166\n",
      "loss 0.12019163370132446\n",
      "loss 0.11012254655361176\n",
      "loss 0.11106782406568527\n",
      "loss 0.09562698751688004\n",
      "loss 0.1379992514848709\n"
     ]
    },
    {
     "name": "stdout",
     "output_type": "stream",
     "text": [
      "loss 0.11449142545461655\n",
      "loss 0.08202391862869263\n",
      "loss 0.07754773646593094\n",
      "loss 0.08585453033447266\n",
      "loss 0.13152888417243958\n",
      "loss 0.11321321129798889\n",
      "loss 0.11449383199214935\n",
      "loss 0.09186940640211105\n"
     ]
    }
   ],
   "source": [
    "speech_scores = []\n",
    "for i in range(speech_fe.shape[0]):\n",
    "    loss = autoencoder.evaluate(speech_fe[i:i+1], speech_fe[i:i+1], batch_size=1, verbose=0)\n",
    "    speech_scores.append(loss)\n",
    "    print('loss', loss)"
   ]
  },
  {
   "cell_type": "code",
   "execution_count": 46,
   "metadata": {
    "ExecuteTime": {
     "end_time": "2019-05-07T03:22:06.515384Z",
     "start_time": "2019-05-07T03:22:06.121112Z"
    }
   },
   "outputs": [
    {
     "data": {
      "image/png": "[encoded data removed]",
      "text/plain": [
       "<Figure size 1296x720 with 1 Axes>"
      ]
     },
     "metadata": {
      "needs_background": "light"
     },
     "output_type": "display_data"
    }
   ],
   "source": [
    "plt.figure(figsize=(18,10))\n",
    "plt.hist(np.array(scores), bins=60, normed=0, facecolor=\"blue\", edgecolor=\"black\", alpha=0.7)\n",
    "plt.hist(np.array(speech_scores), bins=60, normed=0, facecolor=\"red\", edgecolor=\"black\", alpha=0.7)\n",
    "\n",
    "# 显示图标题\n",
    "plt.title(\"频数/频率分布直方图\")\n",
    "plt.show()"
   ]
  },
  {
   "cell_type": "markdown",
   "metadata": {},
   "source": [
    "---\n",
    "# 用87到108的音频数据测试"
   ]
  },
  {
   "cell_type": "code",
   "execution_count": 47,
   "metadata": {
    "ExecuteTime": {
     "end_time": "2019-05-07T03:25:19.700229Z",
     "start_time": "2019-05-07T03:24:48.411139Z"
    }
   },
   "outputs": [
    {
     "name": "stderr",
     "output_type": "stream",
     "text": [
      "[                                                                        ]   0%\r"
     ]
    },
    {
     "name": "stdout",
     "output_type": "stream",
     "text": [
      "Extracting features ...\n"
     ]
    },
    {
     "name": "stderr",
     "output_type": "stream",
     "text": [
      "[========================================================================] 100%\r"
     ]
    },
    {
     "name": "stdout",
     "output_type": "stream",
     "text": [
      "Done.\n"
     ]
    },
    {
     "name": "stderr",
     "output_type": "stream",
     "text": [
      "\n"
     ]
    }
   ],
   "source": [
    "import progressbar\n",
    "\n",
    "bar = progressbar.ProgressBar(maxval=len(collect_files('../data_fm_424/radioAudio')),\n",
    "                              widgets=[progressbar.Bar('=', '[', ']'), ' ', progressbar.Percentage()])\n",
    "bar.start()\n",
    "print(\"Extracting features ...\")\n",
    "features = []\n",
    "\n",
    "for i, (raw_file_name, joined_file_path) in enumerate(collect_files('../data_fm_424/radioAudio')):\n",
    "    _, sig = wav.read(joined_file_path)\n",
    "    fea = extract(sig)\n",
    "    feats = normalize_frames(np.array(fea))\n",
    "    features.append(feats)\n",
    "    bar.update(i + 1)\n",
    "\n",
    "bar.finish()\n",
    "print(\"Done.\")\n",
    "\n",
    "save(features, 'fm_fea', \".\")"
   ]
  },
  {
   "cell_type": "code",
   "execution_count": 51,
   "metadata": {
    "ExecuteTime": {
     "end_time": "2019-05-07T03:26:34.552600Z",
     "start_time": "2019-05-07T03:26:34.546610Z"
    }
   },
   "outputs": [
    {
     "name": "stdout",
     "output_type": "stream",
     "text": [
      "(211, 156)\n"
     ]
    }
   ],
   "source": [
    "fm_fe = load('fm_fea')\n",
    "\n",
    "print(np.array(fm_fe).shape)\n",
    "\n",
    "fm_fe = np.array(fm_fe)"
   ]
  },
  {
   "cell_type": "code",
   "execution_count": 52,
   "metadata": {
    "ExecuteTime": {
     "end_time": "2019-05-07T03:26:35.515309Z",
     "start_time": "2019-05-07T03:26:35.392736Z"
    }
   },
   "outputs": [
    {
     "name": "stdout",
     "output_type": "stream",
     "text": [
      "loss 0.04476483538746834\n",
      "loss 0.0464886911213398\n",
      "loss 0.04738059639930725\n",
      "loss 0.055219393223524094\n",
      "loss 0.11144540458917618\n",
      "loss 0.15102405846118927\n",
      "loss 0.05063514783978462\n",
      "loss 0.038193002343177795\n",
      "loss 0.048073962330818176\n",
      "loss 0.04587000235915184\n",
      "loss 0.04841231927275658\n",
      "loss 0.051839448511600494\n",
      "loss 0.042625248432159424\n",
      "loss 0.050033118575811386\n",
      "loss 0.056313950568437576\n",
      "loss 0.040464162826538086\n",
      "loss 0.8188708424568176\n",
      "loss 0.2668059468269348\n",
      "loss 0.17014461755752563\n",
      "loss 0.047304973006248474\n",
      "loss 0.04898422583937645\n",
      "loss 0.05041803792119026\n",
      "loss 0.05184570327401161\n",
      "loss 0.05257118493318558\n",
      "loss 0.05262879654765129\n",
      "loss 0.05260411277413368\n",
      "loss 0.038271501660346985\n",
      "loss 0.05111467465758324\n",
      "loss 0.053398482501506805\n",
      "loss 0.09415283799171448\n",
      "loss 0.056241102516651154\n",
      "loss 0.22338630259037018\n",
      "loss 0.06214487925171852\n",
      "loss 0.19126205146312714\n",
      "loss 0.538007378578186\n",
      "loss 0.050530556589365005\n",
      "loss 0.051353443413972855\n",
      "loss 0.1758962869644165\n",
      "loss 0.9856024384498596\n",
      "loss 0.056729670614004135\n",
      "loss 0.04551779106259346\n",
      "loss 0.9332075119018555\n",
      "loss 0.04761885106563568\n",
      "loss 0.04712953791022301\n",
      "loss 0.05123089998960495\n",
      "loss 0.22287222743034363\n",
      "loss 0.042486682534217834\n",
      "loss 0.0392993725836277\n",
      "loss 0.04485185444355011\n",
      "loss 0.04899236932396889\n",
      "loss 0.04892817884683609\n",
      "loss 0.041021909564733505\n",
      "loss 0.5699567794799805\n",
      "loss 0.17341116070747375\n",
      "loss 0.04899558424949646\n",
      "loss 0.05099792778491974\n",
      "loss 0.046268023550510406\n",
      "loss 1.2823519706726074\n",
      "loss 0.04483204334974289\n",
      "loss 1.0757805109024048\n",
      "loss 0.04740532487630844\n",
      "loss 0.05369525030255318\n",
      "loss 0.05222413316369057\n",
      "loss 0.40369531512260437\n",
      "loss 0.04821018502116203\n",
      "loss 0.16365598142147064\n",
      "loss 1.0506840944290161\n",
      "loss 0.17778229713439941\n",
      "loss 0.3034530282020569\n",
      "loss 0.32393917441368103\n",
      "loss 0.05512943118810654\n",
      "loss 0.04576263204216957\n",
      "loss 0.046468496322631836\n",
      "loss 1.082328200340271\n",
      "loss 1.066082239151001\n",
      "loss 0.039228036999702454\n",
      "loss 0.16103288531303406\n",
      "loss 0.19116157293319702\n",
      "loss 0.165391206741333\n",
      "loss 0.050710584968328476\n",
      "loss 0.046791963279247284\n",
      "loss 0.042520299553871155\n",
      "loss 0.2064780443906784\n",
      "loss 0.04274599254131317\n",
      "loss 0.0488729365170002\n",
      "loss 0.04984170198440552\n",
      "loss 0.17960265278816223\n",
      "loss 0.052120503038167953\n",
      "loss 0.05186993628740311\n",
      "loss 0.05326516926288605\n",
      "loss 0.050888027995824814\n",
      "loss 0.04308660700917244\n",
      "loss 0.05142534524202347\n",
      "loss 0.05327915400266647\n",
      "loss 0.044771257787942886\n",
      "loss 0.05083529278635979\n",
      "loss 0.04792427271604538\n",
      "loss 0.0546797476708889\n",
      "loss 0.07423032075166702\n",
      "loss 0.050672922283411026\n",
      "loss 0.6701580882072449\n",
      "loss 0.05376807227730751\n",
      "loss 0.16706912219524384\n",
      "loss 0.05300780013203621\n",
      "loss 0.04890334978699684\n",
      "loss 0.053117770701646805\n",
      "loss 0.9804179668426514\n",
      "loss 0.05286518111824989\n",
      "loss 0.2626672387123108\n",
      "loss 0.05342007800936699\n",
      "loss 0.17376580834388733\n",
      "loss 0.04732850193977356\n",
      "loss 0.24794864654541016\n",
      "loss 0.043305329978466034\n",
      "loss 0.06755068898200989\n",
      "loss 0.04652085527777672\n",
      "loss 0.04903648793697357\n",
      "loss 1.1733112335205078\n",
      "loss 0.12802338600158691\n",
      "loss 0.05251670628786087\n",
      "loss 0.041636496782302856\n",
      "loss 0.051780518144369125\n",
      "loss 0.043096013367176056\n",
      "loss 0.042832016944885254\n",
      "loss 0.05135338753461838\n",
      "loss 0.05201200768351555\n",
      "loss 0.03661355748772621\n",
      "loss 0.047514770179986954\n",
      "loss 1.0738399028778076\n",
      "loss 0.17608071863651276\n",
      "loss 1.1624306440353394\n",
      "loss 1.2115758657455444\n",
      "loss 1.077043890953064\n",
      "loss 0.15793809294700623\n",
      "loss 1.0493242740631104\n",
      "loss 0.05359121039509773\n",
      "loss 0.2210884541273117\n",
      "loss 0.22798919677734375\n",
      "loss 0.2376517951488495\n",
      "loss 0.2260914146900177\n",
      "loss 0.04626306891441345\n",
      "loss 0.2116246521472931\n",
      "loss 0.9567997455596924\n",
      "loss 0.8668530583381653\n",
      "loss 0.05408937484025955\n",
      "loss 0.031227627769112587\n",
      "loss 0.05138643458485603\n",
      "loss 0.20238818228244781\n",
      "loss 0.057622287422418594\n",
      "loss 0.03804416581988335\n",
      "loss 0.052592985332012177\n",
      "loss 0.1724410355091095\n",
      "loss 0.13678430020809174\n",
      "loss 0.04834498465061188\n",
      "loss 0.14601774513721466\n",
      "loss 0.05259145051240921\n",
      "loss 0.165896475315094\n",
      "loss 0.04926326870918274\n",
      "loss 0.920583963394165\n",
      "loss 0.2323305457830429\n",
      "loss 0.16042686998844147\n",
      "loss 0.1806597113609314\n",
      "loss 0.19289767742156982\n",
      "loss 0.05173557996749878\n",
      "loss 0.045830972492694855\n",
      "loss 0.0358782596886158\n",
      "loss 0.04940490052103996\n",
      "loss 0.1582338809967041\n",
      "loss 0.14978480339050293\n",
      "loss 0.05172184854745865\n",
      "loss 0.05208783969283104\n",
      "loss 0.17885556817054749\n",
      "loss 0.05303521081805229\n",
      "loss 0.05002594739198685\n",
      "loss 0.04669027030467987\n",
      "loss 0.05413900315761566\n",
      "loss 0.21374653279781342\n",
      "loss 0.04662028327584267\n",
      "loss 0.17587828636169434\n",
      "loss 0.05388156697154045\n",
      "loss 0.8808832168579102\n",
      "loss 0.05009866878390312\n",
      "loss 0.0456538088619709\n",
      "loss 0.03871918469667435\n",
      "loss 0.0491606630384922\n",
      "loss 0.03950944170355797\n",
      "loss 0.2544846534729004\n",
      "loss 0.04319475591182709\n",
      "loss 0.05239947512745857\n",
      "loss 0.04792862385511398\n",
      "loss 0.04368159547448158\n",
      "loss 0.054774705320596695\n",
      "loss 0.05119410902261734\n",
      "loss 0.05959976464509964\n",
      "loss 0.18180692195892334\n",
      "loss 0.0518714115023613\n",
      "loss 0.050371211022138596\n",
      "loss 0.04448883235454559\n",
      "loss 0.05358392000198364\n",
      "loss 0.048847753554582596\n",
      "loss 0.05196589604020119\n",
      "loss 0.05182763934135437\n",
      "loss 0.0436573289334774\n",
      "loss 1.086738109588623\n",
      "loss 0.05098414048552513\n",
      "loss 0.04671938344836235\n",
      "loss 0.05315668135881424\n",
      "loss 0.04842983931303024\n",
      "loss 0.29039466381073\n",
      "loss 0.04585907235741615\n",
      "loss 0.1355137974023819\n"
     ]
    }
   ],
   "source": [
    "fm_scores = []\n",
    "\n",
    "for i in range(fm_fe.shape[0]):\n",
    "    loss = autoencoder.evaluate(fm_fe[i:i+1], fm_fe[i:i+1], batch_size=1, verbose=0)\n",
    "    fm_scores.append(loss)\n",
    "    print('loss', loss)"
   ]
  },
  {
   "cell_type": "code",
   "execution_count": 55,
   "metadata": {
    "ExecuteTime": {
     "end_time": "2019-05-07T03:28:10.649042Z",
     "start_time": "2019-05-07T03:28:10.219781Z"
    }
   },
   "outputs": [
    {
     "data": {
      "image/png": "[encoded data removed]",
      "text/plain": [
       "<Figure size 1296x720 with 1 Axes>"
      ]
     },
     "metadata": {
      "needs_background": "light"
     },
     "output_type": "display_data"
    }
   ],
   "source": [
    "plt.figure(figsize=(18,10))\n",
    "plt.hist(np.array(scores), bins=60, normed=0, facecolor=\"blue\", edgecolor=\"black\", alpha=0.7)\n",
    "plt.hist(np.array(speech_scores), bins=60, normed=0, facecolor=\"red\", edgecolor=\"black\", alpha=0.7)\n",
    "plt.hist(np.array(fm_scores), bins=60, normed=0, facecolor=\"green\", edgecolor=\"black\", alpha=0.5)\n",
    "\n",
    "# 显示图标题\n",
    "plt.title(\"频数/频率分布直方图\")\n",
    "plt.show()"
   ]
  },
  {
   "cell_type": "markdown",
   "metadata": {},
   "source": [
    "---\n",
    "# 一条音频一天音频地加载\n",
    "\n",
    "**输出对应的文件名和得分**"
   ]
  },
  {
   "cell_type": "code",
   "execution_count": 29,
   "metadata": {
    "ExecuteTime": {
     "end_time": "2019-05-07T04:27:19.307412Z",
     "start_time": "2019-05-07T04:27:19.161651Z"
    }
   },
   "outputs": [
    {
     "name": "stderr",
     "output_type": "stream",
     "text": [
      "\r",
      "0it [00:00, ?it/s]"
     ]
    },
    {
     "name": "stdout",
     "output_type": "stream",
     "text": [
      "Extracting features ...\n",
      "88.0MHz ../data_fm_424/radioAudio/88.0MHz.wav\n",
      "Done.\n"
     ]
    },
    {
     "name": "stderr",
     "output_type": "stream",
     "text": [
      "\n"
     ]
    }
   ],
   "source": [
    "from tqdm import tqdm\n",
    "\n",
    "print(\"Extracting features ...\")\n",
    "tmps = []\n",
    "\n",
    "tmps_fm_scores = []\n",
    "\n",
    "for i, (raw_file_name, joined_file_path) in tqdm(enumerate(collect_files('../data_fm_424/radioAudio'))):\n",
    "    _, sig = wav.read(joined_file_path)\n",
    "    fea = extract(sig)\n",
    "    feats = normalize_frames(np.array(fea))\n",
    "    loss = autoencoder.evaluate(feats.reshape(1,-1), feats.reshape(1,-1), batch_size=1, verbose=0)\n",
    "    tmps_fm_scores.append(loss)\n",
    "    if loss <=0.045:\n",
    "        print(\"文件路径:{}, 文件名:{}, loss: {}\".format(joined_file_path, raw_file_name, loss))\n",
    "\n",
    "print(\"Done.\")"
   ]
  },
  {
   "cell_type": "markdown",
   "metadata": {},
   "source": [
    "# "
   ]
  },
  {
   "cell_type": "code",
   "execution_count": 57,
   "metadata": {
    "ExecuteTime": {
     "end_time": "2019-05-08T07:07:54.919945Z",
     "start_time": "2019-05-08T07:06:57.370304Z"
    }
   },
   "outputs": [
    {
     "name": "stderr",
     "output_type": "stream",
     "text": [
      "[                                                                        ]   0%\r"
     ]
    },
    {
     "name": "stdout",
     "output_type": "stream",
     "text": [
      "Extracting features ...\n"
     ]
    },
    {
     "name": "stderr",
     "output_type": "stream",
     "text": [
      "[========================================================================] 100%\r"
     ]
    },
    {
     "name": "stdout",
     "output_type": "stream",
     "text": [
      "Done.\n"
     ]
    },
    {
     "name": "stderr",
     "output_type": "stream",
     "text": [
      "\n"
     ]
    }
   ],
   "source": [
    "import progressbar\n",
    "\n",
    "bar = progressbar.ProgressBar(maxval=len(collect_files('../nosie_0508/train')),\n",
    "                              widgets=[progressbar.Bar('=', '[', ']'), ' ', progressbar.Percentage()])\n",
    "bar.start()\n",
    "print(\"Extracting features ...\")\n",
    "features = []\n",
    "\n",
    "for i, (raw_file_name, joined_file_path) in enumerate(collect_files('../nosie_0508/train')):\n",
    "    _, sig = wav.read(joined_file_path)\n",
    "    fea = extract(sig)\n",
    "    feats = normalize_frames(np.array(fea))\n",
    "    features.append(feats)\n",
    "    bar.update(i + 1)\n",
    "\n",
    "bar.finish()\n",
    "print(\"Done.\")\n",
    "\n",
    "save(features, 'NOISE_0508_fea', \".\")"
   ]
  },
  {
   "cell_type": "code",
   "execution_count": 58,
   "metadata": {
    "ExecuteTime": {
     "end_time": "2019-05-08T07:09:29.198824Z",
     "start_time": "2019-05-08T07:09:29.194155Z"
    }
   },
   "outputs": [
    {
     "name": "stdout",
     "output_type": "stream",
     "text": [
      "(621, 156)\n"
     ]
    }
   ],
   "source": [
    "noise_0508_fe = load('NOISE_0508_fea')\n",
    "\n",
    "print(np.array(noise_0508_fe).shape)\n",
    "\n",
    "noise_0508_fe = np.array(noise_0508_fe)"
   ]
  },
  {
   "cell_type": "code",
   "execution_count": 59,
   "metadata": {
    "ExecuteTime": {
     "end_time": "2019-05-08T07:10:10.864197Z",
     "start_time": "2019-05-08T07:10:07.776301Z"
    }
   },
   "outputs": [
    {
     "name": "stdout",
     "output_type": "stream",
     "text": [
      "Epoch 1/10\n",
      "621/621 [==============================] - 0s 416us/step - loss: 0.0139\n",
      "Epoch 2/10\n",
      "621/621 [==============================] - 0s 354us/step - loss: 0.0056\n",
      "Epoch 3/10\n",
      "621/621 [==============================] - 0s 356us/step - loss: 0.0054\n",
      "Epoch 4/10\n",
      "621/621 [==============================] - 0s 371us/step - loss: 0.0053\n",
      "Epoch 5/10\n",
      "621/621 [==============================] - 0s 388us/step - loss: 0.0052\n",
      "Epoch 6/10\n",
      "621/621 [==============================] - 0s 367us/step - loss: 0.0051\n",
      "Epoch 7/10\n",
      "621/621 [==============================] - 0s 349us/step - loss: 0.0049\n",
      "Epoch 8/10\n",
      "621/621 [==============================] - 0s 351us/step - loss: 0.0049\n",
      "Epoch 9/10\n",
      "621/621 [==============================] - 0s 352us/step - loss: 0.0048\n",
      "Epoch 10/10\n",
      "621/621 [==============================] - 0s 375us/step - loss: 0.0047\n",
      "测试集损失函数值： 0.004657503825780334\n",
      "[[ 0.91030455  1.4125906   0.3612656  ... -0.2331432  -0.22142406\n",
      "  -0.23302558]\n",
      " [ 0.87573975  1.3826294   0.25922582 ... -0.20093828 -0.22850713\n",
      "  -0.24394713]\n",
      " [ 0.88243425  1.4067425   0.30771613 ... -0.24580042 -0.2381345\n",
      "  -0.22139966]\n",
      " ...\n",
      " [ 0.88593745  1.4015522   0.2619656  ... -0.20043248 -0.22229503\n",
      "  -0.22914171]\n",
      " [ 0.8923653   1.408549    0.29063419 ... -0.21209095 -0.2299522\n",
      "  -0.22437692]\n",
      " [ 0.8904452   1.4194329   0.28589442 ... -0.20794074 -0.1934809\n",
      "  -0.2562984 ]]\n"
     ]
    }
   ],
   "source": [
    "# training\n",
    "autoencoder.fit(noise_0508_fe, noise_0508_fe, epochs=10, batch_size=10, shuffle=True)\n",
    "\n",
    "filepath = 'autocode_0507.h5'\n",
    "autoencoder.save(filepath)\n",
    "\n",
    "# plotting\n",
    "loss = autoencoder.evaluate(noise_0508_fe, noise_0508_fe, batch_size=1, verbose=2)\n",
    "print('测试集损失函数值：', loss)\n",
    "decoded_imgs = autoencoder.predict(noise_0508_fe)\n",
    "print(decoded_imgs)"
   ]
  },
  {
   "cell_type": "code",
   "execution_count": 60,
   "metadata": {
    "ExecuteTime": {
     "end_time": "2019-05-08T07:10:58.418381Z",
     "start_time": "2019-05-08T07:10:58.056595Z"
    }
   },
   "outputs": [
    {
     "name": "stdout",
     "output_type": "stream",
     "text": [
      "loss 0.00538501376286149\n",
      "loss 0.003692004131153226\n",
      "loss 0.007362694945186377\n",
      "loss 0.0029913100879639387\n",
      "loss 0.002590617397800088\n",
      "loss 0.005611713510006666\n",
      "loss 0.009102736599743366\n",
      "loss 0.002715183887630701\n",
      "loss 0.0038435000460594893\n",
      "loss 0.0044237347319722176\n",
      "loss 0.0022620621602982283\n",
      "loss 0.003914892207831144\n",
      "loss 0.0032166813034564257\n",
      "loss 0.007529530208557844\n",
      "loss 0.005483279470354319\n",
      "loss 0.0031832472886890173\n",
      "loss 0.005407434888184071\n",
      "loss 0.004595561884343624\n",
      "loss 0.004408349748700857\n",
      "loss 0.003770835930481553\n",
      "loss 0.0037247431464493275\n",
      "loss 0.0026520234532654285\n",
      "loss 0.004577308893203735\n",
      "loss 0.004036122467368841\n",
      "loss 0.004854714497923851\n",
      "loss 0.0049291071482002735\n",
      "loss 0.003676289226859808\n",
      "loss 0.0030726895201951265\n",
      "loss 0.004517987836152315\n",
      "loss 0.0045930733904242516\n",
      "loss 0.0029514252673834562\n",
      "loss 0.006325057242065668\n",
      "loss 0.004821194801479578\n",
      "loss 0.005686795338988304\n",
      "loss 0.00395584013313055\n",
      "loss 0.004406804218888283\n",
      "loss 0.005257883109152317\n",
      "loss 0.009895799681544304\n",
      "loss 0.004955657757818699\n",
      "loss 0.0048194145783782005\n",
      "loss 0.004042383749037981\n",
      "loss 0.0032054453622549772\n",
      "loss 0.004861068446189165\n",
      "loss 0.006410646717995405\n",
      "loss 0.004250327590852976\n",
      "loss 0.0040126885287463665\n",
      "loss 0.004436175338923931\n",
      "loss 0.004581742454320192\n",
      "loss 0.0023487405851483345\n",
      "loss 0.002987067447975278\n",
      "loss 0.004793550819158554\n",
      "loss 0.0036763185635209084\n",
      "loss 0.0034259557723999023\n",
      "loss 0.0035468577407300472\n",
      "loss 0.005607090890407562\n",
      "loss 0.004703709855675697\n",
      "loss 0.003462364198639989\n",
      "loss 0.003150861244648695\n",
      "loss 0.0037172334268689156\n",
      "loss 0.003910484258085489\n",
      "loss 0.005232296884059906\n",
      "loss 0.003875172697007656\n",
      "loss 0.003920939285308123\n",
      "loss 0.0043053277768194675\n",
      "loss 0.0030783878173679113\n",
      "loss 0.0024689838755875826\n",
      "loss 0.005463758949190378\n",
      "loss 0.0032085280399769545\n",
      "loss 0.005942305084317923\n",
      "loss 0.00471468036994338\n",
      "loss 0.0038120613899081945\n",
      "loss 0.004378228913992643\n",
      "loss 0.002550584962591529\n",
      "loss 0.0034271872136741877\n",
      "loss 0.004651904106140137\n",
      "loss 0.006505184341222048\n",
      "loss 0.005723556037992239\n",
      "loss 0.004729838576167822\n",
      "loss 0.0068567111156880856\n",
      "loss 0.0038752590771764517\n",
      "loss 0.0037945180665701628\n",
      "loss 0.0050303698517382145\n",
      "loss 0.004058360122144222\n",
      "loss 0.0024025095626711845\n",
      "loss 0.003991117235273123\n",
      "loss 0.00438494561240077\n",
      "loss 0.006102462764829397\n",
      "loss 0.003886047750711441\n",
      "loss 0.0033319462090730667\n",
      "loss 0.003380547044798732\n",
      "loss 0.003517533652484417\n",
      "loss 0.005923773627728224\n",
      "loss 0.0042230975814163685\n",
      "loss 0.00221431627869606\n",
      "loss 0.0030450255144387484\n",
      "loss 0.0031978716142475605\n",
      "loss 0.00435715913772583\n",
      "loss 0.003889692947268486\n",
      "loss 0.006526826415210962\n",
      "loss 0.0037669879384338856\n",
      "loss 0.004599336069077253\n",
      "loss 0.0039603314362466335\n",
      "loss 0.006335739511996508\n",
      "loss 0.00328469998203218\n",
      "loss 0.005639779847115278\n",
      "loss 0.0047828638926148415\n",
      "loss 0.0059949858114123344\n",
      "loss 0.005643855314701796\n",
      "loss 0.003367908066138625\n",
      "loss 0.0046001458540558815\n",
      "loss 0.003822069615125656\n",
      "loss 0.0033459209371358156\n",
      "loss 0.004210791550576687\n",
      "loss 0.00297136465087533\n",
      "loss 0.002944494131952524\n",
      "loss 0.0064965104684233665\n",
      "loss 0.0025875477585941553\n",
      "loss 0.004659104160964489\n",
      "loss 0.009307912550866604\n",
      "loss 0.0034414769615978003\n",
      "loss 0.004945564549416304\n",
      "loss 0.0033663969952613115\n",
      "loss 0.00476061413064599\n",
      "loss 0.0031698797829449177\n",
      "loss 0.0050545926205813885\n",
      "loss 0.006288813892751932\n",
      "loss 0.004163993988186121\n",
      "loss 0.0026773049030452967\n",
      "loss 0.003682103008031845\n",
      "loss 0.005219804588705301\n",
      "loss 0.00583591079339385\n",
      "loss 0.004796430468559265\n",
      "loss 0.00638537434861064\n",
      "loss 0.003008753526955843\n",
      "loss 0.0032760740723460913\n",
      "loss 0.006001377012580633\n",
      "loss 0.002660792786628008\n",
      "loss 0.004419012926518917\n",
      "loss 0.003640174400061369\n",
      "loss 0.01018532644957304\n",
      "loss 0.009350855834782124\n",
      "loss 0.00443363469094038\n",
      "loss 0.0041207256726920605\n",
      "loss 0.006401382386684418\n",
      "loss 0.004114944487810135\n",
      "loss 0.0026902651879936457\n",
      "loss 0.00832759216427803\n",
      "loss 0.00601421482861042\n",
      "loss 0.008464074693620205\n",
      "loss 0.004366188310086727\n",
      "loss 0.004820349160581827\n",
      "loss 0.00393083319067955\n",
      "loss 0.005405482370406389\n",
      "loss 0.006286151707172394\n",
      "loss 0.004441254306584597\n",
      "loss 0.0022329820785671473\n",
      "loss 0.006133124232292175\n",
      "loss 0.003210039809346199\n",
      "loss 0.007272727321833372\n",
      "loss 0.0030201354529708624\n",
      "loss 0.004779312293976545\n",
      "loss 0.004360246937721968\n",
      "loss 0.008564702235162258\n",
      "loss 0.0038761217147111893\n",
      "loss 0.0028175227344036102\n",
      "loss 0.0034616095945239067\n",
      "loss 0.003104160539805889\n",
      "loss 0.002737713512033224\n",
      "loss 0.005991233047097921\n",
      "loss 0.004567775409668684\n",
      "loss 0.004880519583821297\n",
      "loss 0.002762404503300786\n",
      "loss 0.007358023896813393\n",
      "loss 0.007254616357386112\n",
      "loss 0.00461237458512187\n",
      "loss 0.003931066486984491\n",
      "loss 0.005804366897791624\n",
      "loss 0.0037299550604075193\n",
      "loss 0.005138631444424391\n",
      "loss 0.005634027067571878\n",
      "loss 0.004880037158727646\n",
      "loss 0.0032965620048344135\n",
      "loss 0.007049695122987032\n",
      "loss 0.002945060608908534\n",
      "loss 0.0035905134864151478\n",
      "loss 0.004084371030330658\n",
      "loss 0.0036012190394103527\n",
      "loss 0.00617202976718545\n",
      "loss 0.006232994142919779\n",
      "loss 0.004242977127432823\n",
      "loss 0.004610094241797924\n",
      "loss 0.004841297399252653\n",
      "loss 0.004626331385225058\n",
      "loss 0.005602697841823101\n",
      "loss 0.005107526667416096\n",
      "loss 0.0037034328561276197\n",
      "loss 0.006314278580248356\n",
      "loss 0.004856977146118879\n",
      "loss 0.003330289153382182\n",
      "loss 0.00549835991114378\n",
      "loss 0.004171136766672134\n",
      "loss 0.004085780121386051\n",
      "loss 0.008734122850000858\n",
      "loss 0.0028056183364242315\n",
      "loss 0.0037544327788054943\n",
      "loss 0.005400464870035648\n",
      "loss 0.003149373922497034\n",
      "loss 0.002910028910264373\n",
      "loss 0.0052251191809773445\n",
      "loss 0.002842724323272705\n",
      "loss 0.003888186300173402\n",
      "loss 0.004473749548196793\n",
      "loss 0.005786336492747068\n",
      "loss 0.0027642895001918077\n",
      "loss 0.0053537506610155106\n",
      "loss 0.0035866128746420145\n",
      "loss 0.003672380466014147\n",
      "loss 0.002667570486664772\n",
      "loss 0.005030193831771612\n",
      "loss 0.00437723845243454\n",
      "loss 0.004315139260143042\n",
      "loss 0.004297581035643816\n",
      "loss 0.005376170855015516\n",
      "loss 0.00386280776001513\n",
      "loss 0.0074347518384456635\n",
      "loss 0.005125838331878185\n",
      "loss 0.003407401265576482\n",
      "loss 0.005958458874374628\n",
      "loss 0.0040529766120016575\n",
      "loss 0.003107427852228284\n",
      "loss 0.0028018509037792683\n",
      "loss 0.005715382285416126\n",
      "loss 0.0039081452414393425\n",
      "loss 0.003415618557482958\n",
      "loss 0.009495435282588005\n",
      "loss 0.003703861264511943\n",
      "loss 0.00537433847784996\n",
      "loss 0.0034415824338793755\n",
      "loss 0.004819519817829132\n",
      "loss 0.003976913169026375\n",
      "loss 0.0032806396484375\n",
      "loss 0.0056682429276406765\n",
      "loss 0.008312026970088482\n",
      "loss 0.004675716627389193\n",
      "loss 0.006066214293241501\n",
      "loss 0.0034494518768042326\n",
      "loss 0.0037912148982286453\n",
      "loss 0.0035793655551970005\n",
      "loss 0.005969759542495012\n",
      "loss 0.0038228612393140793\n",
      "loss 0.00847210455685854\n",
      "loss 0.005076592322438955\n",
      "loss 0.003089142730459571\n",
      "loss 0.004394266288727522\n",
      "loss 0.007911215536296368\n",
      "loss 0.005190725438296795\n",
      "loss 0.004434405360370874\n",
      "loss 0.0036770354490727186\n",
      "loss 0.006441172678023577\n",
      "loss 0.005026227794587612\n",
      "loss 0.0029137064702808857\n",
      "loss 0.003167081158608198\n",
      "loss 0.006587611511349678\n",
      "loss 0.005440516863018274\n",
      "loss 0.0050339652225375175\n",
      "loss 0.004154816269874573\n",
      "loss 0.0037203903775662184\n",
      "loss 0.004247813951224089\n",
      "loss 0.003981189802289009\n",
      "loss 0.007675115019083023\n",
      "loss 0.004967032000422478\n",
      "loss 0.003460353473201394\n",
      "loss 0.009507715702056885\n",
      "loss 0.0027797422371804714\n",
      "loss 0.005727758165448904\n",
      "loss 0.004473223350942135\n",
      "loss 0.003434595884755254\n",
      "loss 0.0035786808002740145\n",
      "loss 0.0035302089527249336\n",
      "loss 0.004717977251857519\n",
      "loss 0.004926147870719433\n",
      "loss 0.0036661457270383835\n",
      "loss 0.0072638727724552155\n",
      "loss 0.004101888742297888\n",
      "loss 0.004790238570421934\n",
      "loss 0.0024302529636770487\n",
      "loss 0.0029204918537288904\n",
      "loss 0.0053551336750388145\n",
      "loss 0.002670830115675926\n",
      "loss 0.004229672718793154\n",
      "loss 0.004216838628053665\n",
      "loss 0.0038001632783561945\n",
      "loss 0.004464203026145697\n",
      "loss 0.0046686530113220215\n",
      "loss 0.005659621674567461\n",
      "loss 0.0026108496822416782\n",
      "loss 0.0049208360724151134\n",
      "loss 0.004677899647504091\n",
      "loss 0.005680362228304148\n",
      "loss 0.0060385409742593765\n",
      "loss 0.006652500480413437\n",
      "loss 0.0032245926558971405\n",
      "loss 0.005167769733816385\n",
      "loss 0.00507240928709507\n",
      "loss 0.004107437562197447\n",
      "loss 0.0052587613463401794\n",
      "loss 0.004751152824610472\n",
      "loss 0.006247417069971561\n",
      "loss 0.005174205172806978\n",
      "loss 0.0062671806663274765\n",
      "loss 0.004574235528707504\n",
      "loss 0.00856964010745287\n",
      "loss 0.004106738604605198\n",
      "loss 0.0038534742780029774\n",
      "loss 0.004665718879550695\n",
      "loss 0.005419769790023565\n",
      "loss 0.0058804904110729694\n",
      "loss 0.0044158268719911575\n",
      "loss 0.003866679733619094\n",
      "loss 0.004898221231997013\n",
      "loss 0.004282735288143158\n",
      "loss 0.004887047689408064\n",
      "loss 0.003918057307600975\n",
      "loss 0.0025977836921811104\n",
      "loss 0.004008818417787552\n",
      "loss 0.002612267853692174\n",
      "loss 0.003250408684834838\n",
      "loss 0.004215485882014036\n",
      "loss 0.003491029143333435\n",
      "loss 0.0033034305088222027\n",
      "loss 0.0027490975335240364\n",
      "loss 0.0039367880672216415\n",
      "loss 0.0066556502133607864\n",
      "loss 0.0035402507055550814\n",
      "loss 0.005858719348907471\n",
      "loss 0.00399894081056118\n",
      "loss 0.005160435102880001\n",
      "loss 0.0033708475530147552\n",
      "loss 0.00500133540481329\n",
      "loss 0.004278483334928751\n",
      "loss 0.004370932932943106\n",
      "loss 0.003990783356130123\n",
      "loss 0.004818443208932877\n"
     ]
    },
    {
     "name": "stdout",
     "output_type": "stream",
     "text": [
      "loss 0.00550517113879323\n",
      "loss 0.006829822901636362\n",
      "loss 0.0048446254804730415\n",
      "loss 0.0054086847230792046\n",
      "loss 0.0033381956163793802\n",
      "loss 0.004152454435825348\n",
      "loss 0.005262495018541813\n",
      "loss 0.005306934472173452\n",
      "loss 0.004664430860430002\n",
      "loss 0.004751909989863634\n",
      "loss 0.004631999414414167\n",
      "loss 0.0066362181678414345\n",
      "loss 0.004446878097951412\n",
      "loss 0.005969853140413761\n",
      "loss 0.005566867999732494\n",
      "loss 0.004051114432513714\n",
      "loss 0.0033957636915147305\n",
      "loss 0.006604551337659359\n",
      "loss 0.005940152797847986\n",
      "loss 0.003917761147022247\n",
      "loss 0.0037598663475364447\n",
      "loss 0.007933218963444233\n",
      "loss 0.0056784143671393394\n",
      "loss 0.0055106994695961475\n",
      "loss 0.0042324974201619625\n",
      "loss 0.004332450684159994\n",
      "loss 0.0032918460201472044\n",
      "loss 0.005217366386204958\n",
      "loss 0.003863676218315959\n",
      "loss 0.002974248491227627\n",
      "loss 0.0038960271049290895\n",
      "loss 0.0031274098437279463\n",
      "loss 0.0042541190050542355\n",
      "loss 0.004529809113591909\n",
      "loss 0.005050045903772116\n",
      "loss 0.005053478293120861\n",
      "loss 0.005928144324570894\n",
      "loss 0.006175278685986996\n",
      "loss 0.00309182982891798\n",
      "loss 0.005143783520907164\n",
      "loss 0.003554664086550474\n",
      "loss 0.007120410446077585\n",
      "loss 0.005391574464738369\n",
      "loss 0.004111046902835369\n",
      "loss 0.0049616554751992226\n",
      "loss 0.0033274716697633266\n",
      "loss 0.005081011913716793\n",
      "loss 0.004814382176846266\n",
      "loss 0.004958045203238726\n",
      "loss 0.0028927382081747055\n",
      "loss 0.004273990634828806\n",
      "loss 0.005140780936926603\n",
      "loss 0.005996592342853546\n",
      "loss 0.004439425189048052\n",
      "loss 0.004143702797591686\n",
      "loss 0.004554677288979292\n",
      "loss 0.004841442685574293\n",
      "loss 0.008013672195374966\n",
      "loss 0.003811598988249898\n",
      "loss 0.004102397244423628\n",
      "loss 0.005499470978975296\n",
      "loss 0.005556890740990639\n",
      "loss 0.004902262706309557\n",
      "loss 0.0050384895876049995\n",
      "loss 0.005335276946425438\n",
      "loss 0.005583654623478651\n",
      "loss 0.007112707011401653\n",
      "loss 0.0051184785552322865\n",
      "loss 0.003414368722587824\n",
      "loss 0.004643842577934265\n",
      "loss 0.004461213946342468\n",
      "loss 0.003929439932107925\n",
      "loss 0.004346285946667194\n",
      "loss 0.005593328736722469\n",
      "loss 0.006395697593688965\n",
      "loss 0.007099112030118704\n",
      "loss 0.007701330352574587\n",
      "loss 0.004521912429481745\n",
      "loss 0.0055124214850366116\n",
      "loss 0.005540065933018923\n",
      "loss 0.002197584602981806\n",
      "loss 0.0032195113599300385\n",
      "loss 0.0032292280811816454\n",
      "loss 0.003303077071905136\n",
      "loss 0.007690162863582373\n",
      "loss 0.005445738788694143\n",
      "loss 0.003241273108869791\n",
      "loss 0.004745167214423418\n",
      "loss 0.0037936873268336058\n",
      "loss 0.0019178105285391212\n",
      "loss 0.00348973018117249\n",
      "loss 0.004515240900218487\n",
      "loss 0.004176046699285507\n",
      "loss 0.0060088010504841805\n",
      "loss 0.005419778171926737\n",
      "loss 0.006419585086405277\n",
      "loss 0.004197802860289812\n",
      "loss 0.0030885133892297745\n",
      "loss 0.006553447339683771\n",
      "loss 0.0050031691789627075\n",
      "loss 0.004687619395554066\n",
      "loss 0.004098669625818729\n",
      "loss 0.0043295444920659065\n",
      "loss 0.010431591421365738\n",
      "loss 0.0028571579605340958\n",
      "loss 0.005757090635597706\n",
      "loss 0.005896321963518858\n",
      "loss 0.004067154135555029\n",
      "loss 0.003243391402065754\n",
      "loss 0.003701466368511319\n",
      "loss 0.003954318817704916\n",
      "loss 0.004646163899451494\n",
      "loss 0.003015975235030055\n",
      "loss 0.004102462437003851\n",
      "loss 0.003174057463183999\n",
      "loss 0.006386549212038517\n",
      "loss 0.004110102541744709\n",
      "loss 0.005471580661833286\n",
      "loss 0.005909122992306948\n",
      "loss 0.004245733842253685\n",
      "loss 0.0032106549479067326\n",
      "loss 0.006237508729100227\n",
      "loss 0.006138491909950972\n",
      "loss 0.0066574630327522755\n",
      "loss 0.005314410664141178\n",
      "loss 0.00227306573651731\n",
      "loss 0.006125427316874266\n",
      "loss 0.004516921937465668\n",
      "loss 0.0031226903665810823\n",
      "loss 0.004048406146466732\n",
      "loss 0.004941634368151426\n",
      "loss 0.003749936819076538\n",
      "loss 0.003456895472481847\n",
      "loss 0.003963444381952286\n",
      "loss 0.0020512265618890524\n",
      "loss 0.009971330873668194\n",
      "loss 0.005032814107835293\n",
      "loss 0.005056959111243486\n",
      "loss 0.004176343325525522\n",
      "loss 0.007811098359525204\n",
      "loss 0.0024601544719189405\n",
      "loss 0.0046190377324819565\n",
      "loss 0.002805774798616767\n",
      "loss 0.003596952650696039\n",
      "loss 0.004811268765479326\n",
      "loss 0.00533713074401021\n",
      "loss 0.007180750370025635\n",
      "loss 0.0035709082148969173\n",
      "loss 0.004122843500226736\n",
      "loss 0.006574776489287615\n",
      "loss 0.002573915058746934\n",
      "loss 0.005824824329465628\n",
      "loss 0.0037178874481469393\n",
      "loss 0.004798017907887697\n",
      "loss 0.0039051841013133526\n",
      "loss 0.008588955737650394\n",
      "loss 0.005292929708957672\n",
      "loss 0.0034252495970577\n",
      "loss 0.0075925374403595924\n",
      "loss 0.003594208275899291\n",
      "loss 0.007470408454537392\n",
      "loss 0.003934824373573065\n",
      "loss 0.005101159680634737\n",
      "loss 0.0025936467573046684\n",
      "loss 0.003928318154066801\n",
      "loss 0.005413213279098272\n",
      "loss 0.0036085289902985096\n",
      "loss 0.0023610026109963655\n",
      "loss 0.007431541569530964\n",
      "loss 0.003517617704346776\n",
      "loss 0.005837568081915379\n",
      "loss 0.00814945437014103\n",
      "loss 0.002989041619002819\n",
      "loss 0.004927252419292927\n",
      "loss 0.004679676610976458\n",
      "loss 0.006510876584798098\n",
      "loss 0.005622398108243942\n",
      "loss 0.004895215388387442\n",
      "loss 0.003832797519862652\n",
      "loss 0.004160886164754629\n",
      "loss 0.0023618608247488737\n",
      "loss 0.007171286270022392\n",
      "loss 0.007170494645833969\n",
      "loss 0.00400560675188899\n",
      "loss 0.0029665769543498755\n",
      "loss 0.0038253325037658215\n",
      "loss 0.003326814854517579\n",
      "loss 0.006261495407670736\n",
      "loss 0.006501055788248777\n",
      "loss 0.0027564086485654116\n",
      "loss 0.0034495426807552576\n",
      "loss 0.0054815043695271015\n",
      "loss 0.003435832913964987\n",
      "loss 0.0037487398367375135\n",
      "loss 0.005025876685976982\n",
      "loss 0.005189294461160898\n",
      "loss 0.004892157390713692\n",
      "loss 0.005243456922471523\n",
      "loss 0.005158936604857445\n",
      "loss 0.003323251148685813\n",
      "loss 0.0032827125396579504\n",
      "loss 0.0038122411351650953\n",
      "loss 0.003904151963070035\n",
      "loss 0.004210709128528833\n",
      "loss 0.008139807730913162\n",
      "loss 0.00454001035541296\n",
      "loss 0.003357220208272338\n",
      "loss 0.004027193877846003\n",
      "loss 0.004449115600436926\n",
      "loss 0.007136597763746977\n",
      "loss 0.0038556093350052834\n",
      "loss 0.004458976909518242\n",
      "loss 0.002720368094742298\n",
      "loss 0.003958374261856079\n",
      "loss 0.00396976713091135\n",
      "loss 0.004302504006773233\n",
      "loss 0.004564600996673107\n",
      "loss 0.004430788103491068\n",
      "loss 0.002807095181196928\n",
      "loss 0.00422373553737998\n",
      "loss 0.005447982344776392\n",
      "loss 0.0056401584297418594\n",
      "loss 0.0032710819505155087\n",
      "loss 0.003805795218795538\n",
      "loss 0.005790327675640583\n",
      "loss 0.005293488036841154\n",
      "loss 0.004800934810191393\n",
      "loss 0.0049613420851528645\n",
      "loss 0.0034346573520451784\n",
      "loss 0.006484052166342735\n",
      "loss 0.003267861669883132\n",
      "loss 0.0033179200254380703\n",
      "loss 0.00280030257999897\n",
      "loss 0.0040023550391197205\n",
      "loss 0.0043026357889175415\n",
      "loss 0.005935401190072298\n",
      "loss 0.003840717254206538\n",
      "loss 0.003661607624962926\n",
      "loss 0.0044829645194113255\n",
      "loss 0.005788431502878666\n",
      "loss 0.0074058519676327705\n",
      "loss 0.005719984881579876\n",
      "loss 0.0032348204404115677\n",
      "loss 0.004071978386491537\n",
      "loss 0.004741923417896032\n",
      "loss 0.005927074234932661\n",
      "loss 0.004342677071690559\n",
      "loss 0.006893229205161333\n",
      "loss 0.005076542962342501\n",
      "loss 0.0049266936257481575\n",
      "loss 0.006414542440325022\n",
      "loss 0.008886844851076603\n",
      "loss 0.0030188129749149084\n",
      "loss 0.003637617686763406\n",
      "loss 0.006498923059552908\n",
      "loss 0.007894208654761314\n",
      "loss 0.004642975516617298\n",
      "loss 0.002721629571169615\n",
      "loss 0.004821185953915119\n",
      "loss 0.002012424636632204\n",
      "loss 0.0031528824474662542\n",
      "loss 0.005651732906699181\n",
      "loss 0.007631998043507338\n",
      "loss 0.003967543598264456\n",
      "loss 0.005283779930323362\n",
      "loss 0.0041596367955207825\n",
      "loss 0.0031161957886070013\n",
      "loss 0.005116438493132591\n",
      "loss 0.003458807012066245\n",
      "loss 0.003994012251496315\n",
      "loss 0.004900873638689518\n",
      "loss 0.00491200340911746\n",
      "loss 0.004182661417871714\n",
      "loss 0.002129019470885396\n",
      "loss 0.003875768044963479\n",
      "loss 0.004269111435860395\n",
      "loss 0.003743993118405342\n",
      "loss 0.004166756756603718\n"
     ]
    }
   ],
   "source": [
    "from tqdm import tqdm\n",
    "\n",
    "scores = []\n",
    "for i in range(noise_0508_fe.shape[0]):\n",
    "    loss = autoencoder.evaluate(noise_0508_fe[i:i+1], noise_0508_fe[i:i+1], batch_size=1, verbose=0)\n",
    "    scores.append(loss)\n",
    "    print('loss', loss)"
   ]
  },
  {
   "cell_type": "code",
   "execution_count": 61,
   "metadata": {
    "ExecuteTime": {
     "end_time": "2019-05-08T07:11:18.696949Z",
     "start_time": "2019-05-08T07:11:18.395175Z"
    }
   },
   "outputs": [
    {
     "name": "stderr",
     "output_type": "stream",
     "text": [
      "/home/zhudong/.virtualenvs/tf_keras_py3/lib/python3.6/site-packages/matplotlib/axes/_axes.py:6521: MatplotlibDeprecationWarning: \n",
      "The 'normed' kwarg was deprecated in Matplotlib 2.1 and will be removed in 3.1. Use 'density' instead.\n",
      "  alternative=\"'density'\", removal=\"3.1\")\n"
     ]
    },
    {
     "data": {
      "image/png": "[encoded data removed]",
      "text/plain": [
       "<Figure size 1296x720 with 1 Axes>"
      ]
     },
     "metadata": {
      "needs_background": "light"
     },
     "output_type": "display_data"
    }
   ],
   "source": [
    "plt.figure(figsize=(18,10))\n",
    "plt.hist(np.array(scores), bins=60, normed=0, facecolor=\"blue\", edgecolor=\"black\", alpha=0.7)\n",
    "# plt.hist(np.array(test_scores)[itemindex_notis], bins=60, normed=0, facecolor=\"red\", edgecolor=\"black\", alpha=0.7)\n",
    "\n",
    "# 显示图标题\n",
    "plt.title(\"频数/频率分布直方图\")\n",
    "plt.show()"
   ]
  },
  {
   "cell_type": "code",
   "execution_count": 62,
   "metadata": {
    "ExecuteTime": {
     "end_time": "2019-05-08T07:13:58.458477Z",
     "start_time": "2019-05-08T07:13:58.438419Z"
    }
   },
   "outputs": [
    {
     "name": "stdout",
     "output_type": "stream",
     "text": [
      "(211, 156)\n"
     ]
    }
   ],
   "source": [
    "fm_fe = load('fm_fea')\n",
    "\n",
    "print(np.array(fm_fe).shape)\n",
    "\n",
    "fm_fe = np.array(fm_fe)"
   ]
  },
  {
   "cell_type": "code",
   "execution_count": 63,
   "metadata": {
    "ExecuteTime": {
     "end_time": "2019-05-08T07:14:16.003694Z",
     "start_time": "2019-05-08T07:14:15.863126Z"
    }
   },
   "outputs": [
    {
     "name": "stdout",
     "output_type": "stream",
     "text": [
      "loss 0.0034342785365879536\n",
      "loss 0.0046722316183149815\n",
      "loss 0.003113050013780594\n",
      "loss 0.005226764362305403\n",
      "loss 0.11532853543758392\n",
      "loss 0.16330300271511078\n",
      "loss 0.004105798900127411\n",
      "loss 0.002957965712994337\n",
      "loss 0.004738789517432451\n",
      "loss 0.003420221386477351\n",
      "loss 0.0051957471296191216\n",
      "loss 0.004711605608463287\n",
      "loss 0.005088264588266611\n",
      "loss 0.008636952377855778\n",
      "loss 0.031157976016402245\n",
      "loss 0.0048259953036904335\n",
      "loss 0.8459299802780151\n",
      "loss 0.32033899426460266\n",
      "loss 0.15364807844161987\n",
      "loss 0.005249776877462864\n",
      "loss 0.004759578965604305\n",
      "loss 0.0028014983981847763\n",
      "loss 0.0028513334691524506\n",
      "loss 0.0036412763874977827\n",
      "loss 0.002851082943379879\n",
      "loss 0.007764987647533417\n",
      "loss 0.013871140778064728\n",
      "loss 0.003339578630402684\n",
      "loss 0.007820519618690014\n",
      "loss 0.07492724806070328\n",
      "loss 0.0058059231378138065\n",
      "loss 0.25639015436172485\n",
      "loss 0.03274022787809372\n",
      "loss 0.2352963238954544\n",
      "loss 0.6319450736045837\n",
      "loss 0.01236195769160986\n",
      "loss 0.0046374499797821045\n",
      "loss 0.1969781070947647\n",
      "loss 0.9984388947486877\n",
      "loss 0.04001840949058533\n",
      "loss 0.006422166712582111\n",
      "loss 0.9832272529602051\n",
      "loss 0.0026806334499269724\n",
      "loss 0.003720712149515748\n",
      "loss 0.0027903036680072546\n",
      "loss 0.24529826641082764\n",
      "loss 0.0032826338429003954\n",
      "loss 0.007377303671091795\n",
      "loss 0.004660460166633129\n",
      "loss 0.004803181160241365\n",
      "loss 0.003476313315331936\n",
      "loss 0.05629388988018036\n",
      "loss 0.594323992729187\n",
      "loss 0.18085092306137085\n",
      "loss 0.0040851919911801815\n",
      "loss 0.0047669378109276295\n",
      "loss 0.010769283398985863\n",
      "loss 1.39258873462677\n",
      "loss 0.0028484140057116747\n",
      "loss 1.1057325601577759\n",
      "loss 0.003723322646692395\n",
      "loss 0.0034615700133144855\n",
      "loss 0.006239381153136492\n",
      "loss 0.41508224606513977\n",
      "loss 0.003046806203201413\n",
      "loss 0.18274202942848206\n",
      "loss 1.0582226514816284\n",
      "loss 0.21285919845104218\n",
      "loss 0.32379215955734253\n",
      "loss 0.35950741171836853\n",
      "loss 0.0037391381338238716\n",
      "loss 0.0048803361132740974\n",
      "loss 0.007549370173364878\n",
      "loss 1.1002992391586304\n",
      "loss 1.0940508842468262\n",
      "loss 0.03528221696615219\n",
      "loss 0.1394847184419632\n",
      "loss 0.19836176931858063\n",
      "loss 0.18761222064495087\n",
      "loss 0.0078040254302322865\n",
      "loss 0.006282520014792681\n",
      "loss 0.004388486035168171\n",
      "loss 0.24844081699848175\n",
      "loss 0.0050644162110984325\n",
      "loss 0.005280692595988512\n",
      "loss 0.002677089534699917\n",
      "loss 0.17854855954647064\n",
      "loss 0.004592415411025286\n",
      "loss 0.003791411640122533\n",
      "loss 0.004084407817572355\n",
      "loss 0.00332364602945745\n",
      "loss 0.00864583533257246\n",
      "loss 0.0044812704436481\n",
      "loss 0.003360407194122672\n",
      "loss 0.01704777590930462\n",
      "loss 0.002520789159461856\n",
      "loss 0.006373738404363394\n",
      "loss 0.003792162984609604\n",
      "loss 0.04912085458636284\n",
      "loss 0.003576554823666811\n",
      "loss 0.7587316036224365\n",
      "loss 0.0030437863897532225\n",
      "loss 0.10341007262468338\n",
      "loss 0.0020630869548767805\n",
      "loss 0.005565269850194454\n",
      "loss 0.012351726181805134\n",
      "loss 0.9916428923606873\n",
      "loss 0.0034655111376196146\n",
      "loss 0.28268998861312866\n",
      "loss 0.004624875262379646\n",
      "loss 0.19597050547599792\n",
      "loss 0.0035051077138632536\n",
      "loss 0.3782983720302582\n",
      "loss 0.003126456867903471\n",
      "loss 0.05269122123718262\n",
      "loss 0.007339088711887598\n",
      "loss 0.006480997893959284\n",
      "loss 1.1946585178375244\n",
      "loss 0.16473403573036194\n",
      "loss 0.005888415966182947\n",
      "loss 0.016511647030711174\n",
      "loss 0.004663462284952402\n",
      "loss 0.005173797719180584\n",
      "loss 0.004048466682434082\n",
      "loss 0.0034784208983182907\n",
      "loss 0.005236105062067509\n",
      "loss 0.005650928243994713\n",
      "loss 0.006060235667973757\n",
      "loss 1.089320182800293\n",
      "loss 0.1929909586906433\n",
      "loss 1.2020937204360962\n",
      "loss 1.2453546524047852\n",
      "loss 1.1156913042068481\n",
      "loss 0.16616490483283997\n",
      "loss 1.0589927434921265\n",
      "loss 0.03627071529626846\n",
      "loss 0.25578463077545166\n",
      "loss 0.3499124050140381\n",
      "loss 0.2586117088794708\n",
      "loss 0.24640506505966187\n",
      "loss 0.004485652782022953\n",
      "loss 0.2318945974111557\n",
      "loss 0.9685428142547607\n",
      "loss 0.8847846984863281\n",
      "loss 0.004038751590996981\n",
      "loss 0.021531440317630768\n",
      "loss 0.003776900703087449\n",
      "loss 0.2207576334476471\n",
      "loss 0.008958842605352402\n",
      "loss 0.004486603196710348\n",
      "loss 0.005120272282510996\n",
      "loss 0.1894630491733551\n",
      "loss 0.1516645848751068\n",
      "loss 0.004827185533940792\n",
      "loss 0.16482096910476685\n",
      "loss 0.003235877025872469\n",
      "loss 0.22760741412639618\n",
      "loss 0.0038169485051184893\n",
      "loss 0.9456517100334167\n",
      "loss 0.3487027585506439\n",
      "loss 0.17789393663406372\n",
      "loss 0.19356957077980042\n",
      "loss 0.20483437180519104\n",
      "loss 0.008223753422498703\n",
      "loss 0.0033439130056649446\n",
      "loss 0.029831523075699806\n",
      "loss 0.003986612893640995\n",
      "loss 0.1709633767604828\n",
      "loss 0.1679670661687851\n",
      "loss 0.0034797145053744316\n",
      "loss 0.002253737300634384\n",
      "loss 0.20983870327472687\n",
      "loss 0.00451357988640666\n",
      "loss 0.024212032556533813\n",
      "loss 0.023175988346338272\n",
      "loss 0.004861460067331791\n",
      "loss 0.3142109513282776\n",
      "loss 0.005337382201105356\n",
      "loss 0.24813219904899597\n",
      "loss 0.004157269839197397\n",
      "loss 0.9154176115989685\n",
      "loss 0.0020969249308109283\n",
      "loss 0.0036954807583242655\n",
      "loss 0.020468460395932198\n",
      "loss 0.007963103242218494\n",
      "loss 0.025382332503795624\n",
      "loss 0.3827838897705078\n",
      "loss 0.005019617732614279\n",
      "loss 0.004049359820783138\n",
      "loss 0.006844096351414919\n",
      "loss 0.0063796741887927055\n",
      "loss 0.00977786723524332\n",
      "loss 0.00384899927303195\n",
      "loss 0.010219822637736797\n",
      "loss 0.18846774101257324\n",
      "loss 0.004360117483884096\n",
      "loss 0.002975192852318287\n",
      "loss 0.0035156686790287495\n",
      "loss 0.003553512040525675\n",
      "loss 0.0025676891673356295\n",
      "loss 0.006098083220422268\n",
      "loss 0.00282014487311244\n",
      "loss 0.003535310737788677\n",
      "loss 1.1163653135299683\n",
      "loss 0.004199681803584099\n",
      "loss 0.003659714013338089\n",
      "loss 0.003249483648687601\n",
      "loss 0.004458068870007992\n",
      "loss 0.38261300325393677\n",
      "loss 0.019323281943798065\n",
      "loss 0.15186966955661774\n"
     ]
    }
   ],
   "source": [
    "fm_scores = []\n",
    "\n",
    "for i in range(fm_fe.shape[0]):\n",
    "    loss = autoencoder.evaluate(fm_fe[i:i+1], fm_fe[i:i+1], batch_size=1, verbose=0)\n",
    "    fm_scores.append(loss)\n",
    "    print('loss', loss)"
   ]
  },
  {
   "cell_type": "code",
   "execution_count": 64,
   "metadata": {
    "ExecuteTime": {
     "end_time": "2019-05-08T07:15:18.442188Z",
     "start_time": "2019-05-08T07:15:18.078412Z"
    }
   },
   "outputs": [
    {
     "data": {
      "image/png": "[encoded data removed]",
      "text/plain": [
       "<Figure size 1296x720 with 1 Axes>"
      ]
     },
     "metadata": {
      "needs_background": "light"
     },
     "output_type": "display_data"
    }
   ],
   "source": [
    "plt.figure(figsize=(18,10))\n",
    "plt.hist(np.array(scores), bins=60, normed=0, facecolor=\"blue\", edgecolor=\"black\", alpha=0.7)\n",
    "# plt.hist(np.array(noise_scores), bins=60, normed=0, facecolor=\"red\", edgecolor=\"black\", alpha=0.7)\n",
    "plt.hist(np.array(fm_scores), bins=60, normed=0, facecolor=\"green\", edgecolor=\"black\", alpha=0.5)\n",
    "\n",
    "# 显示图标题\n",
    "plt.title(\"频数/频率分布直方图\")\n",
    "plt.show()"
   ]
  },
  {
   "cell_type": "code",
   "execution_count": 65,
   "metadata": {
    "ExecuteTime": {
     "end_time": "2019-05-08T07:16:46.425722Z",
     "start_time": "2019-05-08T07:16:46.423643Z"
    }
   },
   "outputs": [],
   "source": [
    "tmp_fm_scores= np.array(fm_scores)\n",
    "\n",
    "tmp_fm_scores_s=tmp_fm_scores[tmp_fm_scores<0.55]"
   ]
  },
  {
   "cell_type": "code",
   "execution_count": 66,
   "metadata": {
    "ExecuteTime": {
     "end_time": "2019-05-08T07:16:59.749433Z",
     "start_time": "2019-05-08T07:16:59.391622Z"
    }
   },
   "outputs": [
    {
     "data": {
      "image/png": "[encoded data removed]",
      "text/plain": [
       "<Figure size 1296x720 with 1 Axes>"
      ]
     },
     "metadata": {
      "needs_background": "light"
     },
     "output_type": "display_data"
    }
   ],
   "source": [
    "plt.figure(figsize=(18,10))\n",
    "plt.hist(np.array(scores), bins=60, normed=0, facecolor=\"blue\", edgecolor=\"black\", alpha=0.7)\n",
    "# plt.hist(np.array(noise_scores), bins=60, normed=0, facecolor=\"red\", edgecolor=\"black\", alpha=0.7)\n",
    "plt.hist(np.array(tmp_fm_scores_s), bins=60, normed=0, facecolor=\"green\", edgecolor=\"black\", alpha=0.5)\n",
    "\n",
    "# 显示图标题\n",
    "plt.title(\"频数/频率分布直方图\")\n",
    "plt.show()"
   ]
  },
  {
   "cell_type": "code",
   "execution_count": 67,
   "metadata": {
    "ExecuteTime": {
     "end_time": "2019-05-08T07:23:08.047190Z",
     "start_time": "2019-05-08T07:23:07.134436Z"
    }
   },
   "outputs": [
    {
     "name": "stderr",
     "output_type": "stream",
     "text": [
      "1it [00:00,  8.53it/s]"
     ]
    },
    {
     "name": "stdout",
     "output_type": "stream",
     "text": [
      "Extracting features ...\n",
      "文件路径:../feishouquan/93.7MHz.wav, 文件名:93.7MHz, loss: 0.013479077257215977\n"
     ]
    },
    {
     "name": "stderr",
     "output_type": "stream",
     "text": [
      "3it [00:00,  8.12it/s]"
     ]
    },
    {
     "name": "stdout",
     "output_type": "stream",
     "text": [
      "文件路径:../feishouquan/87.6MHz.wav, 文件名:87.6MHz, loss: 0.08072589337825775\n",
      "文件路径:../feishouquan/94.1MHz.wav, 文件名:94.1MHz, loss: 0.03308891877532005\n"
     ]
    },
    {
     "name": "stderr",
     "output_type": "stream",
     "text": [
      "5it [00:00,  7.83it/s]"
     ]
    },
    {
     "name": "stdout",
     "output_type": "stream",
     "text": [
      "文件路径:../feishouquan/89.4MHz.wav, 文件名:89.4MHz, loss: 0.25195199251174927\n",
      "文件路径:../feishouquan/87.7MHz.wav, 文件名:87.7MHz, loss: 0.019116347655653954\n"
     ]
    },
    {
     "name": "stderr",
     "output_type": "stream",
     "text": [
      "7it [00:00,  7.65it/s]"
     ]
    },
    {
     "name": "stdout",
     "output_type": "stream",
     "text": [
      "文件路径:../feishouquan/94.2MHz.wav, 文件名:94.2MHz, loss: 0.03430640324950218\n",
      "文件路径:../feishouquan/102.5MHz.wav, 文件名:102.5MHz, loss: 0.004825294483453035\n",
      "Done.\n"
     ]
    },
    {
     "name": "stderr",
     "output_type": "stream",
     "text": [
      "\n"
     ]
    }
   ],
   "source": [
    "from tqdm import tqdm\n",
    "\n",
    "print(\"Extracting features ...\")\n",
    "tmps = []\n",
    "\n",
    "tmps_fm_scores = []\n",
    "file_name = {}\n",
    "\n",
    "for i, (raw_file_name, joined_file_path) in tqdm(enumerate(collect_files('../feishouquan'))):\n",
    "    _, sig = wav.read(joined_file_path)\n",
    "    fea = extract(sig)\n",
    "    feats = normalize_frames(np.array(fea))\n",
    "    loss = autoencoder.evaluate(feats.reshape(1,-1), feats.reshape(1,-1), batch_size=1, verbose=0)\n",
    "    tmps_fm_scores.append(loss)\n",
    "    print(\"文件路径:{}, 文件名:{}, loss: {}\".format(joined_file_path, raw_file_name, loss))\n",
    "    file_name[raw_file_name]=loss\n",
    "        \n",
    "print(\"Done.\")"
   ]
  },
  {
   "cell_type": "code",
   "execution_count": 68,
   "metadata": {
    "ExecuteTime": {
     "end_time": "2019-05-08T07:23:46.624418Z",
     "start_time": "2019-05-08T07:23:46.257823Z"
    }
   },
   "outputs": [
    {
     "data": {
      "image/png": "[encoded data removed]",
      "text/plain": [
       "<Figure size 1296x720 with 1 Axes>"
      ]
     },
     "metadata": {
      "needs_background": "light"
     },
     "output_type": "display_data"
    }
   ],
   "source": [
    "plt.figure(figsize=(18,10))\n",
    "plt.hist(np.array(scores), bins=60, normed=0, facecolor=\"blue\", edgecolor=\"black\", alpha=0.7)\n",
    "plt.hist(np.array(tmps_fm_scores), bins=60, normed=0, facecolor=\"green\", edgecolor=\"black\", alpha=0.5)\n",
    "\n",
    "# 显示图标题\n",
    "plt.title(\"频数/频率分布直方图\")\n",
    "plt.show()"
   ]
  },
  {
   "cell_type": "code",
   "execution_count": null,
   "metadata": {},
   "outputs": [],
   "source": []
  }
 ],
 "metadata": {
  "kernelspec": {
   "display_name": "tf_keras_py3",
   "language": "python",
   "name": "tf_keras_py3"
  },
  "language_info": {
   "codemirror_mode": {
    "name": "ipython",
    "version": 3
   },
   "file_extension": ".py",
   "mimetype": "text/x-python",
   "name": "python",
   "nbconvert_exporter": "python",
   "pygments_lexer": "ipython3",
   "version": "3.6.7"
  },
  "latex_envs": {
   "LaTeX_envs_menu_present": true,
   "autoclose": false,
   "autocomplete": true,
   "bibliofile": "biblio.bib",
   "cite_by": "apalike",
   "current_citInitial": 1,
   "eqLabelWithNumbers": true,
   "eqNumInitial": 1,
   "hotkeys": {
    "equation": "Ctrl-E",
    "itemize": "Ctrl-I"
   },
   "labels_anchors": false,
   "latex_user_defs": false,
   "report_style_numbering": false,
   "user_envs_cfg": false
  },
  "toc": {
   "base_numbering": 1,
   "nav_menu": {},
   "number_sections": true,
   "sideBar": true,
   "skip_h1_title": false,
   "title_cell": "Table of Contents",
   "title_sidebar": "Contents",
   "toc_cell": true,
   "toc_position": {},
   "toc_section_display": true,
   "toc_window_display": true
  },
  "varInspector": {
   "cols": {
    "lenName": 16,
    "lenType": 16,
    "lenVar": 40
   },
   "kernels_config": {
    "python": {
     "delete_cmd_postfix": "",
     "delete_cmd_prefix": "del ",
     "library": "var_list.py",
     "varRefreshCmd": "print(var_dic_list())"
    },
    "r": {
     "delete_cmd_postfix": ") ",
     "delete_cmd_prefix": "rm(",
     "library": "var_list.r",
     "varRefreshCmd": "cat(var_dic_list()) "
    }
   },
   "types_to_exclude": [
    "module",
    "function",
    "builtin_function_or_method",
    "instance",
    "_Feature"
   ],
   "window_display": false
  }
 },
 "nbformat": 4,
 "nbformat_minor": 2
}
